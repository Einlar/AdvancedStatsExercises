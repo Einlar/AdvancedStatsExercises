{
 "cells": [
  {
   "cell_type": "markdown",
   "metadata": {},
   "source": [
    "S3 vectors built on top of lists:\n",
    "- data frames \n",
    "- tibbles (more advanced and robust)\n",
    "\n",
    "Data frame: named list of vectors, belonging to the data.frame class."
   ]
  },
  {
   "cell_type": "code",
   "execution_count": null,
   "metadata": {},
   "outputs": [],
   "source": [
    "#Named dataframe\n",
    "df1 <- data.frame(x = 1:3, y = letters[1:3]) #two elements, 'x' and 'y', with the SAME number of rows\n",
    "df1"
   ]
  },
  {
   "cell_type": "code",
   "execution_count": null,
   "metadata": {},
   "outputs": [],
   "source": [
    "df2 <- data.frame(x = 1:3, y = letters[1:2]) #error, y has 2 rows, while x has 3"
   ]
  },
  {
   "cell_type": "code",
   "execution_count": null,
   "metadata": {},
   "outputs": [],
   "source": [
    "attributes(df1) #show row/column names"
   ]
  },
  {
   "cell_type": "code",
   "execution_count": null,
   "metadata": {},
   "outputs": [],
   "source": [
    "#Unnamed dataframe\n",
    "df2 <- data.frame(1:3, letters[1:3]) #a name is assigned automatically\n",
    "df2"
   ]
  },
  {
   "cell_type": "code",
   "execution_count": 2,
   "metadata": {},
   "outputs": [
    {
     "data": {
      "text/html": [
       "<table>\n",
       "<thead><tr><th scope=col>exam1</th><th scope=col>exam2</th><th scope=col>gender</th></tr></thead>\n",
       "<tbody>\n",
       "\t<tr><td>27</td><td>25</td><td>M </td></tr>\n",
       "\t<tr><td>28</td><td>30</td><td>F </td></tr>\n",
       "</tbody>\n",
       "</table>\n"
      ],
      "text/latex": [
       "\\begin{tabular}{r|lll}\n",
       " exam1 & exam2 & gender\\\\\n",
       "\\hline\n",
       "\t 27 & 25 & M \\\\\n",
       "\t 28 & 30 & F \\\\\n",
       "\\end{tabular}\n"
      ],
      "text/markdown": [
       "\n",
       "| exam1 | exam2 | gender |\n",
       "|---|---|---|\n",
       "| 27 | 25 | M  |\n",
       "| 28 | 30 | F  |\n",
       "\n"
      ],
      "text/plain": [
       "  exam1 exam2 gender\n",
       "1 27    25    M     \n",
       "2 28    30    F     "
      ]
     },
     "metadata": {},
     "output_type": "display_data"
    }
   ],
   "source": [
    "exam1 <- c(27, 28, 24, 24)\n",
    "exam2 <- c(25, 30, 26, 24)\n",
    "\n",
    "gender <- c(\"M\", \"F\", \"M\", \"M\")\n",
    "\n",
    "dc <- data.frame(exam1, exam2, gender) #create dataframe from vectors\n",
    "head(dc, n=2) #prints header + first 2 rows"
   ]
  },
  {
   "cell_type": "code",
   "execution_count": null,
   "metadata": {},
   "outputs": [],
   "source": [
    "str(dc) #note that the third column has been converted to factors\n",
    "#so we lose the character identity of the values: they are converted to numbers"
   ]
  },
  {
   "cell_type": "code",
   "execution_count": null,
   "metadata": {},
   "outputs": [],
   "source": [
    "#We can avoid this by specifying\n",
    "dc <- data.frame(exam1, exam2, gender, stringsAsFactors=FALSE)\n",
    "str(dc) #preserves characters"
   ]
  },
  {
   "cell_type": "code",
   "execution_count": null,
   "metadata": {},
   "outputs": [],
   "source": [
    "d1 <- data.frame(x = c(1, 2, 3), \n",
    "                 y = c(5, 7, 9))\n",
    "d1"
   ]
  },
  {
   "cell_type": "code",
   "execution_count": null,
   "metadata": {},
   "outputs": [],
   "source": [
    "#Copy on modify happens also for dataframes (as they are list).\n",
    "library(lobstr)"
   ]
  },
  {
   "cell_type": "code",
   "execution_count": null,
   "metadata": {},
   "outputs": [],
   "source": [
    "lobstr::ref(d1)"
   ]
  },
  {
   "cell_type": "code",
   "execution_count": null,
   "metadata": {},
   "outputs": [],
   "source": [
    "d2 <- d1 #creates a reference to d1\n",
    "lobstr::ref(d2) #same addresses as d1"
   ]
  },
  {
   "cell_type": "code",
   "execution_count": null,
   "metadata": {},
   "outputs": [],
   "source": [
    "d2[, 2] <- d2[, 2] * 2 #modify the second column\n",
    "lobstr::ref(d2) #now the address for the second column has changed (but the first one not!)"
   ]
  },
  {
   "cell_type": "code",
   "execution_count": null,
   "metadata": {},
   "outputs": [],
   "source": [
    "#what if we modify a row?\n",
    "d3 <- d1\n",
    "lobstr::ref(d3) #same as before\n",
    "\n",
    "d3[1, ] <- d3[1, ] * 3\n",
    "lobstr::ref(d3) #both columns change!"
   ]
  },
  {
   "cell_type": "markdown",
   "metadata": {},
   "source": [
    "So modifying single columns is quick, but modifying a row effectively re-creates the entire data.frame"
   ]
  },
  {
   "cell_type": "code",
   "execution_count": null,
   "metadata": {},
   "outputs": [],
   "source": [
    "#Sometimes modify on copy does not apply. There are 2 main exceptions\n",
    "\n",
    "#Single binding, i.e. object that is bound to a single reference\n",
    "v <- c(1, 3, 2)\n",
    "lobstr::ref(v)\n",
    "\n",
    "v[[3]] <- 4 #modify a single element on a vector that is referred by a single variable\n",
    "lobstr::ref(v) #the address does not change, modification happens in-place (why does it change!?)\n",
    "#it does work in R terminal, but nothere on jupyter"
   ]
  },
  {
   "cell_type": "markdown",
   "metadata": {},
   "source": [
    "## Accessing elements"
   ]
  },
  {
   "cell_type": "code",
   "execution_count": null,
   "metadata": {},
   "outputs": [],
   "source": [
    "dc[,2] #second column"
   ]
  },
  {
   "cell_type": "code",
   "execution_count": null,
   "metadata": {},
   "outputs": [],
   "source": [
    "dc[[2]] #second element is the second column (remember that the dataframe is a list of vectors)"
   ]
  },
  {
   "cell_type": "code",
   "execution_count": null,
   "metadata": {},
   "outputs": [],
   "source": [
    "dc$gender #access by name"
   ]
  },
  {
   "cell_type": "code",
   "execution_count": null,
   "metadata": {},
   "outputs": [],
   "source": [
    "dc$ge #or by abbreviations (works sometimes)"
   ]
  },
  {
   "cell_type": "code",
   "execution_count": null,
   "metadata": {},
   "outputs": [],
   "source": [
    "dc[1,1] #acccess single element"
   ]
  },
  {
   "cell_type": "code",
   "execution_count": null,
   "metadata": {},
   "outputs": [],
   "source": [
    "#We can label also rows\n",
    "df1 <- data.frame( age = c(35, 25, 18),\n",
    "                   hair = c(\"blond\", \"brown\", NA),\n",
    "                   row.names = c(\"Bob\", \"Tom\", \"Sam\"))\n",
    "df1"
   ]
  },
  {
   "cell_type": "code",
   "execution_count": null,
   "metadata": {},
   "outputs": [],
   "source": [
    "names(df1)"
   ]
  },
  {
   "cell_type": "code",
   "execution_count": null,
   "metadata": {},
   "outputs": [],
   "source": [
    "row.names(df1)"
   ]
  },
  {
   "cell_type": "code",
   "execution_count": null,
   "metadata": {},
   "outputs": [],
   "source": [
    "#However row names are a BAD PRACTICE: use another column!"
   ]
  },
  {
   "cell_type": "code",
   "execution_count": null,
   "metadata": {},
   "outputs": [],
   "source": [
    "dc[sample(1:4,2),] #sample 2 rows"
   ]
  },
  {
   "cell_type": "code",
   "execution_count": null,
   "metadata": {},
   "outputs": [],
   "source": [
    "data <- data.frame(slope = c(11, NA, 3, 5),\n",
    "                   pH = c(4.1, 5.2, 4.9, NA),\n",
    "                   area = c(3.6, 5.1, 2.8, 3.7)) \n",
    "data"
   ]
  },
  {
   "cell_type": "code",
   "execution_count": null,
   "metadata": {},
   "outputs": [],
   "source": [
    "na.omit(data)  #remove rows with NAs"
   ]
  },
  {
   "cell_type": "code",
   "execution_count": null,
   "metadata": {},
   "outputs": [],
   "source": [
    "clean_data <- na.exclude(data)"
   ]
  },
  {
   "cell_type": "code",
   "execution_count": null,
   "metadata": {},
   "outputs": [],
   "source": [
    "install.packages(\"tidyverse\")"
   ]
  },
  {
   "cell_type": "markdown",
   "metadata": {},
   "source": [
    "# Tibble"
   ]
  },
  {
   "cell_type": "code",
   "execution_count": 1,
   "metadata": {},
   "outputs": [
    {
     "name": "stderr",
     "output_type": "stream",
     "text": [
      "Warning message:\n",
      "\"package 'tidyverse' was built under R version 3.6.3\"-- Attaching packages --------------------------------------- tidyverse 1.3.0 --\n",
      "v ggplot2 3.3.0     v purrr   0.3.3\n",
      "v tibble  2.1.3     v dplyr   0.8.5\n",
      "v tidyr   1.0.2     v stringr 1.4.0\n",
      "v readr   1.3.1     v forcats 0.4.0\n",
      "Warning message:\n",
      "\"package 'ggplot2' was built under R version 3.6.3\"Warning message:\n",
      "\"package 'tibble' was built under R version 3.6.3\"Warning message:\n",
      "\"package 'tidyr' was built under R version 3.6.3\"Warning message:\n",
      "\"package 'purrr' was built under R version 3.6.3\"Warning message:\n",
      "\"package 'dplyr' was built under R version 3.6.3\"-- Conflicts ------------------------------------------ tidyverse_conflicts() --\n",
      "x dplyr::filter() masks stats::filter()\n",
      "x dplyr::lag()    masks stats::lag()\n"
     ]
    }
   ],
   "source": [
    "library(tidyverse)"
   ]
  },
  {
   "cell_type": "code",
   "execution_count": 3,
   "metadata": {},
   "outputs": [],
   "source": [
    "dct <- tibble(dc) #convert data.frame to tibble"
   ]
  },
  {
   "cell_type": "code",
   "execution_count": 6,
   "metadata": {},
   "outputs": [
    {
     "name": "stderr",
     "output_type": "stream",
     "text": [
      "ERROR while rich displaying an object: Error in vapply(part, format, character(nrow(part))): values must be length 4,\n",
      " but FUN(X[[1]]) result is length 3\n",
      "\n",
      "Traceback:\n",
      "1. FUN(X[[i]], ...)\n",
      "2. tryCatch(withCallingHandlers({\n",
      " .     if (!mime %in% names(repr::mime2repr)) \n",
      " .         stop(\"No repr_* for mimetype \", mime, \" in repr::mime2repr\")\n",
      " .     rpr <- repr::mime2repr[[mime]](obj)\n",
      " .     if (is.null(rpr)) \n",
      " .         return(NULL)\n",
      " .     prepare_content(is.raw(rpr), rpr)\n",
      " . }, error = error_handler), error = outer_handler)\n",
      "3. tryCatchList(expr, classes, parentenv, handlers)\n",
      "4. tryCatchOne(expr, names, parentenv, handlers[[1L]])\n",
      "5. doTryCatch(return(expr), name, parentenv, handler)\n",
      "6. withCallingHandlers({\n",
      " .     if (!mime %in% names(repr::mime2repr)) \n",
      " .         stop(\"No repr_* for mimetype \", mime, \" in repr::mime2repr\")\n",
      " .     rpr <- repr::mime2repr[[mime]](obj)\n",
      " .     if (is.null(rpr)) \n",
      " .         return(NULL)\n",
      " .     prepare_content(is.raw(rpr), rpr)\n",
      " . }, error = error_handler)\n",
      "7. repr::mime2repr[[mime]](obj)\n",
      "8. repr_text.data.frame(obj)\n",
      "9. ellip_limit_arr(obj, ...)\n",
      "10. arr_parts_format(parts)\n",
      "11. structure(lapply(parts, arr_part_format), omit = attr(parts, \n",
      "  .     \"omit\"))\n",
      "12. lapply(parts, arr_part_format)\n",
      "13. FUN(X[[i]], ...)\n",
      "14. vapply(part, format, character(nrow(part)))\n"
     ]
    }
   ],
   "source": [
    "dct"
   ]
  },
  {
   "cell_type": "code",
   "execution_count": null,
   "metadata": {},
   "outputs": [],
   "source": []
  }
 ],
 "metadata": {
  "kernelspec": {
   "display_name": "R",
   "language": "R",
   "name": "ir"
  },
  "language_info": {
   "codemirror_mode": "r",
   "file_extension": ".r",
   "mimetype": "text/x-r-source",
   "name": "R",
   "pygments_lexer": "r",
   "version": "3.6.1"
  }
 },
 "nbformat": 4,
 "nbformat_minor": 2
}
