{
 "cells": [
  {
   "cell_type": "code",
   "execution_count": null,
   "metadata": {},
   "outputs": [],
   "source": [
    "x <- c(1,2,3)\n",
    "y <- x\n",
    "y[3] <- 4\n",
    "\n",
    "str(x)\n",
    "str(y)"
   ]
  },
  {
   "cell_type": "markdown",
   "metadata": {},
   "source": [
    "Variables are references. When copying x in y, we are not copying the data, but we have two references to the same object. If then $y$ changes, R creates a copy laso of the data.\n",
    "\n",
    "To inspect the internal data structure and memory allocation we can use the package lobstr."
   ]
  },
  {
   "cell_type": "code",
   "execution_count": null,
   "metadata": {},
   "outputs": [],
   "source": [
    "install.packages(\"lobstr\")"
   ]
  },
  {
   "cell_type": "code",
   "execution_count": null,
   "metadata": {},
   "outputs": [],
   "source": [
    "lobstr::obj_addr(x) #we can use the package name as a namespace, with \"::\" to access its methods"
   ]
  },
  {
   "cell_type": "code",
   "execution_count": null,
   "metadata": {},
   "outputs": [],
   "source": [
    "help(package=lobstr) #Access documentation"
   ]
  },
  {
   "cell_type": "code",
   "execution_count": null,
   "metadata": {},
   "outputs": [],
   "source": [
    "library(lobstr) #loads the package, so that we do not need to use its namespace"
   ]
  },
  {
   "cell_type": "code",
   "execution_count": null,
   "metadata": {},
   "outputs": [],
   "source": [
    "#So, let's redo the above experiment and inspect it with lobstr"
   ]
  },
  {
   "cell_type": "code",
   "execution_count": null,
   "metadata": {},
   "outputs": [],
   "source": [
    "a <- c(1,2,3)\n",
    "b <- a\n",
    "\n",
    "obj_addr(a); obj_addr(b) #same address"
   ]
  },
  {
   "cell_type": "code",
   "execution_count": null,
   "metadata": {},
   "outputs": [],
   "source": [
    "b[1] <- 2\n",
    "\n",
    "obj_addr(a); obj_addr(b) #address of b changes"
   ]
  },
  {
   "cell_type": "markdown",
   "metadata": {},
   "source": [
    "## Lists"
   ]
  },
  {
   "cell_type": "code",
   "execution_count": null,
   "metadata": {},
   "outputs": [],
   "source": [
    "l1 <- list( 1:3, \"list element\", c(TRUE, FALSE, FALSE), c(3.5, 4, 6.2, -1.75))\n",
    "typeof(l1)"
   ]
  },
  {
   "cell_type": "markdown",
   "metadata": {},
   "source": [
    "Lists contain several different objects, as a list of references to them. R has a garbage collector, and so automatically deallocates memory when the last reference to an object goes out of scope."
   ]
  },
  {
   "cell_type": "code",
   "execution_count": null,
   "metadata": {},
   "outputs": [],
   "source": [
    "ref(l1) #inspect the list: gives the address to each of its objects"
   ]
  },
  {
   "cell_type": "markdown",
   "metadata": {},
   "source": [
    "## Matrices"
   ]
  },
  {
   "cell_type": "code",
   "execution_count": null,
   "metadata": {},
   "outputs": [],
   "source": [
    "X <- matrix (c(1,0,0,0,1,0,0,0,1) , nrow =3) ; X"
   ]
  },
  {
   "cell_type": "code",
   "execution_count": null,
   "metadata": {},
   "outputs": [],
   "source": [
    "class(X)\n",
    "attributes(X)\n",
    "str(X)"
   ]
  },
  {
   "cell_type": "code",
   "execution_count": null,
   "metadata": {},
   "outputs": [],
   "source": [
    "vct <- c(1,2,3,4,4,3,2,1)\n",
    "V <- matrix ( vct , byrow =T , nrow =2) #equivalent to vct.reshape((4,2))\n",
    "V"
   ]
  },
  {
   "cell_type": "code",
   "execution_count": null,
   "metadata": {},
   "outputs": [],
   "source": [
    "V <- matrix ( vct , byrow =F , nrow =2)\n",
    "V"
   ]
  },
  {
   "cell_type": "code",
   "execution_count": null,
   "metadata": {},
   "outputs": [],
   "source": [
    "X <- matrix(rpois(n=20, lambda=1.5), nrow=4) #Fill matrix with samples from Poisson distribution\n",
    "X"
   ]
  },
  {
   "cell_type": "code",
   "execution_count": null,
   "metadata": {},
   "outputs": [],
   "source": [
    "X[3,3]"
   ]
  },
  {
   "cell_type": "code",
   "execution_count": null,
   "metadata": {},
   "outputs": [],
   "source": [
    "X[4,] #row 4"
   ]
  },
  {
   "cell_type": "code",
   "execution_count": null,
   "metadata": {},
   "outputs": [],
   "source": [
    "X[,5] #column 5"
   ]
  },
  {
   "cell_type": "code",
   "execution_count": null,
   "metadata": {},
   "outputs": [],
   "source": [
    "rowSums(X)"
   ]
  },
  {
   "cell_type": "code",
   "execution_count": null,
   "metadata": {},
   "outputs": [],
   "source": [
    "rowMeans(X)"
   ]
  },
  {
   "cell_type": "code",
   "execution_count": null,
   "metadata": {},
   "outputs": [],
   "source": [
    "#Adding rows and columns\n",
    "\n",
    "vct <- matrix(c(1,0,2,5,1,1,3,1,3,1,0,2,1,0,2,1), byrow=T, nrow=4)\n",
    "vct"
   ]
  },
  {
   "cell_type": "code",
   "execution_count": null,
   "metadata": {},
   "outputs": [],
   "source": [
    "vct <- rbind(vct, apply(vct, 2, mean)) #rbind combines \"by row\", i.e. merges the vectors returned by the apply function as rows"
   ]
  },
  {
   "cell_type": "code",
   "execution_count": null,
   "metadata": {},
   "outputs": [],
   "source": [
    "vct <- cbind(vct, apply(vct, 1, var))"
   ]
  },
  {
   "cell_type": "code",
   "execution_count": null,
   "metadata": {},
   "outputs": [],
   "source": [
    "#apply(matrix, axis, functin): iterates over vectors on axis (1=rows, 2=columns) of that matrix"
   ]
  },
  {
   "cell_type": "code",
   "execution_count": null,
   "metadata": {},
   "outputs": [],
   "source": [
    "colnames(vct) <- c(1:4, \"variance\") #Name the fields\n",
    "rownames(vct) <- c(1:4, \"mean\")\n",
    "#Note that 1:4 are converted to characters (names are always characters)"
   ]
  },
  {
   "cell_type": "code",
   "execution_count": null,
   "metadata": {},
   "outputs": [],
   "source": [
    "vct"
   ]
  },
  {
   "cell_type": "code",
   "execution_count": null,
   "metadata": {},
   "outputs": [],
   "source": [
    "(Y <- matrix(rbinom(20, 9, 0.45), nrow=4)) #adding brackets around prints the result"
   ]
  },
  {
   "cell_type": "code",
   "execution_count": null,
   "metadata": {},
   "outputs": [],
   "source": [
    "apply(Y, MARGIN=2, FUN=sum) #sum the values in columns"
   ]
  },
  {
   "cell_type": "code",
   "execution_count": null,
   "metadata": {},
   "outputs": [],
   "source": [
    "apply(Y, 1, function(x) x^2+x) #can use lambda functions"
   ]
  },
  {
   "cell_type": "code",
   "execution_count": null,
   "metadata": {},
   "outputs": [],
   "source": [
    "sapply(12:14, seq) #applies function to a vector, generates three sequences: 1:12, 1:13 and 1:14 (seq(12), seq(13), seq(14))"
   ]
  },
  {
   "cell_type": "code",
   "execution_count": null,
   "metadata": {},
   "outputs": [],
   "source": [
    "#Set random seed\n",
    "set.seed(2019)\n",
    "runif(3) #uniform U(0,1) distribution"
   ]
  },
  {
   "cell_type": "code",
   "execution_count": null,
   "metadata": {},
   "outputs": [],
   "source": [
    "#at any moment we can save the current random seed\n",
    "current.seed <- .Random.seed"
   ]
  },
  {
   "cell_type": "code",
   "execution_count": null,
   "metadata": {},
   "outputs": [],
   "source": [
    "runif(3)"
   ]
  },
  {
   "cell_type": "code",
   "execution_count": null,
   "metadata": {},
   "outputs": [],
   "source": [
    "runif(3)"
   ]
  },
  {
   "cell_type": "code",
   "execution_count": null,
   "metadata": {},
   "outputs": [],
   "source": [
    "current.seed -> .Random.seed #resets the seed\n",
    "runif(5) #we get the same sequence as before!"
   ]
  },
  {
   "cell_type": "code",
   "execution_count": null,
   "metadata": {},
   "outputs": [],
   "source": [
    "y <- c(8,3,5,7,6,6,8,9,2,3,9,4,10,4,11)\n",
    "\n",
    "sample(y) #permutates the elements (sampling WITHOUT replacement)"
   ]
  },
  {
   "cell_type": "code",
   "execution_count": null,
   "metadata": {},
   "outputs": [],
   "source": [
    "sample(y, 3) #samples only 3 elements"
   ]
  },
  {
   "cell_type": "code",
   "execution_count": null,
   "metadata": {},
   "outputs": [],
   "source": [
    "sample (y , replace =T ) #with replacement"
   ]
  },
  {
   "cell_type": "code",
   "execution_count": 1,
   "metadata": {},
   "outputs": [
    {
     "data": {
      "text/html": [
       "<ol class=list-inline>\n",
       "\t<li>10</li>\n",
       "\t<li>9</li>\n",
       "</ol>\n"
      ],
      "text/latex": [
       "\\begin{enumerate*}\n",
       "\\item 10\n",
       "\\item 9\n",
       "\\end{enumerate*}\n"
      ],
      "text/markdown": [
       "1. 10\n",
       "2. 9\n",
       "\n",
       "\n"
      ],
      "text/plain": [
       "[1] 10  9"
      ]
     },
     "metadata": {},
     "output_type": "display_data"
    }
   ],
   "source": [
    "x <- 1:10\n",
    "sample(x[x>8])\n"
   ]
  },
  {
   "cell_type": "code",
   "execution_count": 6,
   "metadata": {},
   "outputs": [
    {
     "data": {
      "text/html": [
       "<ol class=list-inline>\n",
       "\t<li>5</li>\n",
       "\t<li>10</li>\n",
       "\t<li>9</li>\n",
       "\t<li>3</li>\n",
       "\t<li>8</li>\n",
       "\t<li>4</li>\n",
       "\t<li>1</li>\n",
       "\t<li>6</li>\n",
       "\t<li>2</li>\n",
       "\t<li>7</li>\n",
       "</ol>\n"
      ],
      "text/latex": [
       "\\begin{enumerate*}\n",
       "\\item 5\n",
       "\\item 10\n",
       "\\item 9\n",
       "\\item 3\n",
       "\\item 8\n",
       "\\item 4\n",
       "\\item 1\n",
       "\\item 6\n",
       "\\item 2\n",
       "\\item 7\n",
       "\\end{enumerate*}\n"
      ],
      "text/markdown": [
       "1. 5\n",
       "2. 10\n",
       "3. 9\n",
       "4. 3\n",
       "5. 8\n",
       "6. 4\n",
       "7. 1\n",
       "8. 6\n",
       "9. 2\n",
       "10. 7\n",
       "\n",
       "\n"
      ],
      "text/plain": [
       " [1]  5 10  9  3  8  4  1  6  2  7"
      ]
     },
     "metadata": {},
     "output_type": "display_data"
    },
    {
     "data": {
      "text/html": [
       "<ol class=list-inline>\n",
       "\t<li>10</li>\n",
       "\t<li>9</li>\n",
       "</ol>\n"
      ],
      "text/latex": [
       "\\begin{enumerate*}\n",
       "\\item 10\n",
       "\\item 9\n",
       "\\end{enumerate*}\n"
      ],
      "text/markdown": [
       "1. 10\n",
       "2. 9\n",
       "\n",
       "\n"
      ],
      "text/plain": [
       "[1] 10  9"
      ]
     },
     "metadata": {},
     "output_type": "display_data"
    },
    {
     "data": {
      "text/html": [
       "10"
      ],
      "text/latex": [
       "10"
      ],
      "text/markdown": [
       "10"
      ],
      "text/plain": [
       "[1] 10"
      ]
     },
     "metadata": {},
     "output_type": "display_data"
    }
   ],
   "source": [
    "sample(x[x>9]) #x[x>9] has only one element (10). In this case, sample generates a sequence 1:10 and samples from it instead\n",
    "\n",
    "#to avoid this behaviour, use resample:\n",
    "library(gdata) #need this package for resample function\n",
    "\n",
    "resample(x[x>8])\n",
    "resample(x[x>9])"
   ]
  },
  {
   "cell_type": "code",
   "execution_count": 7,
   "metadata": {},
   "outputs": [],
   "source": [
    "?resample"
   ]
  },
  {
   "cell_type": "markdown",
   "metadata": {},
   "source": [
    "From the resample docs: resample differs from the S/R sample function in resample always considers x to be a vector of elements to select from, while sample treats a vector of length one as a special case and samples from 1:x. Otherwise, the functions have identical behavior."
   ]
  },
  {
   "cell_type": "markdown",
   "metadata": {},
   "source": [
    "## R Subsetting"
   ]
  },
  {
   "cell_type": "code",
   "execution_count": 8,
   "metadata": {},
   "outputs": [],
   "source": [
    "x <- c(2.1, 4, 6.7, 1.75)"
   ]
  },
  {
   "cell_type": "code",
   "execution_count": 9,
   "metadata": {},
   "outputs": [
    {
     "data": {
      "text/html": [
       "<ol class=list-inline>\n",
       "\t<li>2.1</li>\n",
       "\t<li>6.7</li>\n",
       "</ol>\n"
      ],
      "text/latex": [
       "\\begin{enumerate*}\n",
       "\\item 2.1\n",
       "\\item 6.7\n",
       "\\end{enumerate*}\n"
      ],
      "text/markdown": [
       "1. 2.1\n",
       "2. 6.7\n",
       "\n",
       "\n"
      ],
      "text/plain": [
       "[1] 2.1 6.7"
      ]
     },
     "metadata": {},
     "output_type": "display_data"
    }
   ],
   "source": [
    "x[c(1,3)] #get first and third element"
   ]
  },
  {
   "cell_type": "code",
   "execution_count": 10,
   "metadata": {},
   "outputs": [
    {
     "data": {
      "text/html": [
       "<ol class=list-inline>\n",
       "\t<li>2.1</li>\n",
       "\t<li>2.1</li>\n",
       "\t<li>6.7</li>\n",
       "\t<li>6.7</li>\n",
       "</ol>\n"
      ],
      "text/latex": [
       "\\begin{enumerate*}\n",
       "\\item 2.1\n",
       "\\item 2.1\n",
       "\\item 6.7\n",
       "\\item 6.7\n",
       "\\end{enumerate*}\n"
      ],
      "text/markdown": [
       "1. 2.1\n",
       "2. 2.1\n",
       "3. 6.7\n",
       "4. 6.7\n",
       "\n",
       "\n"
      ],
      "text/plain": [
       "[1] 2.1 2.1 6.7 6.7"
      ]
     },
     "metadata": {},
     "output_type": "display_data"
    }
   ],
   "source": [
    "x[c(1,1,3,3)] #duplicate indices work"
   ]
  },
  {
   "cell_type": "code",
   "execution_count": 11,
   "metadata": {},
   "outputs": [
    {
     "data": {
      "text/html": [
       "<ol class=list-inline>\n",
       "\t<li>2.1</li>\n",
       "\t<li>4</li>\n",
       "\t<li>1.75</li>\n",
       "\t<li>&lt;NA&gt;</li>\n",
       "</ol>\n"
      ],
      "text/latex": [
       "\\begin{enumerate*}\n",
       "\\item 2.1\n",
       "\\item 4\n",
       "\\item 1.75\n",
       "\\item <NA>\n",
       "\\end{enumerate*}\n"
      ],
      "text/markdown": [
       "1. 2.1\n",
       "2. 4\n",
       "3. 1.75\n",
       "4. &lt;NA&gt;\n",
       "\n",
       "\n"
      ],
      "text/plain": [
       "[1] 2.10 4.00 1.75   NA"
      ]
     },
     "metadata": {},
     "output_type": "display_data"
    }
   ],
   "source": [
    "x[sort(x)] #doubles are rounded to ints for indexing"
   ]
  },
  {
   "cell_type": "code",
   "execution_count": 12,
   "metadata": {},
   "outputs": [
    {
     "data": {
      "text/html": [
       "<ol class=list-inline>\n",
       "\t<li>4</li>\n",
       "\t<li>1.75</li>\n",
       "</ol>\n"
      ],
      "text/latex": [
       "\\begin{enumerate*}\n",
       "\\item 4\n",
       "\\item 1.75\n",
       "\\end{enumerate*}\n"
      ],
      "text/markdown": [
       "1. 4\n",
       "2. 1.75\n",
       "\n",
       "\n"
      ],
      "text/plain": [
       "[1] 4.00 1.75"
      ]
     },
     "metadata": {},
     "output_type": "display_data"
    }
   ],
   "source": [
    "#negative integers exclude elements\n",
    "x[-c(1,3)]"
   ]
  },
  {
   "cell_type": "code",
   "execution_count": 13,
   "metadata": {},
   "outputs": [
    {
     "ename": "ERROR",
     "evalue": "Error in x[c(1, -3)]: solo gli 0 si possono usare contemporaneamente con indici negativi\n",
     "output_type": "error",
     "traceback": [
      "Error in x[c(1, -3)]: solo gli 0 si possono usare contemporaneamente con indici negativi\nTraceback:\n"
     ]
    }
   ],
   "source": [
    "#cannot use positive and negative at the same time\n",
    "x[c(1,-3)]"
   ]
  },
  {
   "cell_type": "code",
   "execution_count": 14,
   "metadata": {},
   "outputs": [
    {
     "data": {
      "text/html": [
       "<ol class=list-inline>\n",
       "\t<li>2.1</li>\n",
       "\t<li>4</li>\n",
       "\t<li>1.75</li>\n",
       "</ol>\n"
      ],
      "text/latex": [
       "\\begin{enumerate*}\n",
       "\\item 2.1\n",
       "\\item 4\n",
       "\\item 1.75\n",
       "\\end{enumerate*}\n"
      ],
      "text/markdown": [
       "1. 2.1\n",
       "2. 4\n",
       "3. 1.75\n",
       "\n",
       "\n"
      ],
      "text/plain": [
       "[1] 2.10 4.00 1.75"
      ]
     },
     "metadata": {},
     "output_type": "display_data"
    }
   ],
   "source": [
    "x[c(T, T, F, T)] #logical vectors work as masks"
   ]
  },
  {
   "cell_type": "code",
   "execution_count": 15,
   "metadata": {},
   "outputs": [
    {
     "data": {
      "text/html": [
       "<ol class=list-inline>\n",
       "\t<li>2.1</li>\n",
       "\t<li>6.7</li>\n",
       "</ol>\n"
      ],
      "text/latex": [
       "\\begin{enumerate*}\n",
       "\\item 2.1\n",
       "\\item 6.7\n",
       "\\end{enumerate*}\n"
      ],
      "text/markdown": [
       "1. 2.1\n",
       "2. 6.7\n",
       "\n",
       "\n"
      ],
      "text/plain": [
       "[1] 2.1 6.7"
      ]
     },
     "metadata": {},
     "output_type": "display_data"
    }
   ],
   "source": [
    "x[c(TRUE, FALSE)] #if the selection vector is too short, it is repeated (as c(T,F,T,F))"
   ]
  },
  {
   "cell_type": "code",
   "execution_count": 16,
   "metadata": {},
   "outputs": [
    {
     "data": {
      "text/html": [],
      "text/latex": [],
      "text/markdown": [],
      "text/plain": [
       "numeric(0)"
      ]
     },
     "metadata": {},
     "output_type": "display_data"
    }
   ],
   "source": [
    "x[0] #returns a 0-length vector"
   ]
  },
  {
   "cell_type": "code",
   "execution_count": 18,
   "metadata": {},
   "outputs": [],
   "source": [
    "#Named vectors are just like dictionaries\n",
    "#some useful constant vectors: LETTERS (capital letters), letters (lowercase), month.abb, month.name"
   ]
  },
  {
   "cell_type": "code",
   "execution_count": 19,
   "metadata": {},
   "outputs": [
    {
     "data": {
      "text/html": [
       "<dl class=dl-horizontal>\n",
       "\t<dt>A</dt>\n",
       "\t\t<dd>2.1</dd>\n",
       "\t<dt>B</dt>\n",
       "\t\t<dd>4</dd>\n",
       "\t<dt>C</dt>\n",
       "\t\t<dd>6.7</dd>\n",
       "\t<dt>D</dt>\n",
       "\t\t<dd>1.75</dd>\n",
       "</dl>\n"
      ],
      "text/latex": [
       "\\begin{description*}\n",
       "\\item[A] 2.1\n",
       "\\item[B] 4\n",
       "\\item[C] 6.7\n",
       "\\item[D] 1.75\n",
       "\\end{description*}\n"
      ],
      "text/markdown": [
       "A\n",
       ":   2.1B\n",
       ":   4C\n",
       ":   6.7D\n",
       ":   1.75\n",
       "\n"
      ],
      "text/plain": [
       "   A    B    C    D \n",
       "2.10 4.00 6.70 1.75 "
      ]
     },
     "metadata": {},
     "output_type": "display_data"
    }
   ],
   "source": [
    "y <- setNames(x, LETTERS[1:length(x)])\n",
    "y"
   ]
  },
  {
   "cell_type": "code",
   "execution_count": 21,
   "metadata": {},
   "outputs": [
    {
     "data": {
      "text/html": [
       "<strong>A:</strong> 2.1"
      ],
      "text/latex": [
       "\\textbf{A:} 2.1"
      ],
      "text/markdown": [
       "**A:** 2.1"
      ],
      "text/plain": [
       "  A \n",
       "2.1 "
      ]
     },
     "metadata": {},
     "output_type": "display_data"
    }
   ],
   "source": [
    "y[\"A\"] #access through the character indices"
   ]
  },
  {
   "cell_type": "code",
   "execution_count": 22,
   "metadata": {},
   "outputs": [
    {
     "data": {
      "text/html": [
       "<dl class=dl-horizontal>\n",
       "\t<dt>A</dt>\n",
       "\t\t<dd>2.1</dd>\n",
       "\t<dt>A</dt>\n",
       "\t\t<dd>2.1</dd>\n",
       "\t<dt>D</dt>\n",
       "\t\t<dd>1.75</dd>\n",
       "</dl>\n"
      ],
      "text/latex": [
       "\\begin{description*}\n",
       "\\item[A] 2.1\n",
       "\\item[A] 2.1\n",
       "\\item[D] 1.75\n",
       "\\end{description*}\n"
      ],
      "text/markdown": [
       "A\n",
       ":   2.1A\n",
       ":   2.1D\n",
       ":   1.75\n",
       "\n"
      ],
      "text/plain": [
       "   A    A    D \n",
       "2.10 2.10 1.75 "
      ]
     },
     "metadata": {},
     "output_type": "display_data"
    }
   ],
   "source": [
    "y[c('A', 'A', 'D')]"
   ]
  },
  {
   "cell_type": "code",
   "execution_count": 24,
   "metadata": {},
   "outputs": [
    {
     "data": {
      "text/html": [
       "<strong>A:</strong> 2.1"
      ],
      "text/latex": [
       "\\textbf{A:} 2.1"
      ],
      "text/markdown": [
       "**A:** 2.1"
      ],
      "text/plain": [
       "  A \n",
       "2.1 "
      ]
     },
     "metadata": {},
     "output_type": "display_data"
    }
   ],
   "source": [
    "#Subsetting with factors uses the underlying integer vector, not the character!\n",
    "y[factor(\"B\")] #returns the first element, because \"B\" in the factor is stored as a 1\n",
    "#In general, avoid using factors for subsetting"
   ]
  },
  {
   "cell_type": "code",
   "execution_count": 25,
   "metadata": {},
   "outputs": [
    {
     "data": {
      "text/html": [
       "<table>\n",
       "<tbody>\n",
       "\t<tr><td>1</td><td>2</td><td>3</td></tr>\n",
       "\t<tr><td>2</td><td>4</td><td>6</td></tr>\n",
       "\t<tr><td>3</td><td>6</td><td>9</td></tr>\n",
       "</tbody>\n",
       "</table>\n"
      ],
      "text/latex": [
       "\\begin{tabular}{lll}\n",
       "\t 1 & 2 & 3\\\\\n",
       "\t 2 & 4 & 6\\\\\n",
       "\t 3 & 6 & 9\\\\\n",
       "\\end{tabular}\n"
      ],
      "text/markdown": [
       "\n",
       "| 1 | 2 | 3 |\n",
       "| 2 | 4 | 6 |\n",
       "| 3 | 6 | 9 |\n",
       "\n"
      ],
      "text/plain": [
       "     [,1] [,2] [,3]\n",
       "[1,] 1    2    3   \n",
       "[2,] 2    4    6   \n",
       "[3,] 3    6    9   "
      ]
     },
     "metadata": {},
     "output_type": "display_data"
    }
   ],
   "source": [
    "#outer = cartesian product\n",
    "outer(1:3, 1:3)"
   ]
  },
  {
   "cell_type": "code",
   "execution_count": 27,
   "metadata": {},
   "outputs": [
    {
     "data": {
      "text/html": [
       "<table>\n",
       "<tbody>\n",
       "\t<tr><td>1,1</td><td>1,2</td><td>1,3</td><td>1,4</td><td>1,5</td></tr>\n",
       "\t<tr><td>2,1</td><td>2,2</td><td>2,3</td><td>2,4</td><td>2,5</td></tr>\n",
       "\t<tr><td>3,1</td><td>3,2</td><td>3,3</td><td>3,4</td><td>3,5</td></tr>\n",
       "\t<tr><td>4,1</td><td>4,2</td><td>4,3</td><td>4,4</td><td>4,5</td></tr>\n",
       "\t<tr><td>5,1</td><td>5,2</td><td>5,3</td><td>5,4</td><td>5,5</td></tr>\n",
       "</tbody>\n",
       "</table>\n"
      ],
      "text/latex": [
       "\\begin{tabular}{lllll}\n",
       "\t 1,1 & 1,2 & 1,3 & 1,4 & 1,5\\\\\n",
       "\t 2,1 & 2,2 & 2,3 & 2,4 & 2,5\\\\\n",
       "\t 3,1 & 3,2 & 3,3 & 3,4 & 3,5\\\\\n",
       "\t 4,1 & 4,2 & 4,3 & 4,4 & 4,5\\\\\n",
       "\t 5,1 & 5,2 & 5,3 & 5,4 & 5,5\\\\\n",
       "\\end{tabular}\n"
      ],
      "text/markdown": [
       "\n",
       "| 1,1 | 1,2 | 1,3 | 1,4 | 1,5 |\n",
       "| 2,1 | 2,2 | 2,3 | 2,4 | 2,5 |\n",
       "| 3,1 | 3,2 | 3,3 | 3,4 | 3,5 |\n",
       "| 4,1 | 4,2 | 4,3 | 4,4 | 4,5 |\n",
       "| 5,1 | 5,2 | 5,3 | 5,4 | 5,5 |\n",
       "\n"
      ],
      "text/plain": [
       "     [,1] [,2] [,3] [,4] [,5]\n",
       "[1,] 1,1  1,2  1,3  1,4  1,5 \n",
       "[2,] 2,1  2,2  2,3  2,4  2,5 \n",
       "[3,] 3,1  3,2  3,3  3,4  3,5 \n",
       "[4,] 4,1  4,2  4,3  4,4  4,5 \n",
       "[5,] 5,1  5,2  5,3  5,4  5,5 "
      ]
     },
     "metadata": {},
     "output_type": "display_data"
    }
   ],
   "source": [
    "#a function can be specified to edit the generated elements\n",
    "#paste = converts arguments to characters, and concatenates them (with a separator if specified)\n",
    "\n",
    "v <- outer(1:5, 1:5, FUN=\"paste\", sep=\",\")\n",
    "v"
   ]
  },
  {
   "cell_type": "code",
   "execution_count": 29,
   "metadata": {},
   "outputs": [
    {
     "data": {
      "text/html": [
       "<ol class=list-inline>\n",
       "\t<li>'3,1'</li>\n",
       "\t<li>'3,2'</li>\n",
       "\t<li>'3,3'</li>\n",
       "\t<li>'3,4'</li>\n",
       "\t<li>'3,5'</li>\n",
       "</ol>\n"
      ],
      "text/latex": [
       "\\begin{enumerate*}\n",
       "\\item '3,1'\n",
       "\\item '3,2'\n",
       "\\item '3,3'\n",
       "\\item '3,4'\n",
       "\\item '3,5'\n",
       "\\end{enumerate*}\n"
      ],
      "text/markdown": [
       "1. '3,1'\n",
       "2. '3,2'\n",
       "3. '3,3'\n",
       "4. '3,4'\n",
       "5. '3,5'\n",
       "\n",
       "\n"
      ],
      "text/plain": [
       "[1] \"3,1\" \"3,2\" \"3,3\" \"3,4\" \"3,5\""
      ]
     },
     "metadata": {},
     "output_type": "display_data"
    }
   ],
   "source": [
    "v[seq(3, 23, 5)] #we can access elements in the matrix as if it were a \"flattened vector\"\n",
    "#(matrices are internally stored as sequential data)"
   ]
  },
  {
   "cell_type": "code",
   "execution_count": 30,
   "metadata": {},
   "outputs": [
    {
     "data": {
      "text/html": [
       "<table>\n",
       "<tbody>\n",
       "\t<tr><td>1</td><td>3</td><td>5</td></tr>\n",
       "\t<tr><td>2</td><td>4</td><td>6</td></tr>\n",
       "</tbody>\n",
       "</table>\n"
      ],
      "text/latex": [
       "\\begin{tabular}{lll}\n",
       "\t 1 & 3 & 5\\\\\n",
       "\t 2 & 4 & 6\\\\\n",
       "\\end{tabular}\n"
      ],
      "text/markdown": [
       "\n",
       "| 1 | 3 | 5 |\n",
       "| 2 | 4 | 6 |\n",
       "\n"
      ],
      "text/plain": [
       "     [,1] [,2] [,3]\n",
       "[1,] 1    3    5   \n",
       "[2,] 2    4    6   "
      ]
     },
     "metadata": {},
     "output_type": "display_data"
    }
   ],
   "source": [
    "#Preserve original dimension when subsetting: DROP=FALSE\n",
    "(S <- matrix(1:6, nrow=2))"
   ]
  },
  {
   "cell_type": "code",
   "execution_count": 31,
   "metadata": {},
   "outputs": [
    {
     "data": {
      "text/html": [
       "<ol class=list-inline>\n",
       "\t<li>1</li>\n",
       "\t<li>3</li>\n",
       "\t<li>5</li>\n",
       "</ol>\n"
      ],
      "text/latex": [
       "\\begin{enumerate*}\n",
       "\\item 1\n",
       "\\item 3\n",
       "\\item 5\n",
       "\\end{enumerate*}\n"
      ],
      "text/markdown": [
       "1. 1\n",
       "2. 3\n",
       "3. 5\n",
       "\n",
       "\n"
      ],
      "text/plain": [
       "[1] 1 3 5"
      ]
     },
     "metadata": {},
     "output_type": "display_data"
    }
   ],
   "source": [
    "S[1,] #normally returns a vector"
   ]
  },
  {
   "cell_type": "code",
   "execution_count": 33,
   "metadata": {},
   "outputs": [
    {
     "data": {
      "text/html": [
       "<table>\n",
       "<tbody>\n",
       "\t<tr><td>1</td><td>3</td><td>5</td></tr>\n",
       "</tbody>\n",
       "</table>\n"
      ],
      "text/latex": [
       "\\begin{tabular}{lll}\n",
       "\t 1 & 3 & 5\\\\\n",
       "\\end{tabular}\n"
      ],
      "text/markdown": [
       "\n",
       "| 1 | 3 | 5 |\n",
       "\n"
      ],
      "text/plain": [
       "     [,1] [,2] [,3]\n",
       "[1,] 1    3    5   "
      ]
     },
     "metadata": {},
     "output_type": "display_data"
    }
   ],
   "source": [
    "S[1, , drop=FALSE] #returns a (1,3) matrix instead"
   ]
  },
  {
   "cell_type": "code",
   "execution_count": 34,
   "metadata": {},
   "outputs": [],
   "source": [
    "#Lists are like \"trains\". [[]] gets the content of a vagon, [] just the vagon itself\n",
    "xl <- list(1:3, \"one\", c(T,F,F)) #3 \"vagons\""
   ]
  },
  {
   "cell_type": "code",
   "execution_count": 37,
   "metadata": {},
   "outputs": [
    {
     "data": {
      "text/html": [
       "<ol>\n",
       "\t<li><ol class=list-inline>\n",
       "\t<li>1</li>\n",
       "\t<li>2</li>\n",
       "\t<li>3</li>\n",
       "</ol>\n",
       "</li>\n",
       "</ol>\n"
      ],
      "text/latex": [
       "\\begin{enumerate}\n",
       "\\item \\begin{enumerate*}\n",
       "\\item 1\n",
       "\\item 2\n",
       "\\item 3\n",
       "\\end{enumerate*}\n",
       "\n",
       "\\end{enumerate}\n"
      ],
      "text/markdown": [
       "1. 1. 1\n",
       "2. 2\n",
       "3. 3\n",
       "\n",
       "\n",
       "\n",
       "\n",
       "\n"
      ],
      "text/plain": [
       "[[1]]\n",
       "[1] 1 2 3\n"
      ]
     },
     "metadata": {},
     "output_type": "display_data"
    }
   ],
   "source": [
    "xl[1] #first vagon, returned as a LIST"
   ]
  },
  {
   "cell_type": "code",
   "execution_count": 39,
   "metadata": {},
   "outputs": [
    {
     "data": {
      "text/html": [
       "<ol class=list-inline>\n",
       "\t<li>1</li>\n",
       "\t<li>2</li>\n",
       "\t<li>3</li>\n",
       "</ol>\n"
      ],
      "text/latex": [
       "\\begin{enumerate*}\n",
       "\\item 1\n",
       "\\item 2\n",
       "\\item 3\n",
       "\\end{enumerate*}\n"
      ],
      "text/markdown": [
       "1. 1\n",
       "2. 2\n",
       "3. 3\n",
       "\n",
       "\n"
      ],
      "text/plain": [
       "[1] 1 2 3"
      ]
     },
     "metadata": {},
     "output_type": "display_data"
    }
   ],
   "source": [
    "xl[[1]] #first vagon, returned as VECTOR (=content of the \"vagon\")"
   ]
  },
  {
   "cell_type": "code",
   "execution_count": 40,
   "metadata": {},
   "outputs": [
    {
     "data": {
      "text/html": [
       "<ol>\n",
       "\t<li><ol class=list-inline>\n",
       "\t<li>1</li>\n",
       "\t<li>2</li>\n",
       "\t<li>3</li>\n",
       "</ol>\n",
       "</li>\n",
       "\t<li>'one'</li>\n",
       "</ol>\n"
      ],
      "text/latex": [
       "\\begin{enumerate}\n",
       "\\item \\begin{enumerate*}\n",
       "\\item 1\n",
       "\\item 2\n",
       "\\item 3\n",
       "\\end{enumerate*}\n",
       "\n",
       "\\item 'one'\n",
       "\\end{enumerate}\n"
      ],
      "text/markdown": [
       "1. 1. 1\n",
       "2. 2\n",
       "3. 3\n",
       "\n",
       "\n",
       "\n",
       "2. 'one'\n",
       "\n",
       "\n"
      ],
      "text/plain": [
       "[[1]]\n",
       "[1] 1 2 3\n",
       "\n",
       "[[2]]\n",
       "[1] \"one\"\n"
      ]
     },
     "metadata": {},
     "output_type": "display_data"
    }
   ],
   "source": [
    "xl[1:2] #subset the list"
   ]
  },
  {
   "cell_type": "code",
   "execution_count": null,
   "metadata": {},
   "outputs": [],
   "source": [
    "xl[[1:3]] # = xl[[1]][[2]]"
   ]
  },
  {
   "cell_type": "code",
   "execution_count": 66,
   "metadata": {},
   "outputs": [
    {
     "data": {
      "text/html": [
       "3"
      ],
      "text/latex": [
       "3"
      ],
      "text/markdown": [
       "3"
      ],
      "text/plain": [
       "[1] 3"
      ]
     },
     "metadata": {},
     "output_type": "display_data"
    }
   ],
   "source": [
    "xl[[1]][[3]]"
   ]
  },
  {
   "cell_type": "markdown",
   "metadata": {},
   "source": [
    "## Loops"
   ]
  },
  {
   "cell_type": "code",
   "execution_count": 50,
   "metadata": {},
   "outputs": [],
   "source": [
    "#Define a factorial function\n",
    "fact1 <- function(x)\n",
    "{\n",
    "    f <- 1\n",
    "    if (x < 2) return (1)\n",
    "    for (i in 2:x) {\n",
    "        f <- f*i\n",
    "    }\n",
    "    return (f)\n",
    "}"
   ]
  },
  {
   "cell_type": "code",
   "execution_count": 51,
   "metadata": {},
   "outputs": [
    {
     "data": {
      "text/html": [
       "<ol class=list-inline>\n",
       "\t<li>1</li>\n",
       "\t<li>2</li>\n",
       "\t<li>6</li>\n",
       "\t<li>24</li>\n",
       "\t<li>120</li>\n",
       "</ol>\n"
      ],
      "text/latex": [
       "\\begin{enumerate*}\n",
       "\\item 1\n",
       "\\item 2\n",
       "\\item 6\n",
       "\\item 24\n",
       "\\item 120\n",
       "\\end{enumerate*}\n"
      ],
      "text/markdown": [
       "1. 1\n",
       "2. 2\n",
       "3. 6\n",
       "4. 24\n",
       "5. 120\n",
       "\n",
       "\n"
      ],
      "text/plain": [
       "[1]   1   2   6  24 120"
      ]
     },
     "metadata": {},
     "output_type": "display_data"
    }
   ],
   "source": [
    "sapply(1:5, fact1)"
   ]
  },
  {
   "cell_type": "code",
   "execution_count": 52,
   "metadata": {},
   "outputs": [],
   "source": [
    "#with a while loop instead\n",
    "fact2 <- function(x) {\n",
    "    f <- 1; t <- x\n",
    "    while (t > 1) {\n",
    "        f <- f*t\n",
    "        t <- t-1\n",
    "    }\n",
    "    return(f)\n",
    "}"
   ]
  },
  {
   "cell_type": "code",
   "execution_count": 53,
   "metadata": {},
   "outputs": [
    {
     "data": {
      "text/html": [
       "<ol class=list-inline>\n",
       "\t<li>1</li>\n",
       "\t<li>2</li>\n",
       "\t<li>6</li>\n",
       "\t<li>24</li>\n",
       "\t<li>120</li>\n",
       "</ol>\n"
      ],
      "text/latex": [
       "\\begin{enumerate*}\n",
       "\\item 1\n",
       "\\item 2\n",
       "\\item 6\n",
       "\\item 24\n",
       "\\item 120\n",
       "\\end{enumerate*}\n"
      ],
      "text/markdown": [
       "1. 1\n",
       "2. 2\n",
       "3. 6\n",
       "4. 24\n",
       "5. 120\n",
       "\n",
       "\n"
      ],
      "text/plain": [
       "[1]   1   2   6  24 120"
      ]
     },
     "metadata": {},
     "output_type": "display_data"
    }
   ],
   "source": [
    "sapply(1:5, fact2)"
   ]
  },
  {
   "cell_type": "code",
   "execution_count": 54,
   "metadata": {},
   "outputs": [
    {
     "data": {
      "text/html": [
       "<ol class=list-inline>\n",
       "\t<li>1</li>\n",
       "\t<li>2</li>\n",
       "\t<li>6</li>\n",
       "\t<li>24</li>\n",
       "\t<li>120</li>\n",
       "</ol>\n"
      ],
      "text/latex": [
       "\\begin{enumerate*}\n",
       "\\item 1\n",
       "\\item 2\n",
       "\\item 6\n",
       "\\item 24\n",
       "\\item 120\n",
       "\\end{enumerate*}\n"
      ],
      "text/markdown": [
       "1. 1\n",
       "2. 2\n",
       "3. 6\n",
       "4. 24\n",
       "5. 120\n",
       "\n",
       "\n"
      ],
      "text/plain": [
       "[1]   1   2   6  24 120"
      ]
     },
     "metadata": {},
     "output_type": "display_data"
    }
   ],
   "source": [
    "fac3 <- function(x) {\n",
    "    f <- 1; t <- x\n",
    "    repeat { #= while(1)\n",
    "        if (t<2) break\n",
    "        f <- f*t\n",
    "        t <- t-1\n",
    "    }\n",
    "    return(f)\n",
    "}\n",
    "sapply(1:5, fac3)"
   ]
  },
  {
   "cell_type": "code",
   "execution_count": 55,
   "metadata": {},
   "outputs": [
    {
     "data": {
      "text/html": [
       "<ol class=list-inline>\n",
       "\t<li>1</li>\n",
       "\t<li>2</li>\n",
       "\t<li>6</li>\n",
       "\t<li>24</li>\n",
       "\t<li>120</li>\n",
       "</ol>\n"
      ],
      "text/latex": [
       "\\begin{enumerate*}\n",
       "\\item 1\n",
       "\\item 2\n",
       "\\item 6\n",
       "\\item 24\n",
       "\\item 120\n",
       "\\end{enumerate*}\n"
      ],
      "text/markdown": [
       "1. 1\n",
       "2. 2\n",
       "3. 6\n",
       "4. 24\n",
       "5. 120\n",
       "\n",
       "\n"
      ],
      "text/plain": [
       "[1]   1   2   6  24 120"
      ]
     },
     "metadata": {},
     "output_type": "display_data"
    }
   ],
   "source": [
    "cumprod(1:5) #cumulative product"
   ]
  },
  {
   "cell_type": "code",
   "execution_count": 56,
   "metadata": {},
   "outputs": [],
   "source": [
    "#Better way: use already defined (vectorized) functions!\n",
    "fac4 <- function(x) max(cumprod(1:x))"
   ]
  },
  {
   "cell_type": "code",
   "execution_count": 57,
   "metadata": {},
   "outputs": [
    {
     "data": {
      "text/html": [
       "<ol class=list-inline>\n",
       "\t<li>1</li>\n",
       "\t<li>2</li>\n",
       "\t<li>6</li>\n",
       "\t<li>24</li>\n",
       "\t<li>120</li>\n",
       "</ol>\n"
      ],
      "text/latex": [
       "\\begin{enumerate*}\n",
       "\\item 1\n",
       "\\item 2\n",
       "\\item 6\n",
       "\\item 24\n",
       "\\item 120\n",
       "\\end{enumerate*}\n"
      ],
      "text/markdown": [
       "1. 1\n",
       "2. 2\n",
       "3. 6\n",
       "4. 24\n",
       "5. 120\n",
       "\n",
       "\n"
      ],
      "text/plain": [
       "[1]   1   2   6  24 120"
      ]
     },
     "metadata": {},
     "output_type": "display_data"
    }
   ],
   "source": [
    "sapply(1:5, fac4)"
   ]
  },
  {
   "cell_type": "code",
   "execution_count": 58,
   "metadata": {},
   "outputs": [
    {
     "data": {
      "text/html": [
       "<ol class=list-inline>\n",
       "\t<li>1</li>\n",
       "\t<li>2</li>\n",
       "\t<li>6</li>\n",
       "\t<li>24</li>\n",
       "\t<li>120</li>\n",
       "</ol>\n"
      ],
      "text/latex": [
       "\\begin{enumerate*}\n",
       "\\item 1\n",
       "\\item 2\n",
       "\\item 6\n",
       "\\item 24\n",
       "\\item 120\n",
       "\\end{enumerate*}\n"
      ],
      "text/markdown": [
       "1. 1\n",
       "2. 2\n",
       "3. 6\n",
       "4. 24\n",
       "5. 120\n",
       "\n",
       "\n"
      ],
      "text/plain": [
       "[1]   1   2   6  24 120"
      ]
     },
     "metadata": {},
     "output_type": "display_data"
    }
   ],
   "source": [
    "#Also now there is the factorial function:\n",
    "sapply(1:5, factorial)"
   ]
  },
  {
   "cell_type": "code",
   "execution_count": 59,
   "metadata": {},
   "outputs": [],
   "source": [
    "#AVOID LOOPS!"
   ]
  },
  {
   "cell_type": "code",
   "execution_count": 67,
   "metadata": {},
   "outputs": [
    {
     "data": {
      "text/html": [
       "<ol class=list-inline>\n",
       "\t<li>-Inf</li>\n",
       "\t<li>0.693147180559945</li>\n",
       "\t<li>1.09861228866811</li>\n",
       "\t<li>0</li>\n",
       "\t<li>1.6094379124341</li>\n",
       "\t<li>0</li>\n",
       "\t<li>1.09861228866811</li>\n",
       "\t<li>-Inf</li>\n",
       "\t<li>0</li>\n",
       "\t<li>1.09861228866811</li>\n",
       "\t<li>0.693147180559945</li>\n",
       "\t<li>0.693147180559945</li>\n",
       "\t<li>1.09861228866811</li>\n",
       "\t<li>0.693147180559945</li>\n",
       "\t<li>0</li>\n",
       "\t<li>1.09861228866811</li>\n",
       "\t<li>1.38629436111989</li>\n",
       "\t<li>1.09861228866811</li>\n",
       "\t<li>0</li>\n",
       "\t<li>0</li>\n",
       "</ol>\n"
      ],
      "text/latex": [
       "\\begin{enumerate*}\n",
       "\\item -Inf\n",
       "\\item 0.693147180559945\n",
       "\\item 1.09861228866811\n",
       "\\item 0\n",
       "\\item 1.6094379124341\n",
       "\\item 0\n",
       "\\item 1.09861228866811\n",
       "\\item -Inf\n",
       "\\item 0\n",
       "\\item 1.09861228866811\n",
       "\\item 0.693147180559945\n",
       "\\item 0.693147180559945\n",
       "\\item 1.09861228866811\n",
       "\\item 0.693147180559945\n",
       "\\item 0\n",
       "\\item 1.09861228866811\n",
       "\\item 1.38629436111989\n",
       "\\item 1.09861228866811\n",
       "\\item 0\n",
       "\\item 0\n",
       "\\end{enumerate*}\n"
      ],
      "text/markdown": [
       "1. -Inf\n",
       "2. 0.693147180559945\n",
       "3. 1.09861228866811\n",
       "4. 0\n",
       "5. 1.6094379124341\n",
       "6. 0\n",
       "7. 1.09861228866811\n",
       "8. -Inf\n",
       "9. 0\n",
       "10. 1.09861228866811\n",
       "11. 0.693147180559945\n",
       "12. 0.693147180559945\n",
       "13. 1.09861228866811\n",
       "14. 0.693147180559945\n",
       "15. 0\n",
       "16. 1.09861228866811\n",
       "17. 1.38629436111989\n",
       "18. 1.09861228866811\n",
       "19. 0\n",
       "20. 0\n",
       "\n",
       "\n"
      ],
      "text/plain": [
       " [1]      -Inf 0.6931472 1.0986123 0.0000000 1.6094379 0.0000000 1.0986123\n",
       " [8]      -Inf 0.0000000 1.0986123 0.6931472 0.6931472 1.0986123 0.6931472\n",
       "[15] 0.0000000 1.0986123 1.3862944 1.0986123 0.0000000 0.0000000"
      ]
     },
     "metadata": {},
     "output_type": "display_data"
    }
   ],
   "source": [
    "#Es. use ifelse vectorized function\n",
    "y <- log(rpois(20,1.5))\n",
    "y"
   ]
  },
  {
   "cell_type": "code",
   "execution_count": 68,
   "metadata": {},
   "outputs": [
    {
     "data": {
      "text/html": [
       "-Inf"
      ],
      "text/latex": [
       "-Inf"
      ],
      "text/markdown": [
       "-Inf"
      ],
      "text/plain": [
       "[1] -Inf"
      ]
     },
     "metadata": {},
     "output_type": "display_data"
    }
   ],
   "source": [
    "mean(y)"
   ]
  },
  {
   "cell_type": "code",
   "execution_count": 71,
   "metadata": {},
   "outputs": [
    {
     "data": {
      "text/html": [
       "<ol class=list-inline>\n",
       "\t<li>&lt;NA&gt;</li>\n",
       "\t<li>0.693147180559945</li>\n",
       "\t<li>1.09861228866811</li>\n",
       "\t<li>0</li>\n",
       "\t<li>1.6094379124341</li>\n",
       "\t<li>0</li>\n",
       "\t<li>1.09861228866811</li>\n",
       "\t<li>&lt;NA&gt;</li>\n",
       "\t<li>0</li>\n",
       "\t<li>1.09861228866811</li>\n",
       "\t<li>0.693147180559945</li>\n",
       "\t<li>0.693147180559945</li>\n",
       "\t<li>1.09861228866811</li>\n",
       "\t<li>0.693147180559945</li>\n",
       "\t<li>0</li>\n",
       "\t<li>1.09861228866811</li>\n",
       "\t<li>1.38629436111989</li>\n",
       "\t<li>1.09861228866811</li>\n",
       "\t<li>0</li>\n",
       "\t<li>0</li>\n",
       "</ol>\n"
      ],
      "text/latex": [
       "\\begin{enumerate*}\n",
       "\\item <NA>\n",
       "\\item 0.693147180559945\n",
       "\\item 1.09861228866811\n",
       "\\item 0\n",
       "\\item 1.6094379124341\n",
       "\\item 0\n",
       "\\item 1.09861228866811\n",
       "\\item <NA>\n",
       "\\item 0\n",
       "\\item 1.09861228866811\n",
       "\\item 0.693147180559945\n",
       "\\item 0.693147180559945\n",
       "\\item 1.09861228866811\n",
       "\\item 0.693147180559945\n",
       "\\item 0\n",
       "\\item 1.09861228866811\n",
       "\\item 1.38629436111989\n",
       "\\item 1.09861228866811\n",
       "\\item 0\n",
       "\\item 0\n",
       "\\end{enumerate*}\n"
      ],
      "text/markdown": [
       "1. &lt;NA&gt;\n",
       "2. 0.693147180559945\n",
       "3. 1.09861228866811\n",
       "4. 0\n",
       "5. 1.6094379124341\n",
       "6. 0\n",
       "7. 1.09861228866811\n",
       "8. &lt;NA&gt;\n",
       "9. 0\n",
       "10. 1.09861228866811\n",
       "11. 0.693147180559945\n",
       "12. 0.693147180559945\n",
       "13. 1.09861228866811\n",
       "14. 0.693147180559945\n",
       "15. 0\n",
       "16. 1.09861228866811\n",
       "17. 1.38629436111989\n",
       "18. 1.09861228866811\n",
       "19. 0\n",
       "20. 0\n",
       "\n",
       "\n"
      ],
      "text/plain": [
       " [1]        NA 0.6931472 1.0986123 0.0000000 1.6094379 0.0000000 1.0986123\n",
       " [8]        NA 0.0000000 1.0986123 0.6931472 0.6931472 1.0986123 0.6931472\n",
       "[15] 0.0000000 1.0986123 1.3862944 1.0986123 0.0000000 0.0000000"
      ]
     },
     "metadata": {},
     "output_type": "display_data"
    },
    {
     "data": {
      "text/html": [
       "0.686666373766802"
      ],
      "text/latex": [
       "0.686666373766802"
      ],
      "text/markdown": [
       "0.686666373766802"
      ],
      "text/plain": [
       "[1] 0.6866664"
      ]
     },
     "metadata": {},
     "output_type": "display_data"
    }
   ],
   "source": [
    "(y <- ifelse(y<0, NA, y)) #negative values are set to NA\n",
    "\n",
    "mean(y, na.rm=TRUE) #so that they can be avoided by functions"
   ]
  },
  {
   "cell_type": "code",
   "execution_count": 72,
   "metadata": {},
   "outputs": [
    {
     "name": "stdout",
     "output_type": "stream",
     "text": [
      " num [1:50000000] 0.0641 0.4256 0.8458 0.555 0.9636 ...\n"
     ]
    }
   ],
   "source": [
    "x <- runif(50000000)\n",
    "str(x)"
   ]
  },
  {
   "cell_type": "code",
   "execution_count": 73,
   "metadata": {},
   "outputs": [
    {
     "data": {
      "text/html": [
       "<ol class=list-inline>\n",
       "\t<li>0.0640969055239111</li>\n",
       "\t<li>0.425642418907955</li>\n",
       "\t<li>0.84584171557799</li>\n",
       "\t<li>0.554991935379803</li>\n",
       "\t<li>0.963605216005817</li>\n",
       "\t<li>0.12335865222849</li>\n",
       "</ol>\n"
      ],
      "text/latex": [
       "\\begin{enumerate*}\n",
       "\\item 0.0640969055239111\n",
       "\\item 0.425642418907955\n",
       "\\item 0.84584171557799\n",
       "\\item 0.554991935379803\n",
       "\\item 0.963605216005817\n",
       "\\item 0.12335865222849\n",
       "\\end{enumerate*}\n"
      ],
      "text/markdown": [
       "1. 0.0640969055239111\n",
       "2. 0.425642418907955\n",
       "3. 0.84584171557799\n",
       "4. 0.554991935379803\n",
       "5. 0.963605216005817\n",
       "6. 0.12335865222849\n",
       "\n",
       "\n"
      ],
      "text/plain": [
       "[1] 0.06409691 0.42564242 0.84584172 0.55499194 0.96360522 0.12335865"
      ]
     },
     "metadata": {},
     "output_type": "display_data"
    },
    {
     "data": {
      "text/html": [
       "<ol class=list-inline>\n",
       "\t<li>0.0200060536153615</li>\n",
       "\t<li>0.586609756806865</li>\n",
       "\t<li>0.800276016118005</li>\n",
       "\t<li>0.784453491214663</li>\n",
       "\t<li>0.293886959319934</li>\n",
       "\t<li>0.104116418166086</li>\n",
       "</ol>\n"
      ],
      "text/latex": [
       "\\begin{enumerate*}\n",
       "\\item 0.0200060536153615\n",
       "\\item 0.586609756806865\n",
       "\\item 0.800276016118005\n",
       "\\item 0.784453491214663\n",
       "\\item 0.293886959319934\n",
       "\\item 0.104116418166086\n",
       "\\end{enumerate*}\n"
      ],
      "text/markdown": [
       "1. 0.0200060536153615\n",
       "2. 0.586609756806865\n",
       "3. 0.800276016118005\n",
       "4. 0.784453491214663\n",
       "5. 0.293886959319934\n",
       "6. 0.104116418166086\n",
       "\n",
       "\n"
      ],
      "text/plain": [
       "[1] 0.02000605 0.58660976 0.80027602 0.78445349 0.29388696 0.10411642"
      ]
     },
     "metadata": {},
     "output_type": "display_data"
    }
   ],
   "source": [
    "head(x)\n",
    "tail(x)"
   ]
  },
  {
   "cell_type": "code",
   "execution_count": 74,
   "metadata": {},
   "outputs": [
    {
     "data": {
      "text/plain": [
       "   user  system elapsed \n",
       "   0.06    0.00    0.06 "
      ]
     },
     "metadata": {},
     "output_type": "display_data"
    }
   ],
   "source": [
    "system.time(max(x))"
   ]
  },
  {
   "cell_type": "code",
   "execution_count": 75,
   "metadata": {},
   "outputs": [
    {
     "data": {
      "text/plain": [
       "   user  system elapsed \n",
       "   2.68    0.00    2.67 "
      ]
     },
     "metadata": {},
     "output_type": "display_data"
    }
   ],
   "source": [
    "pc <- proc.time()\n",
    "cmax <- x[1]\n",
    "for (i in 2:length(x)) { if (x[i]>cmax) cmax <- x[i]}\n",
    "proc.time()-pc"
   ]
  },
  {
   "cell_type": "code",
   "execution_count": 76,
   "metadata": {},
   "outputs": [],
   "source": [
    "test1 <- function(n) {\n",
    "    y <- 1:n #optimized\n",
    "}\n",
    "\n",
    "test2 <- function(n) {\n",
    "    y <- numeric(n) #empty array\n",
    "    for (i in 1:n)  #initialize with for loop\n",
    "        y[i] <- i\n",
    "}\n",
    "\n",
    "test3 <- function(n) { \n",
    "    y <- NULL\n",
    "    for (i in 1:n) #even worse\n",
    "        y <- c(y,i) #creates a new array every time!\n",
    "}"
   ]
  },
  {
   "cell_type": "code",
   "execution_count": null,
   "metadata": {},
   "outputs": [
    {
     "data": {
      "text/plain": [
       "   user  system elapsed \n",
       "      0       0       0 "
      ]
     },
     "metadata": {},
     "output_type": "display_data"
    },
    {
     "data": {
      "text/plain": [
       "   user  system elapsed \n",
       "   0.71    0.00    0.71 "
      ]
     },
     "metadata": {},
     "output_type": "display_data"
    }
   ],
   "source": [
    "system.time(test1(10000000))\n",
    "system.time(test2(10000000))\n",
    "#system.time(test3(10000000)) too long"
   ]
  },
  {
   "cell_type": "code",
   "execution_count": null,
   "metadata": {},
   "outputs": [],
   "source": []
  }
 ],
 "metadata": {
  "kernelspec": {
   "display_name": "R",
   "language": "R",
   "name": "ir"
  },
  "language_info": {
   "codemirror_mode": "r",
   "file_extension": ".r",
   "mimetype": "text/x-r-source",
   "name": "R",
   "pygments_lexer": "r",
   "version": "3.6.1"
  }
 },
 "nbformat": 4,
 "nbformat_minor": 2
}
