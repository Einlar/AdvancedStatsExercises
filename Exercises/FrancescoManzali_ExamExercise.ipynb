{
 "cells": [
  {
   "cell_type": "code",
   "execution_count": 1,
   "metadata": {},
   "outputs": [],
   "source": [
    "data <- c(994, 997, 999, 1003, 994, 998, 1001, 998, 996, 1002, 1004, 995, 994, 995, 998, 1001,\n",
    "          995, 1006, 997, 998)"
   ]
  },
  {
   "cell_type": "markdown",
   "metadata": {},
   "source": [
    "Let the prior distribution $\\mathbb{P}(\\mu|I)$ be uniform in $[991, 1010]\\mathrm{g}$. Given the available data, the posterior distribution is given by:\n",
    "\n",
    "$$\\mathbb{P}(\\mu|\\mathrm{data},I) = \\frac{1}{Z} \\mathbb{P}(\\mathrm{data}|\\mu,I) \\mathbb{P}(\\mu|I) $$\n",
    "where $Z$ is the normalization constant.\n",
    "\n",
    "The likelihood function $\\mathbb{P}(\\mathrm{data}|\\mu,I)$, assuming the data $x_i$ are independent, is a product of gaussians:\n",
    "$$\\mathbb{P}(\\mathrm{data}|\\mu,I) = \\prod_i \\frac{1}{\\sigma \\sqrt{2 \\pi}} \\exp\\left(-\\frac{1}{2} \\left( \\frac{x_i - \\mu}{\\sigma} \\right)^2 \\right) $$\n",
    "where, in our case, $\\sigma^2 = 9\\>\\mathrm{g}^2$."
   ]
  },
  {
   "cell_type": "code",
   "execution_count": 2,
   "metadata": {},
   "outputs": [],
   "source": [
    "sigma <- sqrt(9)\n",
    "\n",
    "#Unnormalized prior\n",
    "prior <- function(x) {\n",
    "    ifelse(x >= 991 & x <= 1010, 1, 0)\n",
    "}\n",
    "\n",
    "#Likelihood\n",
    "likelihood <- function(mu) {\n",
    "    like <- 1\n",
    "    \n",
    "    for (d in data) {\n",
    "        like <- like * dnorm(d, mu, sd = sigma)\n",
    "    }\n",
    "    \n",
    "    return(like)\n",
    "}"
   ]
  },
  {
   "cell_type": "code",
   "execution_count": 3,
   "metadata": {},
   "outputs": [],
   "source": [
    "mu.val <- seq(from=991, to=1010, length.out=500)\n",
    "mu.diff <- mu.val[2] - mu.val[1]\n",
    "\n",
    "posterior <- prior(mu.val) * likelihood(mu.val)\n",
    "\n",
    "#Normalize\n",
    "posterior <- posterior / ( sum(posterior) * (mu.diff) )\n"
   ]
  },
  {
   "cell_type": "code",
   "execution_count": 17,
   "metadata": {},
   "outputs": [
    {
     "data": {
      "image/png": "[encoded data removed]",
      "text/plain": [
       "plot without title"
      ]
     },
     "metadata": {},
     "output_type": "display_data"
    }
   ],
   "source": [
    "plot(mu.val, posterior, \"l\", xlab=expression(mu), ylab=\"Posterior\")"
   ]
  },
  {
   "cell_type": "code",
   "execution_count": 5,
   "metadata": {},
   "outputs": [],
   "source": [
    "ind <- tail(which(mu.val < 1000), n=1)"
   ]
  },
  {
   "cell_type": "code",
   "execution_count": 6,
   "metadata": {},
   "outputs": [
    {
     "data": {
      "text/html": [
       "0.995559036598805"
      ],
      "text/latex": [
       "0.995559036598805"
      ],
      "text/markdown": [
       "0.995559036598805"
      ],
      "text/plain": [
       "[1] 0.995559"
      ]
     },
     "metadata": {},
     "output_type": "display_data"
    }
   ],
   "source": [
    "sum(posterior[1:ind]) * (mu.diff) #Probability of mu < 1000"
   ]
  }
 ],
 "metadata": {
  "kernelspec": {
   "display_name": "R",
   "language": "R",
   "name": "ir"
  },
  "language_info": {
   "codemirror_mode": "r",
   "file_extension": ".r",
   "mimetype": "text/x-r-source",
   "name": "R",
   "pygments_lexer": "r",
   "version": "3.6.1"
  }
 },
 "nbformat": 4,
 "nbformat_minor": 2
}
