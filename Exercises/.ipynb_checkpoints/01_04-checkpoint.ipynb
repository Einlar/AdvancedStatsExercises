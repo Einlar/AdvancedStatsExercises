{
 "cells": [
  {
   "cell_type": "markdown",
   "metadata": {},
   "source": [
    "# Exercise_r01\n",
    "**Name**: Francesco Manzali <br/>\n",
    "**ID**: 1234428"
   ]
  },
  {
   "cell_type": "code",
   "execution_count": 1,
   "metadata": {},
   "outputs": [
    {
     "data": {
      "text/plain": [
       "R version 3.6.1 (2019-07-05)\n",
       "Platform: x86_64-w64-mingw32/x64 (64-bit)\n",
       "Running under: Windows 10 x64 (build 18362)\n",
       "\n",
       "Matrix products: default\n",
       "\n",
       "locale:\n",
       "[1] LC_COLLATE=Italian_Italy.1252  LC_CTYPE=Italian_Italy.1252   \n",
       "[3] LC_MONETARY=Italian_Italy.1252 LC_NUMERIC=C                  \n",
       "[5] LC_TIME=Italian_Italy.1252    \n",
       "\n",
       "attached base packages:\n",
       "[1] stats     graphics  grDevices utils     datasets  methods   base     \n",
       "\n",
       "loaded via a namespace (and not attached):\n",
       " [1] compiler_3.6.1  IRdisplay_0.7.0 pbdZMQ_0.3-3    tools_3.6.1    \n",
       " [5] htmltools_0.3.6 base64enc_0.1-3 crayon_1.3.4    Rcpp_1.0.1     \n",
       " [9] uuid_0.1-2      IRkernel_0.8.15 jsonlite_1.6    digest_0.6.18  \n",
       "[13] repr_0.19.2     evaluate_0.13  "
      ]
     },
     "metadata": {},
     "output_type": "display_data"
    }
   ],
   "source": [
    "sessionInfo()"
   ]
  },
  {
   "cell_type": "markdown",
   "metadata": {},
   "source": [
    "# Exercise 1"
   ]
  },
  {
   "cell_type": "code",
   "execution_count": 2,
   "metadata": {},
   "outputs": [
    {
     "name": "stdout",
     "output_type": "stream",
     "text": [
      "package 'units' successfully unpacked and MD5 sums checked\n",
      "\n",
      "The downloaded binary packages are in\n",
      "\tC:\\Users\\franc\\AppData\\Local\\Temp\\Rtmpm6S558\\downloaded_packages\n"
     ]
    }
   ],
   "source": [
    "install.packages('units') #to add units"
   ]
  },
  {
   "cell_type": "code",
   "execution_count": 3,
   "metadata": {},
   "outputs": [
    {
     "name": "stderr",
     "output_type": "stream",
     "text": [
      "Warning message:\n",
      "\"package 'units' was built under R version 3.6.3\"udunits system database from C:/Users/franc/Anaconda3/envs/MuonSource/Lib/R/library/units/share/udunits\n"
     ]
    }
   ],
   "source": [
    "library(units)"
   ]
  },
  {
   "cell_type": "code",
   "execution_count": 4,
   "metadata": {},
   "outputs": [],
   "source": [
    "loch <- paste0('Loch ', c('Ness', 'Lomond', 'Morar', 'Tay', 'Awe', 'Maree',\n",
    "                          'Ericht', 'Lochy', 'Rannoch', 'Shiel', 'Katrine', 'Arkaig', 'Shin'))\n",
    "volume <- c(7.45, 2.6, 2.3, 1.6, 1.2, 1.09, 1.08, 1.07, 0.97, 0.79, 0.77, 0.75, 0.35)\n",
    "units(volume) <- \"km^3\"\n",
    "area <- c(56, 71, 27, 26.4, 39, 28.6, 18.6, 16, 19, 19.5, 12.4, 16, 22.5)\n",
    "units(area) <- \"km^2\"\n",
    "length <- c(39, 36, 18.8, 23, 41, 20, 23, 16, 15.7, 28, 12.9, 19.3, 27.8)\n",
    "units(length) <- \"km\"\n",
    "max_depth <- c(230, 190, 310, 150, 94, 114, 156, 162, 134, 128, 151, 109, 49)\n",
    "units(max_depth) <- \"m\"\n",
    "mean_depth <- c(132, 37, 87, 60.6, 32, 38, 57.6, 70, 51, 40, 43.4, 46.5, 15.5)\n",
    "units(mean_depth) <- \"m\""
   ]
  },
  {
   "cell_type": "code",
   "execution_count": 5,
   "metadata": {},
   "outputs": [
    {
     "data": {
      "text/html": [
       "<table>\n",
       "<thead><tr><th scope=col>loch</th><th scope=col>volume</th><th scope=col>area</th><th scope=col>length</th><th scope=col>max_depth</th><th scope=col>mean_depth</th></tr></thead>\n",
       "<tbody>\n",
       "\t<tr><td>Loch Ness   </td><td>7.45 [km^3] </td><td>56.0 [km^2] </td><td>39.0 [km]   </td><td>230 [m]     </td><td>132.0 [m]   </td></tr>\n",
       "\t<tr><td>Loch Lomond </td><td>2.60 [km^3] </td><td>71.0 [km^2] </td><td>36.0 [km]   </td><td>190 [m]     </td><td> 37.0 [m]   </td></tr>\n",
       "\t<tr><td>Loch Morar  </td><td>2.30 [km^3] </td><td>27.0 [km^2] </td><td>18.8 [km]   </td><td>310 [m]     </td><td> 87.0 [m]   </td></tr>\n",
       "\t<tr><td>Loch Tay    </td><td>1.60 [km^3] </td><td>26.4 [km^2] </td><td>23.0 [km]   </td><td>150 [m]     </td><td> 60.6 [m]   </td></tr>\n",
       "\t<tr><td>Loch Awe    </td><td>1.20 [km^3] </td><td>39.0 [km^2] </td><td>41.0 [km]   </td><td> 94 [m]     </td><td> 32.0 [m]   </td></tr>\n",
       "\t<tr><td>Loch Maree  </td><td>1.09 [km^3] </td><td>28.6 [km^2] </td><td>20.0 [km]   </td><td>114 [m]     </td><td> 38.0 [m]   </td></tr>\n",
       "\t<tr><td>Loch Ericht </td><td>1.08 [km^3] </td><td>18.6 [km^2] </td><td>23.0 [km]   </td><td>156 [m]     </td><td> 57.6 [m]   </td></tr>\n",
       "\t<tr><td>Loch Lochy  </td><td>1.07 [km^3] </td><td>16.0 [km^2] </td><td>16.0 [km]   </td><td>162 [m]     </td><td> 70.0 [m]   </td></tr>\n",
       "\t<tr><td>Loch Rannoch</td><td>0.97 [km^3] </td><td>19.0 [km^2] </td><td>15.7 [km]   </td><td>134 [m]     </td><td> 51.0 [m]   </td></tr>\n",
       "\t<tr><td>Loch Shiel  </td><td>0.79 [km^3] </td><td>19.5 [km^2] </td><td>28.0 [km]   </td><td>128 [m]     </td><td> 40.0 [m]   </td></tr>\n",
       "\t<tr><td>Loch Katrine</td><td>0.77 [km^3] </td><td>12.4 [km^2] </td><td>12.9 [km]   </td><td>151 [m]     </td><td> 43.4 [m]   </td></tr>\n",
       "\t<tr><td>Loch Arkaig </td><td>0.75 [km^3] </td><td>16.0 [km^2] </td><td>19.3 [km]   </td><td>109 [m]     </td><td> 46.5 [m]   </td></tr>\n",
       "\t<tr><td>Loch Shin   </td><td>0.35 [km^3] </td><td>22.5 [km^2] </td><td>27.8 [km]   </td><td> 49 [m]     </td><td> 15.5 [m]   </td></tr>\n",
       "</tbody>\n",
       "</table>\n"
      ],
      "text/latex": [
       "\\begin{tabular}{r|llllll}\n",
       " loch & volume & area & length & max\\_depth & mean\\_depth\\\\\n",
       "\\hline\n",
       "\t Loch Ness                         & 7.45 {[}km\\textasciicircum{}3{]} & 56.0 {[}km\\textasciicircum{}2{]} & 39.0 {[}km{]}                     & 230 {[}m{]}                       & 132.0 {[}m{]}                    \\\\\n",
       "\t Loch Lomond                       & 2.60 {[}km\\textasciicircum{}3{]} & 71.0 {[}km\\textasciicircum{}2{]} & 36.0 {[}km{]}                     & 190 {[}m{]}                       &  37.0 {[}m{]}                    \\\\\n",
       "\t Loch Morar                        & 2.30 {[}km\\textasciicircum{}3{]} & 27.0 {[}km\\textasciicircum{}2{]} & 18.8 {[}km{]}                     & 310 {[}m{]}                       &  87.0 {[}m{]}                    \\\\\n",
       "\t Loch Tay                          & 1.60 {[}km\\textasciicircum{}3{]} & 26.4 {[}km\\textasciicircum{}2{]} & 23.0 {[}km{]}                     & 150 {[}m{]}                       &  60.6 {[}m{]}                    \\\\\n",
       "\t Loch Awe                          & 1.20 {[}km\\textasciicircum{}3{]} & 39.0 {[}km\\textasciicircum{}2{]} & 41.0 {[}km{]}                     &  94 {[}m{]}                       &  32.0 {[}m{]}                    \\\\\n",
       "\t Loch Maree                        & 1.09 {[}km\\textasciicircum{}3{]} & 28.6 {[}km\\textasciicircum{}2{]} & 20.0 {[}km{]}                     & 114 {[}m{]}                       &  38.0 {[}m{]}                    \\\\\n",
       "\t Loch Ericht                       & 1.08 {[}km\\textasciicircum{}3{]} & 18.6 {[}km\\textasciicircum{}2{]} & 23.0 {[}km{]}                     & 156 {[}m{]}                       &  57.6 {[}m{]}                    \\\\\n",
       "\t Loch Lochy                        & 1.07 {[}km\\textasciicircum{}3{]} & 16.0 {[}km\\textasciicircum{}2{]} & 16.0 {[}km{]}                     & 162 {[}m{]}                       &  70.0 {[}m{]}                    \\\\\n",
       "\t Loch Rannoch                      & 0.97 {[}km\\textasciicircum{}3{]} & 19.0 {[}km\\textasciicircum{}2{]} & 15.7 {[}km{]}                     & 134 {[}m{]}                       &  51.0 {[}m{]}                    \\\\\n",
       "\t Loch Shiel                        & 0.79 {[}km\\textasciicircum{}3{]} & 19.5 {[}km\\textasciicircum{}2{]} & 28.0 {[}km{]}                     & 128 {[}m{]}                       &  40.0 {[}m{]}                    \\\\\n",
       "\t Loch Katrine                      & 0.77 {[}km\\textasciicircum{}3{]} & 12.4 {[}km\\textasciicircum{}2{]} & 12.9 {[}km{]}                     & 151 {[}m{]}                       &  43.4 {[}m{]}                    \\\\\n",
       "\t Loch Arkaig                       & 0.75 {[}km\\textasciicircum{}3{]} & 16.0 {[}km\\textasciicircum{}2{]} & 19.3 {[}km{]}                     & 109 {[}m{]}                       &  46.5 {[}m{]}                    \\\\\n",
       "\t Loch Shin                         & 0.35 {[}km\\textasciicircum{}3{]} & 22.5 {[}km\\textasciicircum{}2{]} & 27.8 {[}km{]}                     &  49 {[}m{]}                       &  15.5 {[}m{]}                    \\\\\n",
       "\\end{tabular}\n"
      ],
      "text/markdown": [
       "\n",
       "| loch | volume | area | length | max_depth | mean_depth |\n",
       "|---|---|---|---|---|---|\n",
       "| Loch Ness    | 7.45 [km^3]  | 56.0 [km^2]  | 39.0 [km]    | 230 [m]      | 132.0 [m]    |\n",
       "| Loch Lomond  | 2.60 [km^3]  | 71.0 [km^2]  | 36.0 [km]    | 190 [m]      |  37.0 [m]    |\n",
       "| Loch Morar   | 2.30 [km^3]  | 27.0 [km^2]  | 18.8 [km]    | 310 [m]      |  87.0 [m]    |\n",
       "| Loch Tay     | 1.60 [km^3]  | 26.4 [km^2]  | 23.0 [km]    | 150 [m]      |  60.6 [m]    |\n",
       "| Loch Awe     | 1.20 [km^3]  | 39.0 [km^2]  | 41.0 [km]    |  94 [m]      |  32.0 [m]    |\n",
       "| Loch Maree   | 1.09 [km^3]  | 28.6 [km^2]  | 20.0 [km]    | 114 [m]      |  38.0 [m]    |\n",
       "| Loch Ericht  | 1.08 [km^3]  | 18.6 [km^2]  | 23.0 [km]    | 156 [m]      |  57.6 [m]    |\n",
       "| Loch Lochy   | 1.07 [km^3]  | 16.0 [km^2]  | 16.0 [km]    | 162 [m]      |  70.0 [m]    |\n",
       "| Loch Rannoch | 0.97 [km^3]  | 19.0 [km^2]  | 15.7 [km]    | 134 [m]      |  51.0 [m]    |\n",
       "| Loch Shiel   | 0.79 [km^3]  | 19.5 [km^2]  | 28.0 [km]    | 128 [m]      |  40.0 [m]    |\n",
       "| Loch Katrine | 0.77 [km^3]  | 12.4 [km^2]  | 12.9 [km]    | 151 [m]      |  43.4 [m]    |\n",
       "| Loch Arkaig  | 0.75 [km^3]  | 16.0 [km^2]  | 19.3 [km]    | 109 [m]      |  46.5 [m]    |\n",
       "| Loch Shin    | 0.35 [km^3]  | 22.5 [km^2]  | 27.8 [km]    |  49 [m]      |  15.5 [m]    |\n",
       "\n"
      ],
      "text/plain": [
       "   loch         volume      area        length    max_depth mean_depth\n",
       "1  Loch Ness    7.45 [km^3] 56.0 [km^2] 39.0 [km] 230 [m]   132.0 [m] \n",
       "2  Loch Lomond  2.60 [km^3] 71.0 [km^2] 36.0 [km] 190 [m]    37.0 [m] \n",
       "3  Loch Morar   2.30 [km^3] 27.0 [km^2] 18.8 [km] 310 [m]    87.0 [m] \n",
       "4  Loch Tay     1.60 [km^3] 26.4 [km^2] 23.0 [km] 150 [m]    60.6 [m] \n",
       "5  Loch Awe     1.20 [km^3] 39.0 [km^2] 41.0 [km]  94 [m]    32.0 [m] \n",
       "6  Loch Maree   1.09 [km^3] 28.6 [km^2] 20.0 [km] 114 [m]    38.0 [m] \n",
       "7  Loch Ericht  1.08 [km^3] 18.6 [km^2] 23.0 [km] 156 [m]    57.6 [m] \n",
       "8  Loch Lochy   1.07 [km^3] 16.0 [km^2] 16.0 [km] 162 [m]    70.0 [m] \n",
       "9  Loch Rannoch 0.97 [km^3] 19.0 [km^2] 15.7 [km] 134 [m]    51.0 [m] \n",
       "10 Loch Shiel   0.79 [km^3] 19.5 [km^2] 28.0 [km] 128 [m]    40.0 [m] \n",
       "11 Loch Katrine 0.77 [km^3] 12.4 [km^2] 12.9 [km] 151 [m]    43.4 [m] \n",
       "12 Loch Arkaig  0.75 [km^3] 16.0 [km^2] 19.3 [km] 109 [m]    46.5 [m] \n",
       "13 Loch Shin    0.35 [km^3] 22.5 [km^2] 27.8 [km]  49 [m]    15.5 [m] "
      ]
     },
     "metadata": {},
     "output_type": "display_data"
    }
   ],
   "source": [
    "#0. Build dataframe from vectors\n",
    "(scottish.lakes = data.frame(loch, volume, area, length, max_depth, mean_depth))"
   ]
  },
  {
   "cell_type": "code",
   "execution_count": 6,
   "metadata": {},
   "outputs": [
    {
     "data": {
      "text/html": [
       "'Maximum'"
      ],
      "text/latex": [
       "'Maximum'"
      ],
      "text/markdown": [
       "'Maximum'"
      ],
      "text/plain": [
       "[1] \"Maximum\""
      ]
     },
     "metadata": {},
     "output_type": "display_data"
    },
    {
     "data": {
      "text/html": [
       "<dl class=dl-horizontal>\n",
       "\t<dt>volume</dt>\n",
       "\t\t<dd>7.45</dd>\n",
       "\t<dt>area</dt>\n",
       "\t\t<dd>71</dd>\n",
       "</dl>\n"
      ],
      "text/latex": [
       "\\begin{description*}\n",
       "\\item[volume] 7.45\n",
       "\\item[area] 71\n",
       "\\end{description*}\n"
      ],
      "text/markdown": [
       "volume\n",
       ":   7.45area\n",
       ":   71\n",
       "\n"
      ],
      "text/plain": [
       "volume   area \n",
       "  7.45  71.00 "
      ]
     },
     "metadata": {},
     "output_type": "display_data"
    },
    {
     "data": {
      "text/html": [
       "'Minimum'"
      ],
      "text/latex": [
       "'Minimum'"
      ],
      "text/markdown": [
       "'Minimum'"
      ],
      "text/plain": [
       "[1] \"Minimum\""
      ]
     },
     "metadata": {},
     "output_type": "display_data"
    },
    {
     "data": {
      "text/html": [
       "<dl class=dl-horizontal>\n",
       "\t<dt>volume</dt>\n",
       "\t\t<dd>0.35</dd>\n",
       "\t<dt>area</dt>\n",
       "\t\t<dd>12.4</dd>\n",
       "</dl>\n"
      ],
      "text/latex": [
       "\\begin{description*}\n",
       "\\item[volume] 0.35\n",
       "\\item[area] 12.4\n",
       "\\end{description*}\n"
      ],
      "text/markdown": [
       "volume\n",
       ":   0.35area\n",
       ":   12.4\n",
       "\n"
      ],
      "text/plain": [
       "volume   area \n",
       "  0.35  12.40 "
      ]
     },
     "metadata": {},
     "output_type": "display_data"
    }
   ],
   "source": [
    "#1. Evalaute the highest and lowest volume and area lake\n",
    "volume_area = scottish.lakes[,c(2,3)]\n",
    "sprintf('Maximum')\n",
    "apply(volume_area, 2, max)\n",
    "sprintf('Minimum')\n",
    "apply(volume_area, 2, min)"
   ]
  },
  {
   "cell_type": "code",
   "execution_count": 7,
   "metadata": {},
   "outputs": [
    {
     "data": {
      "text/html": [
       "<table>\n",
       "<thead><tr><th></th><th scope=col>loch</th><th scope=col>volume</th><th scope=col>area</th><th scope=col>length</th><th scope=col>max_depth</th><th scope=col>mean_depth</th></tr></thead>\n",
       "<tbody>\n",
       "\t<tr><th scope=row>2</th><td>Loch Lomond </td><td>2.60 [km^3] </td><td>71.0 [km^2] </td><td>36.0 [km]   </td><td>190 [m]     </td><td> 37.0 [m]   </td></tr>\n",
       "\t<tr><th scope=row>1</th><td>Loch Ness   </td><td>7.45 [km^3] </td><td>56.0 [km^2] </td><td>39.0 [km]   </td><td>230 [m]     </td><td>132.0 [m]   </td></tr>\n",
       "\t<tr><th scope=row>5</th><td>Loch Awe    </td><td>1.20 [km^3] </td><td>39.0 [km^2] </td><td>41.0 [km]   </td><td> 94 [m]     </td><td> 32.0 [m]   </td></tr>\n",
       "\t<tr><th scope=row>6</th><td>Loch Maree  </td><td>1.09 [km^3] </td><td>28.6 [km^2] </td><td>20.0 [km]   </td><td>114 [m]     </td><td> 38.0 [m]   </td></tr>\n",
       "\t<tr><th scope=row>3</th><td>Loch Morar  </td><td>2.30 [km^3] </td><td>27.0 [km^2] </td><td>18.8 [km]   </td><td>310 [m]     </td><td> 87.0 [m]   </td></tr>\n",
       "\t<tr><th scope=row>4</th><td>Loch Tay    </td><td>1.60 [km^3] </td><td>26.4 [km^2] </td><td>23.0 [km]   </td><td>150 [m]     </td><td> 60.6 [m]   </td></tr>\n",
       "\t<tr><th scope=row>13</th><td>Loch Shin   </td><td>0.35 [km^3] </td><td>22.5 [km^2] </td><td>27.8 [km]   </td><td> 49 [m]     </td><td> 15.5 [m]   </td></tr>\n",
       "\t<tr><th scope=row>10</th><td>Loch Shiel  </td><td>0.79 [km^3] </td><td>19.5 [km^2] </td><td>28.0 [km]   </td><td>128 [m]     </td><td> 40.0 [m]   </td></tr>\n",
       "\t<tr><th scope=row>9</th><td>Loch Rannoch</td><td>0.97 [km^3] </td><td>19.0 [km^2] </td><td>15.7 [km]   </td><td>134 [m]     </td><td> 51.0 [m]   </td></tr>\n",
       "\t<tr><th scope=row>7</th><td>Loch Ericht </td><td>1.08 [km^3] </td><td>18.6 [km^2] </td><td>23.0 [km]   </td><td>156 [m]     </td><td> 57.6 [m]   </td></tr>\n",
       "\t<tr><th scope=row>8</th><td>Loch Lochy  </td><td>1.07 [km^3] </td><td>16.0 [km^2] </td><td>16.0 [km]   </td><td>162 [m]     </td><td> 70.0 [m]   </td></tr>\n",
       "\t<tr><th scope=row>12</th><td>Loch Arkaig </td><td>0.75 [km^3] </td><td>16.0 [km^2] </td><td>19.3 [km]   </td><td>109 [m]     </td><td> 46.5 [m]   </td></tr>\n",
       "\t<tr><th scope=row>11</th><td>Loch Katrine</td><td>0.77 [km^3] </td><td>12.4 [km^2] </td><td>12.9 [km]   </td><td>151 [m]     </td><td> 43.4 [m]   </td></tr>\n",
       "</tbody>\n",
       "</table>\n"
      ],
      "text/latex": [
       "\\begin{tabular}{r|llllll}\n",
       "  & loch & volume & area & length & max\\_depth & mean\\_depth\\\\\n",
       "\\hline\n",
       "\t2 & Loch Lomond                       & 2.60 {[}km\\textasciicircum{}3{]} & 71.0 {[}km\\textasciicircum{}2{]} & 36.0 {[}km{]}                     & 190 {[}m{]}                       &  37.0 {[}m{]}                    \\\\\n",
       "\t1 & Loch Ness                         & 7.45 {[}km\\textasciicircum{}3{]} & 56.0 {[}km\\textasciicircum{}2{]} & 39.0 {[}km{]}                     & 230 {[}m{]}                       & 132.0 {[}m{]}                    \\\\\n",
       "\t5 & Loch Awe                          & 1.20 {[}km\\textasciicircum{}3{]} & 39.0 {[}km\\textasciicircum{}2{]} & 41.0 {[}km{]}                     &  94 {[}m{]}                       &  32.0 {[}m{]}                    \\\\\n",
       "\t6 & Loch Maree                        & 1.09 {[}km\\textasciicircum{}3{]} & 28.6 {[}km\\textasciicircum{}2{]} & 20.0 {[}km{]}                     & 114 {[}m{]}                       &  38.0 {[}m{]}                    \\\\\n",
       "\t3 & Loch Morar                        & 2.30 {[}km\\textasciicircum{}3{]} & 27.0 {[}km\\textasciicircum{}2{]} & 18.8 {[}km{]}                     & 310 {[}m{]}                       &  87.0 {[}m{]}                    \\\\\n",
       "\t4 & Loch Tay                          & 1.60 {[}km\\textasciicircum{}3{]} & 26.4 {[}km\\textasciicircum{}2{]} & 23.0 {[}km{]}                     & 150 {[}m{]}                       &  60.6 {[}m{]}                    \\\\\n",
       "\t13 & Loch Shin                         & 0.35 {[}km\\textasciicircum{}3{]} & 22.5 {[}km\\textasciicircum{}2{]} & 27.8 {[}km{]}                     &  49 {[}m{]}                       &  15.5 {[}m{]}                    \\\\\n",
       "\t10 & Loch Shiel                        & 0.79 {[}km\\textasciicircum{}3{]} & 19.5 {[}km\\textasciicircum{}2{]} & 28.0 {[}km{]}                     & 128 {[}m{]}                       &  40.0 {[}m{]}                    \\\\\n",
       "\t9 & Loch Rannoch                      & 0.97 {[}km\\textasciicircum{}3{]} & 19.0 {[}km\\textasciicircum{}2{]} & 15.7 {[}km{]}                     & 134 {[}m{]}                       &  51.0 {[}m{]}                    \\\\\n",
       "\t7 & Loch Ericht                       & 1.08 {[}km\\textasciicircum{}3{]} & 18.6 {[}km\\textasciicircum{}2{]} & 23.0 {[}km{]}                     & 156 {[}m{]}                       &  57.6 {[}m{]}                    \\\\\n",
       "\t8 & Loch Lochy                        & 1.07 {[}km\\textasciicircum{}3{]} & 16.0 {[}km\\textasciicircum{}2{]} & 16.0 {[}km{]}                     & 162 {[}m{]}                       &  70.0 {[}m{]}                    \\\\\n",
       "\t12 & Loch Arkaig                       & 0.75 {[}km\\textasciicircum{}3{]} & 16.0 {[}km\\textasciicircum{}2{]} & 19.3 {[}km{]}                     & 109 {[}m{]}                       &  46.5 {[}m{]}                    \\\\\n",
       "\t11 & Loch Katrine                      & 0.77 {[}km\\textasciicircum{}3{]} & 12.4 {[}km\\textasciicircum{}2{]} & 12.9 {[}km{]}                     & 151 {[}m{]}                       &  43.4 {[}m{]}                    \\\\\n",
       "\\end{tabular}\n"
      ],
      "text/markdown": [
       "\n",
       "| <!--/--> | loch | volume | area | length | max_depth | mean_depth |\n",
       "|---|---|---|---|---|---|---|\n",
       "| 2 | Loch Lomond  | 2.60 [km^3]  | 71.0 [km^2]  | 36.0 [km]    | 190 [m]      |  37.0 [m]    |\n",
       "| 1 | Loch Ness    | 7.45 [km^3]  | 56.0 [km^2]  | 39.0 [km]    | 230 [m]      | 132.0 [m]    |\n",
       "| 5 | Loch Awe     | 1.20 [km^3]  | 39.0 [km^2]  | 41.0 [km]    |  94 [m]      |  32.0 [m]    |\n",
       "| 6 | Loch Maree   | 1.09 [km^3]  | 28.6 [km^2]  | 20.0 [km]    | 114 [m]      |  38.0 [m]    |\n",
       "| 3 | Loch Morar   | 2.30 [km^3]  | 27.0 [km^2]  | 18.8 [km]    | 310 [m]      |  87.0 [m]    |\n",
       "| 4 | Loch Tay     | 1.60 [km^3]  | 26.4 [km^2]  | 23.0 [km]    | 150 [m]      |  60.6 [m]    |\n",
       "| 13 | Loch Shin    | 0.35 [km^3]  | 22.5 [km^2]  | 27.8 [km]    |  49 [m]      |  15.5 [m]    |\n",
       "| 10 | Loch Shiel   | 0.79 [km^3]  | 19.5 [km^2]  | 28.0 [km]    | 128 [m]      |  40.0 [m]    |\n",
       "| 9 | Loch Rannoch | 0.97 [km^3]  | 19.0 [km^2]  | 15.7 [km]    | 134 [m]      |  51.0 [m]    |\n",
       "| 7 | Loch Ericht  | 1.08 [km^3]  | 18.6 [km^2]  | 23.0 [km]    | 156 [m]      |  57.6 [m]    |\n",
       "| 8 | Loch Lochy   | 1.07 [km^3]  | 16.0 [km^2]  | 16.0 [km]    | 162 [m]      |  70.0 [m]    |\n",
       "| 12 | Loch Arkaig  | 0.75 [km^3]  | 16.0 [km^2]  | 19.3 [km]    | 109 [m]      |  46.5 [m]    |\n",
       "| 11 | Loch Katrine | 0.77 [km^3]  | 12.4 [km^2]  | 12.9 [km]    | 151 [m]      |  43.4 [m]    |\n",
       "\n"
      ],
      "text/plain": [
       "   loch         volume      area        length    max_depth mean_depth\n",
       "2  Loch Lomond  2.60 [km^3] 71.0 [km^2] 36.0 [km] 190 [m]    37.0 [m] \n",
       "1  Loch Ness    7.45 [km^3] 56.0 [km^2] 39.0 [km] 230 [m]   132.0 [m] \n",
       "5  Loch Awe     1.20 [km^3] 39.0 [km^2] 41.0 [km]  94 [m]    32.0 [m] \n",
       "6  Loch Maree   1.09 [km^3] 28.6 [km^2] 20.0 [km] 114 [m]    38.0 [m] \n",
       "3  Loch Morar   2.30 [km^3] 27.0 [km^2] 18.8 [km] 310 [m]    87.0 [m] \n",
       "4  Loch Tay     1.60 [km^3] 26.4 [km^2] 23.0 [km] 150 [m]    60.6 [m] \n",
       "13 Loch Shin    0.35 [km^3] 22.5 [km^2] 27.8 [km]  49 [m]    15.5 [m] \n",
       "10 Loch Shiel   0.79 [km^3] 19.5 [km^2] 28.0 [km] 128 [m]    40.0 [m] \n",
       "9  Loch Rannoch 0.97 [km^3] 19.0 [km^2] 15.7 [km] 134 [m]    51.0 [m] \n",
       "7  Loch Ericht  1.08 [km^3] 18.6 [km^2] 23.0 [km] 156 [m]    57.6 [m] \n",
       "8  Loch Lochy   1.07 [km^3] 16.0 [km^2] 16.0 [km] 162 [m]    70.0 [m] \n",
       "12 Loch Arkaig  0.75 [km^3] 16.0 [km^2] 19.3 [km] 109 [m]    46.5 [m] \n",
       "11 Loch Katrine 0.77 [km^3] 12.4 [km^2] 12.9 [km] 151 [m]    43.4 [m] "
      ]
     },
     "metadata": {},
     "output_type": "display_data"
    }
   ],
   "source": [
    "#2. Order the frame with respect to the area and determine the two largest area lakes\n",
    "(area_sorted = scottish.lakes[order(area, decreasing=TRUE),])"
   ]
  },
  {
   "cell_type": "code",
   "execution_count": 8,
   "metadata": {},
   "outputs": [
    {
     "data": {
      "text/html": [
       "<table>\n",
       "<thead><tr><th></th><th scope=col>loch</th><th scope=col>volume</th><th scope=col>area</th><th scope=col>length</th><th scope=col>max_depth</th><th scope=col>mean_depth</th></tr></thead>\n",
       "<tbody>\n",
       "\t<tr><th scope=row>2</th><td>Loch Lomond</td><td>2.60 [km^3]</td><td>71 [km^2]  </td><td>36 [km]    </td><td>190 [m]    </td><td> 37 [m]    </td></tr>\n",
       "\t<tr><th scope=row>1</th><td>Loch Ness  </td><td>7.45 [km^3]</td><td>56 [km^2]  </td><td>39 [km]    </td><td>230 [m]    </td><td>132 [m]    </td></tr>\n",
       "</tbody>\n",
       "</table>\n"
      ],
      "text/latex": [
       "\\begin{tabular}{r|llllll}\n",
       "  & loch & volume & area & length & max\\_depth & mean\\_depth\\\\\n",
       "\\hline\n",
       "\t2 & Loch Lomond                       & 2.60 {[}km\\textasciicircum{}3{]} & 71 {[}km\\textasciicircum{}2{]}   & 36 {[}km{]}                       & 190 {[}m{]}                       &  37 {[}m{]}                      \\\\\n",
       "\t1 & Loch Ness                         & 7.45 {[}km\\textasciicircum{}3{]} & 56 {[}km\\textasciicircum{}2{]}   & 39 {[}km{]}                       & 230 {[}m{]}                       & 132 {[}m{]}                      \\\\\n",
       "\\end{tabular}\n"
      ],
      "text/markdown": [
       "\n",
       "| <!--/--> | loch | volume | area | length | max_depth | mean_depth |\n",
       "|---|---|---|---|---|---|---|\n",
       "| 2 | Loch Lomond | 2.60 [km^3] | 71 [km^2]   | 36 [km]     | 190 [m]     |  37 [m]     |\n",
       "| 1 | Loch Ness   | 7.45 [km^3] | 56 [km^2]   | 39 [km]     | 230 [m]     | 132 [m]     |\n",
       "\n"
      ],
      "text/plain": [
       "  loch        volume      area      length  max_depth mean_depth\n",
       "2 Loch Lomond 2.60 [km^3] 71 [km^2] 36 [km] 190 [m]    37 [m]   \n",
       "1 Loch Ness   7.45 [km^3] 56 [km^2] 39 [km] 230 [m]   132 [m]   "
      ]
     },
     "metadata": {},
     "output_type": "display_data"
    }
   ],
   "source": [
    "#Two lakes with highest area\n",
    "area_sorted[1:2,]"
   ]
  },
  {
   "cell_type": "code",
   "execution_count": 38,
   "metadata": {},
   "outputs": [
    {
     "data": {
      "text/html": [
       "'Area of Scotland covered by water is 372 km^2'"
      ],
      "text/latex": [
       "'Area of Scotland covered by water is 372 km\\textasciicircum{}2'"
      ],
      "text/markdown": [
       "'Area of Scotland covered by water is 372 km^2'"
      ],
      "text/plain": [
       "[1] \"Area of Scotland covered by water is 372 km^2\""
      ]
     },
     "metadata": {},
     "output_type": "display_data"
    }
   ],
   "source": [
    "#3. By summing up the areas occupied by the lakes, determine the area of Scotland covered by water\n",
    "sprintf('Area of Scotland covered by water is %d km^2', sum(scottish.lakes$area))"
   ]
  },
  {
   "cell_type": "markdown",
   "metadata": {},
   "source": [
    "# Exercise 2"
   ]
  },
  {
   "cell_type": "code",
   "execution_count": 10,
   "metadata": {},
   "outputs": [],
   "source": [
    "install.packages(c('DAAG', 'tibble'), type='source')"
   ]
  },
  {
   "cell_type": "code",
   "execution_count": 11,
   "metadata": {},
   "outputs": [
    {
     "name": "stderr",
     "output_type": "stream",
     "text": [
      "Loading required package: lattice\n"
     ]
    }
   ],
   "source": [
    "#Load libraries\n",
    "library(tibble)\n",
    "library(DAAG)"
   ]
  },
  {
   "cell_type": "code",
   "execution_count": 12,
   "metadata": {},
   "outputs": [],
   "source": [
    "#Get information on the package content and on the ais data frame\n",
    "?tibble"
   ]
  },
  {
   "cell_type": "code",
   "execution_count": 13,
   "metadata": {},
   "outputs": [],
   "source": [
    "library(help='DAAG') #DAAG contains several datasets"
   ]
  },
  {
   "cell_type": "code",
   "execution_count": 14,
   "metadata": {},
   "outputs": [],
   "source": [
    "?ais #measurements of blood characteristics for various athletes"
   ]
  },
  {
   "cell_type": "code",
   "execution_count": 15,
   "metadata": {
    "scrolled": true
   },
   "outputs": [
    {
     "data": {
      "text/html": [
       "<table>\n",
       "<thead><tr><th scope=col>rcc</th><th scope=col>wcc</th><th scope=col>hc</th><th scope=col>hg</th><th scope=col>ferr</th><th scope=col>bmi</th><th scope=col>ssf</th><th scope=col>pcBfat</th><th scope=col>lbm</th><th scope=col>ht</th><th scope=col>wt</th><th scope=col>sex</th><th scope=col>sport</th></tr></thead>\n",
       "<tbody>\n",
       "\t<tr><td>3.96  </td><td>7.5   </td><td>37.5  </td><td>12.3  </td><td>60    </td><td>20.56 </td><td>109.1 </td><td>19.75 </td><td>63.32 </td><td>195.9 </td><td>78.9  </td><td>f     </td><td>B_Ball</td></tr>\n",
       "\t<tr><td>4.41  </td><td>8.3   </td><td>38.2  </td><td>12.7  </td><td>68    </td><td>20.67 </td><td>102.8 </td><td>21.30 </td><td>58.55 </td><td>189.7 </td><td>74.4  </td><td>f     </td><td>B_Ball</td></tr>\n",
       "\t<tr><td>4.14  </td><td>5.0   </td><td>36.4  </td><td>11.6  </td><td>21    </td><td>21.86 </td><td>104.6 </td><td>19.88 </td><td>55.36 </td><td>177.8 </td><td>69.1  </td><td>f     </td><td>B_Ball</td></tr>\n",
       "\t<tr><td>4.11  </td><td>5.3   </td><td>37.3  </td><td>12.6  </td><td>69    </td><td>21.88 </td><td>126.4 </td><td>23.66 </td><td>57.18 </td><td>185.0 </td><td>74.9  </td><td>f     </td><td>B_Ball</td></tr>\n",
       "\t<tr><td>4.45  </td><td>6.8   </td><td>41.5  </td><td>14.0  </td><td>29    </td><td>18.96 </td><td> 80.3 </td><td>17.64 </td><td>53.20 </td><td>184.6 </td><td>64.6  </td><td>f     </td><td>B_Ball</td></tr>\n",
       "\t<tr><td>4.10  </td><td>4.4   </td><td>37.4  </td><td>12.5  </td><td>42    </td><td>21.04 </td><td> 75.2 </td><td>15.58 </td><td>53.77 </td><td>174.0 </td><td>63.7  </td><td>f     </td><td>B_Ball</td></tr>\n",
       "\t<tr><td>4.31  </td><td>5.3   </td><td>39.6  </td><td>12.8  </td><td>73    </td><td>21.69 </td><td> 87.2 </td><td>19.99 </td><td>60.17 </td><td>186.2 </td><td>75.2  </td><td>f     </td><td>B_Ball</td></tr>\n",
       "\t<tr><td>4.42  </td><td>5.7   </td><td>39.9  </td><td>13.2  </td><td>44    </td><td>20.62 </td><td> 97.9 </td><td>22.43 </td><td>48.33 </td><td>173.8 </td><td>62.3  </td><td>f     </td><td>B_Ball</td></tr>\n",
       "\t<tr><td>4.30  </td><td>8.9   </td><td>41.1  </td><td>13.5  </td><td>41    </td><td>22.64 </td><td> 75.1 </td><td>17.95 </td><td>54.57 </td><td>171.4 </td><td>66.5  </td><td>f     </td><td>B_Ball</td></tr>\n",
       "\t<tr><td>4.51  </td><td>4.4   </td><td>41.6  </td><td>12.7  </td><td>44    </td><td>19.44 </td><td> 65.1 </td><td>15.07 </td><td>53.42 </td><td>179.9 </td><td>62.9  </td><td>f     </td><td>B_Ball</td></tr>\n",
       "\t<tr><td>4.71  </td><td>5.3   </td><td>41.4  </td><td>14.0  </td><td>38    </td><td>25.75 </td><td>171.1 </td><td>28.83 </td><td>68.53 </td><td>193.4 </td><td>96.3  </td><td>f     </td><td>B_Ball</td></tr>\n",
       "\t<tr><td>4.62  </td><td>7.3   </td><td>43.8  </td><td>14.7  </td><td>26    </td><td>21.20 </td><td> 76.8 </td><td>18.08 </td><td>61.85 </td><td>188.7 </td><td>75.5  </td><td>f     </td><td>B_Ball</td></tr>\n",
       "\t<tr><td>4.35  </td><td>7.8   </td><td>41.4  </td><td>14.1  </td><td>30    </td><td>22.03 </td><td>117.8 </td><td>23.30 </td><td>48.32 </td><td>169.1 </td><td>63.0  </td><td>f     </td><td>B_Ball</td></tr>\n",
       "\t<tr><td>4.26  </td><td>6.2   </td><td>41.0  </td><td>13.9  </td><td>48    </td><td>25.44 </td><td> 90.2 </td><td>17.71 </td><td>66.24 </td><td>177.9 </td><td>80.5  </td><td>f     </td><td>Row   </td></tr>\n",
       "\t<tr><td>4.63  </td><td>6.0   </td><td>43.7  </td><td>14.7  </td><td>30    </td><td>22.63 </td><td> 97.2 </td><td>18.77 </td><td>57.92 </td><td>177.5 </td><td>71.3  </td><td>f     </td><td>Row   </td></tr>\n",
       "\t<tr><td>4.36  </td><td>5.8   </td><td>40.3  </td><td>13.3  </td><td>29    </td><td>21.86 </td><td> 99.9 </td><td>19.83 </td><td>56.52 </td><td>179.6 </td><td>70.5  </td><td>f     </td><td>Row   </td></tr>\n",
       "\t<tr><td>3.91  </td><td>7.3   </td><td>37.6  </td><td>12.9  </td><td>43    </td><td>22.27 </td><td>125.9 </td><td>25.16 </td><td>54.78 </td><td>181.3 </td><td>73.2  </td><td>f     </td><td>Row   </td></tr>\n",
       "\t<tr><td>4.51  </td><td>8.3   </td><td>43.7  </td><td>14.7  </td><td>34    </td><td>21.27 </td><td> 69.9 </td><td>18.04 </td><td>56.31 </td><td>179.7 </td><td>68.7  </td><td>f     </td><td>Row   </td></tr>\n",
       "\t<tr><td>4.37  </td><td>8.1   </td><td>41.8  </td><td>14.3  </td><td>53    </td><td>23.47 </td><td> 98.0 </td><td>21.79 </td><td>62.96 </td><td>185.2 </td><td>80.5  </td><td>f     </td><td>Row   </td></tr>\n",
       "\t<tr><td>4.90  </td><td>6.9   </td><td>44.0  </td><td>14.5  </td><td>59    </td><td>23.19 </td><td> 96.8 </td><td>22.25 </td><td>56.68 </td><td>177.3 </td><td>72.9  </td><td>f     </td><td>Row   </td></tr>\n",
       "\t<tr><td>4.46  </td><td>5.7   </td><td>39.2  </td><td>13.0  </td><td>43    </td><td>23.17 </td><td> 80.3 </td><td>16.25 </td><td>62.39 </td><td>179.3 </td><td>74.5  </td><td>f     </td><td>Row   </td></tr>\n",
       "\t<tr><td>3.95  </td><td>3.3   </td><td>36.9  </td><td>12.5  </td><td>40    </td><td>24.54 </td><td> 74.9 </td><td>16.38 </td><td>63.05 </td><td>175.3 </td><td>75.4  </td><td>f     </td><td>Row   </td></tr>\n",
       "\t<tr><td>4.46  </td><td>9.5   </td><td>41.5  </td><td>14.5  </td><td>92    </td><td>22.96 </td><td> 83.0 </td><td>19.35 </td><td>56.05 </td><td>174.0 </td><td>69.5  </td><td>f     </td><td>Row   </td></tr>\n",
       "\t<tr><td>5.02  </td><td>6.4   </td><td>44.8  </td><td>15.2  </td><td>48    </td><td>19.76 </td><td> 91.0 </td><td>19.20 </td><td>53.65 </td><td>183.3 </td><td>66.4  </td><td>f     </td><td>Row   </td></tr>\n",
       "\t<tr><td>4.26  </td><td>5.8   </td><td>41.2  </td><td>14.1  </td><td>77    </td><td>23.36 </td><td> 76.2 </td><td>17.89 </td><td>65.45 </td><td>184.7 </td><td>79.7  </td><td>f     </td><td>Row   </td></tr>\n",
       "\t<tr><td>4.46  </td><td>5.6   </td><td>41.1  </td><td>14.3  </td><td>71    </td><td>22.67 </td><td> 52.6 </td><td>12.20 </td><td>64.62 </td><td>180.2 </td><td>73.6  </td><td>f     </td><td>Row   </td></tr>\n",
       "\t<tr><td>4.16  </td><td>5.8   </td><td>39.8  </td><td>13.3  </td><td>37    </td><td>24.24 </td><td>111.1 </td><td>23.70 </td><td>60.05 </td><td>180.2 </td><td>78.7  </td><td>f     </td><td>Row   </td></tr>\n",
       "\t<tr><td>4.49  </td><td>7.6   </td><td>41.8  </td><td>14.4  </td><td>71    </td><td>24.21 </td><td>110.7 </td><td>24.69 </td><td>56.48 </td><td>176.0 </td><td>75.0  </td><td>f     </td><td>Row   </td></tr>\n",
       "\t<tr><td>4.21  </td><td>7.5   </td><td>38.4  </td><td>13.2  </td><td>73    </td><td>20.46 </td><td> 74.7 </td><td>16.58 </td><td>41.54 </td><td>156.0 </td><td>49.8  </td><td>f     </td><td>Row   </td></tr>\n",
       "\t<tr><td>4.57  </td><td>6.6   </td><td>42.8  </td><td>14.5  </td><td>85    </td><td>20.81 </td><td>113.5 </td><td>21.47 </td><td>52.78 </td><td>179.7 </td><td>67.2  </td><td>f     </td><td>Row   </td></tr>\n",
       "\t<tr><td>...</td><td>...</td><td>...</td><td>...</td><td>...</td><td>...</td><td>...</td><td>...</td><td>...</td><td>...</td><td>...</td><td>...</td><td>...</td></tr>\n",
       "\t<tr><td>5.49   </td><td> 5.9   </td><td>47.7   </td><td>15.9   </td><td> 66    </td><td>22.28  </td><td> 48.0  </td><td> 8.84  </td><td>65     </td><td>178.5  </td><td> 71.0  </td><td>m      </td><td>T_400m </td></tr>\n",
       "\t<tr><td>5.59   </td><td> 7.9   </td><td>49.7   </td><td>17.2   </td><td>220    </td><td>23.55  </td><td> 41.9  </td><td> 8.94  </td><td>63     </td><td>171.3  </td><td> 69.1  </td><td>m      </td><td>T_Sprnt</td></tr>\n",
       "\t<tr><td>5.03   </td><td> 6.6   </td><td>44.7   </td><td>15.9   </td><td>191    </td><td>19.85  </td><td> 30.9  </td><td> 6.53  </td><td>59     </td><td>178.0  </td><td> 62.9  </td><td>m      </td><td>T_400m </td></tr>\n",
       "\t<tr><td>5.50   </td><td> 6.4   </td><td>48.1   </td><td>16.5   </td><td> 40    </td><td>26.51  </td><td> 52.8  </td><td> 9.40  </td><td>86     </td><td>189.1  </td><td> 94.8  </td><td>m      </td><td>T_Sprnt</td></tr>\n",
       "\t<tr><td>5.11   </td><td> 9.3   </td><td>45.4   </td><td>15.8   </td><td>189    </td><td>24.78  </td><td> 43.2  </td><td> 8.18  </td><td>87     </td><td>195.4  </td><td> 94.6  </td><td>m      </td><td>Field  </td></tr>\n",
       "\t<tr><td>4.96   </td><td> 8.3   </td><td>45.3   </td><td>15.7   </td><td>141    </td><td>33.73  </td><td>113.5  </td><td>17.41  </td><td>89     </td><td>179.1  </td><td>108.2  </td><td>m      </td><td>Field  </td></tr>\n",
       "\t<tr><td>5.01   </td><td> 8.9   </td><td>46.0   </td><td>15.9   </td><td>212    </td><td>30.18  </td><td> 96.9  </td><td>18.08  </td><td>80     </td><td>180.1  </td><td> 97.9  </td><td>m      </td><td>Field  </td></tr>\n",
       "\t<tr><td>5.11   </td><td> 8.7   </td><td>46.5   </td><td>16.3   </td><td> 97    </td><td>23.31  </td><td> 49.3  </td><td> 9.86  </td><td>68     </td><td>179.6  </td><td> 75.2  </td><td>m      </td><td>Field  </td></tr>\n",
       "\t<tr><td>5.69   </td><td>10.8   </td><td>50.5   </td><td>18.5   </td><td> 53    </td><td>24.51  </td><td> 42.3  </td><td> 7.29  </td><td>69     </td><td>174.7  </td><td> 74.8  </td><td>m      </td><td>T_Sprnt</td></tr>\n",
       "\t<tr><td>4.63   </td><td> 9.1   </td><td>42.1   </td><td>14.4   </td><td>126    </td><td>25.37  </td><td> 96.3  </td><td>18.72  </td><td>77     </td><td>192.7  </td><td> 94.2  </td><td>m      </td><td>W_Polo </td></tr>\n",
       "\t<tr><td>4.91   </td><td>10.2   </td><td>45.0   </td><td>15.2   </td><td>234    </td><td>23.67  </td><td> 56.5  </td><td>10.12  </td><td>68     </td><td>179.3  </td><td> 76.1  </td><td>m      </td><td>W_Polo </td></tr>\n",
       "\t<tr><td>4.95   </td><td> 7.5   </td><td>44.5   </td><td>15.0   </td><td> 50    </td><td>24.28  </td><td>105.7  </td><td>19.17  </td><td>77     </td><td>197.5  </td><td> 94.7  </td><td>m      </td><td>W_Polo </td></tr>\n",
       "\t<tr><td>5.34   </td><td>10.0   </td><td>46.8   </td><td>16.2   </td><td> 94    </td><td>25.82  </td><td>100.7  </td><td>17.24  </td><td>71     </td><td>182.7  </td><td> 86.2  </td><td>m      </td><td>W_Polo </td></tr>\n",
       "\t<tr><td>5.16   </td><td>12.9   </td><td>47.6   </td><td>15.6   </td><td>156    </td><td>21.93  </td><td> 56.8  </td><td> 9.89  </td><td>72     </td><td>190.5  </td><td> 79.6  </td><td>m      </td><td>W_Polo </td></tr>\n",
       "\t<tr><td>5.29   </td><td>12.7   </td><td>48.0   </td><td>16.2   </td><td>124    </td><td>23.38  </td><td> 75.9  </td><td>13.06  </td><td>74     </td><td>191.0  </td><td> 85.3  </td><td>m      </td><td>W_Polo </td></tr>\n",
       "\t<tr><td>5.02   </td><td> 6.1   </td><td>43.6   </td><td>14.8   </td><td> 87    </td><td>23.07  </td><td> 52.8  </td><td> 8.84  </td><td>68     </td><td>179.6  </td><td> 74.4  </td><td>m      </td><td>W_Polo </td></tr>\n",
       "\t<tr><td>5.01   </td><td> 9.8   </td><td>46.5   </td><td>15.8   </td><td> 97    </td><td>25.21  </td><td> 47.8  </td><td> 8.87  </td><td>85     </td><td>192.6  </td><td> 93.5  </td><td>m      </td><td>W_Polo </td></tr>\n",
       "\t<tr><td>5.03   </td><td> 7.5   </td><td>43.6   </td><td>14.4   </td><td>102    </td><td>23.25  </td><td> 76.0  </td><td>14.69  </td><td>75     </td><td>194.1  </td><td> 87.6  </td><td>m      </td><td>W_Polo </td></tr>\n",
       "\t<tr><td>5.25   </td><td> 7.4   </td><td>47.3   </td><td>15.8   </td><td> 55    </td><td>22.93  </td><td> 61.2  </td><td> 8.64  </td><td>78     </td><td>193.0  </td><td> 85.4  </td><td>m      </td><td>W_Polo </td></tr>\n",
       "\t<tr><td>5.08   </td><td> 8.5   </td><td>46.3   </td><td>15.6   </td><td>117    </td><td>26.86  </td><td> 75.6  </td><td>14.98  </td><td>86     </td><td>193.9  </td><td>101.0  </td><td>m      </td><td>W_Polo </td></tr>\n",
       "\t<tr><td>5.04   </td><td> 6.0   </td><td>45.9   </td><td>15.0   </td><td> 52    </td><td>21.26  </td><td> 43.3  </td><td> 7.82  </td><td>69     </td><td>187.7  </td><td> 74.9  </td><td>m      </td><td>W_Polo </td></tr>\n",
       "\t<tr><td>4.63   </td><td>14.3   </td><td>44.8   </td><td>15.0   </td><td>133    </td><td>25.43  </td><td> 49.5  </td><td> 8.97  </td><td>79     </td><td>185.3  </td><td> 87.3  </td><td>m      </td><td>W_Polo </td></tr>\n",
       "\t<tr><td>5.11   </td><td> 7.0   </td><td>47.7   </td><td>15.8   </td><td>214    </td><td>24.54  </td><td> 70.0  </td><td>11.63  </td><td>80     </td><td>191.5  </td><td> 90.0  </td><td>m      </td><td>W_Polo </td></tr>\n",
       "\t<tr><td>5.34   </td><td> 6.2   </td><td>49.8   </td><td>17.2   </td><td>143    </td><td>27.79  </td><td> 75.7  </td><td>13.49  </td><td>82     </td><td>184.6  </td><td> 94.7  </td><td>m      </td><td>W_Polo </td></tr>\n",
       "\t<tr><td>4.86   </td><td> 8.9   </td><td>46.9   </td><td>15.8   </td><td> 65    </td><td>23.58  </td><td> 57.7  </td><td>10.25  </td><td>68     </td><td>179.9  </td><td> 76.3  </td><td>m      </td><td>W_Polo </td></tr>\n",
       "\t<tr><td>4.90   </td><td> 7.6   </td><td>45.6   </td><td>16.0   </td><td> 90    </td><td>27.56  </td><td> 67.2  </td><td>11.79  </td><td>82     </td><td>183.9  </td><td> 93.2  </td><td>m      </td><td>W_Polo </td></tr>\n",
       "\t<tr><td>5.66   </td><td> 8.3   </td><td>50.2   </td><td>17.7   </td><td> 38    </td><td>23.76  </td><td> 56.5  </td><td>10.05  </td><td>72     </td><td>183.5  </td><td> 80.0  </td><td>m      </td><td>Tennis </td></tr>\n",
       "\t<tr><td>5.03   </td><td> 6.4   </td><td>42.7   </td><td>14.3   </td><td>122    </td><td>22.01  </td><td> 47.6  </td><td> 8.51  </td><td>68     </td><td>183.1  </td><td> 73.8  </td><td>m      </td><td>Tennis </td></tr>\n",
       "\t<tr><td>4.97   </td><td> 8.8   </td><td>43.0   </td><td>14.9   </td><td>233    </td><td>22.34  </td><td> 60.4  </td><td>11.50  </td><td>63     </td><td>178.4  </td><td> 71.1  </td><td>m      </td><td>Tennis </td></tr>\n",
       "\t<tr><td>5.38   </td><td> 6.3   </td><td>46.0   </td><td>15.7   </td><td> 32    </td><td>21.07  </td><td> 34.9  </td><td> 6.26  </td><td>72     </td><td>190.8  </td><td> 76.7  </td><td>m      </td><td>Tennis </td></tr>\n",
       "</tbody>\n",
       "</table>\n"
      ],
      "text/latex": [
       "\\begin{tabular}{r|lllllllllllll}\n",
       " rcc & wcc & hc & hg & ferr & bmi & ssf & pcBfat & lbm & ht & wt & sex & sport\\\\\n",
       "\\hline\n",
       "\t 3.96     & 7.5      & 37.5     & 12.3     & 60       & 20.56    & 109.1    & 19.75    & 63.32    & 195.9    & 78.9     & f        & B\\_Ball\\\\\n",
       "\t 4.41     & 8.3      & 38.2     & 12.7     & 68       & 20.67    & 102.8    & 21.30    & 58.55    & 189.7    & 74.4     & f        & B\\_Ball\\\\\n",
       "\t 4.14     & 5.0      & 36.4     & 11.6     & 21       & 21.86    & 104.6    & 19.88    & 55.36    & 177.8    & 69.1     & f        & B\\_Ball\\\\\n",
       "\t 4.11     & 5.3      & 37.3     & 12.6     & 69       & 21.88    & 126.4    & 23.66    & 57.18    & 185.0    & 74.9     & f        & B\\_Ball\\\\\n",
       "\t 4.45     & 6.8      & 41.5     & 14.0     & 29       & 18.96    &  80.3    & 17.64    & 53.20    & 184.6    & 64.6     & f        & B\\_Ball\\\\\n",
       "\t 4.10     & 4.4      & 37.4     & 12.5     & 42       & 21.04    &  75.2    & 15.58    & 53.77    & 174.0    & 63.7     & f        & B\\_Ball\\\\\n",
       "\t 4.31     & 5.3      & 39.6     & 12.8     & 73       & 21.69    &  87.2    & 19.99    & 60.17    & 186.2    & 75.2     & f        & B\\_Ball\\\\\n",
       "\t 4.42     & 5.7      & 39.9     & 13.2     & 44       & 20.62    &  97.9    & 22.43    & 48.33    & 173.8    & 62.3     & f        & B\\_Ball\\\\\n",
       "\t 4.30     & 8.9      & 41.1     & 13.5     & 41       & 22.64    &  75.1    & 17.95    & 54.57    & 171.4    & 66.5     & f        & B\\_Ball\\\\\n",
       "\t 4.51     & 4.4      & 41.6     & 12.7     & 44       & 19.44    &  65.1    & 15.07    & 53.42    & 179.9    & 62.9     & f        & B\\_Ball\\\\\n",
       "\t 4.71     & 5.3      & 41.4     & 14.0     & 38       & 25.75    & 171.1    & 28.83    & 68.53    & 193.4    & 96.3     & f        & B\\_Ball\\\\\n",
       "\t 4.62     & 7.3      & 43.8     & 14.7     & 26       & 21.20    &  76.8    & 18.08    & 61.85    & 188.7    & 75.5     & f        & B\\_Ball\\\\\n",
       "\t 4.35     & 7.8      & 41.4     & 14.1     & 30       & 22.03    & 117.8    & 23.30    & 48.32    & 169.1    & 63.0     & f        & B\\_Ball\\\\\n",
       "\t 4.26   & 6.2    & 41.0   & 13.9   & 48     & 25.44  &  90.2  & 17.71  & 66.24  & 177.9  & 80.5   & f      & Row   \\\\\n",
       "\t 4.63   & 6.0    & 43.7   & 14.7   & 30     & 22.63  &  97.2  & 18.77  & 57.92  & 177.5  & 71.3   & f      & Row   \\\\\n",
       "\t 4.36   & 5.8    & 40.3   & 13.3   & 29     & 21.86  &  99.9  & 19.83  & 56.52  & 179.6  & 70.5   & f      & Row   \\\\\n",
       "\t 3.91   & 7.3    & 37.6   & 12.9   & 43     & 22.27  & 125.9  & 25.16  & 54.78  & 181.3  & 73.2   & f      & Row   \\\\\n",
       "\t 4.51   & 8.3    & 43.7   & 14.7   & 34     & 21.27  &  69.9  & 18.04  & 56.31  & 179.7  & 68.7   & f      & Row   \\\\\n",
       "\t 4.37   & 8.1    & 41.8   & 14.3   & 53     & 23.47  &  98.0  & 21.79  & 62.96  & 185.2  & 80.5   & f      & Row   \\\\\n",
       "\t 4.90   & 6.9    & 44.0   & 14.5   & 59     & 23.19  &  96.8  & 22.25  & 56.68  & 177.3  & 72.9   & f      & Row   \\\\\n",
       "\t 4.46   & 5.7    & 39.2   & 13.0   & 43     & 23.17  &  80.3  & 16.25  & 62.39  & 179.3  & 74.5   & f      & Row   \\\\\n",
       "\t 3.95   & 3.3    & 36.9   & 12.5   & 40     & 24.54  &  74.9  & 16.38  & 63.05  & 175.3  & 75.4   & f      & Row   \\\\\n",
       "\t 4.46   & 9.5    & 41.5   & 14.5   & 92     & 22.96  &  83.0  & 19.35  & 56.05  & 174.0  & 69.5   & f      & Row   \\\\\n",
       "\t 5.02   & 6.4    & 44.8   & 15.2   & 48     & 19.76  &  91.0  & 19.20  & 53.65  & 183.3  & 66.4   & f      & Row   \\\\\n",
       "\t 4.26   & 5.8    & 41.2   & 14.1   & 77     & 23.36  &  76.2  & 17.89  & 65.45  & 184.7  & 79.7   & f      & Row   \\\\\n",
       "\t 4.46   & 5.6    & 41.1   & 14.3   & 71     & 22.67  &  52.6  & 12.20  & 64.62  & 180.2  & 73.6   & f      & Row   \\\\\n",
       "\t 4.16   & 5.8    & 39.8   & 13.3   & 37     & 24.24  & 111.1  & 23.70  & 60.05  & 180.2  & 78.7   & f      & Row   \\\\\n",
       "\t 4.49   & 7.6    & 41.8   & 14.4   & 71     & 24.21  & 110.7  & 24.69  & 56.48  & 176.0  & 75.0   & f      & Row   \\\\\n",
       "\t 4.21   & 7.5    & 38.4   & 13.2   & 73     & 20.46  &  74.7  & 16.58  & 41.54  & 156.0  & 49.8   & f      & Row   \\\\\n",
       "\t 4.57   & 6.6    & 42.8   & 14.5   & 85     & 20.81  & 113.5  & 21.47  & 52.78  & 179.7  & 67.2   & f      & Row   \\\\\n",
       "\t ... & ... & ... & ... & ... & ... & ... & ... & ... & ... & ... & ... & ...\\\\\n",
       "\t 5.49      &  5.9      & 47.7      & 15.9      &  66       & 22.28     &  48.0     &  8.84     & 65        & 178.5     &  71.0     & m         & T\\_400m \\\\\n",
       "\t 5.59      &  7.9      & 49.7      & 17.2      & 220       & 23.55     &  41.9     &  8.94     & 63        & 171.3     &  69.1     & m         & T\\_Sprnt\\\\\n",
       "\t 5.03      &  6.6      & 44.7      & 15.9      & 191       & 19.85     &  30.9     &  6.53     & 59        & 178.0     &  62.9     & m         & T\\_400m \\\\\n",
       "\t 5.50      &  6.4      & 48.1      & 16.5      &  40       & 26.51     &  52.8     &  9.40     & 86        & 189.1     &  94.8     & m         & T\\_Sprnt\\\\\n",
       "\t 5.11    &  9.3    & 45.4    & 15.8    & 189     & 24.78   &  43.2   &  8.18   & 87      & 195.4   &  94.6   & m       & Field  \\\\\n",
       "\t 4.96    &  8.3    & 45.3    & 15.7    & 141     & 33.73   & 113.5   & 17.41   & 89      & 179.1   & 108.2   & m       & Field  \\\\\n",
       "\t 5.01    &  8.9    & 46.0    & 15.9    & 212     & 30.18   &  96.9   & 18.08   & 80      & 180.1   &  97.9   & m       & Field  \\\\\n",
       "\t 5.11    &  8.7    & 46.5    & 16.3    &  97     & 23.31   &  49.3   &  9.86   & 68      & 179.6   &  75.2   & m       & Field  \\\\\n",
       "\t 5.69      & 10.8      & 50.5      & 18.5      &  53       & 24.51     &  42.3     &  7.29     & 69        & 174.7     &  74.8     & m         & T\\_Sprnt\\\\\n",
       "\t 4.63      &  9.1      & 42.1      & 14.4      & 126       & 25.37     &  96.3     & 18.72     & 77        & 192.7     &  94.2     & m         & W\\_Polo \\\\\n",
       "\t 4.91      & 10.2      & 45.0      & 15.2      & 234       & 23.67     &  56.5     & 10.12     & 68        & 179.3     &  76.1     & m         & W\\_Polo \\\\\n",
       "\t 4.95      &  7.5      & 44.5      & 15.0      &  50       & 24.28     & 105.7     & 19.17     & 77        & 197.5     &  94.7     & m         & W\\_Polo \\\\\n",
       "\t 5.34      & 10.0      & 46.8      & 16.2      &  94       & 25.82     & 100.7     & 17.24     & 71        & 182.7     &  86.2     & m         & W\\_Polo \\\\\n",
       "\t 5.16      & 12.9      & 47.6      & 15.6      & 156       & 21.93     &  56.8     &  9.89     & 72        & 190.5     &  79.6     & m         & W\\_Polo \\\\\n",
       "\t 5.29      & 12.7      & 48.0      & 16.2      & 124       & 23.38     &  75.9     & 13.06     & 74        & 191.0     &  85.3     & m         & W\\_Polo \\\\\n",
       "\t 5.02      &  6.1      & 43.6      & 14.8      &  87       & 23.07     &  52.8     &  8.84     & 68        & 179.6     &  74.4     & m         & W\\_Polo \\\\\n",
       "\t 5.01      &  9.8      & 46.5      & 15.8      &  97       & 25.21     &  47.8     &  8.87     & 85        & 192.6     &  93.5     & m         & W\\_Polo \\\\\n",
       "\t 5.03      &  7.5      & 43.6      & 14.4      & 102       & 23.25     &  76.0     & 14.69     & 75        & 194.1     &  87.6     & m         & W\\_Polo \\\\\n",
       "\t 5.25      &  7.4      & 47.3      & 15.8      &  55       & 22.93     &  61.2     &  8.64     & 78        & 193.0     &  85.4     & m         & W\\_Polo \\\\\n",
       "\t 5.08      &  8.5      & 46.3      & 15.6      & 117       & 26.86     &  75.6     & 14.98     & 86        & 193.9     & 101.0     & m         & W\\_Polo \\\\\n",
       "\t 5.04      &  6.0      & 45.9      & 15.0      &  52       & 21.26     &  43.3     &  7.82     & 69        & 187.7     &  74.9     & m         & W\\_Polo \\\\\n",
       "\t 4.63      & 14.3      & 44.8      & 15.0      & 133       & 25.43     &  49.5     &  8.97     & 79        & 185.3     &  87.3     & m         & W\\_Polo \\\\\n",
       "\t 5.11      &  7.0      & 47.7      & 15.8      & 214       & 24.54     &  70.0     & 11.63     & 80        & 191.5     &  90.0     & m         & W\\_Polo \\\\\n",
       "\t 5.34      &  6.2      & 49.8      & 17.2      & 143       & 27.79     &  75.7     & 13.49     & 82        & 184.6     &  94.7     & m         & W\\_Polo \\\\\n",
       "\t 4.86      &  8.9      & 46.9      & 15.8      &  65       & 23.58     &  57.7     & 10.25     & 68        & 179.9     &  76.3     & m         & W\\_Polo \\\\\n",
       "\t 4.90      &  7.6      & 45.6      & 16.0      &  90       & 27.56     &  67.2     & 11.79     & 82        & 183.9     &  93.2     & m         & W\\_Polo \\\\\n",
       "\t 5.66    &  8.3    & 50.2    & 17.7    &  38     & 23.76   &  56.5   & 10.05   & 72      & 183.5   &  80.0   & m       & Tennis \\\\\n",
       "\t 5.03    &  6.4    & 42.7    & 14.3    & 122     & 22.01   &  47.6   &  8.51   & 68      & 183.1   &  73.8   & m       & Tennis \\\\\n",
       "\t 4.97    &  8.8    & 43.0    & 14.9    & 233     & 22.34   &  60.4   & 11.50   & 63      & 178.4   &  71.1   & m       & Tennis \\\\\n",
       "\t 5.38    &  6.3    & 46.0    & 15.7    &  32     & 21.07   &  34.9   &  6.26   & 72      & 190.8   &  76.7   & m       & Tennis \\\\\n",
       "\\end{tabular}\n"
      ],
      "text/markdown": [
       "\n",
       "| rcc | wcc | hc | hg | ferr | bmi | ssf | pcBfat | lbm | ht | wt | sex | sport |\n",
       "|---|---|---|---|---|---|---|---|---|---|---|---|---|\n",
       "| 3.96   | 7.5    | 37.5   | 12.3   | 60     | 20.56  | 109.1  | 19.75  | 63.32  | 195.9  | 78.9   | f      | B_Ball |\n",
       "| 4.41   | 8.3    | 38.2   | 12.7   | 68     | 20.67  | 102.8  | 21.30  | 58.55  | 189.7  | 74.4   | f      | B_Ball |\n",
       "| 4.14   | 5.0    | 36.4   | 11.6   | 21     | 21.86  | 104.6  | 19.88  | 55.36  | 177.8  | 69.1   | f      | B_Ball |\n",
       "| 4.11   | 5.3    | 37.3   | 12.6   | 69     | 21.88  | 126.4  | 23.66  | 57.18  | 185.0  | 74.9   | f      | B_Ball |\n",
       "| 4.45   | 6.8    | 41.5   | 14.0   | 29     | 18.96  |  80.3  | 17.64  | 53.20  | 184.6  | 64.6   | f      | B_Ball |\n",
       "| 4.10   | 4.4    | 37.4   | 12.5   | 42     | 21.04  |  75.2  | 15.58  | 53.77  | 174.0  | 63.7   | f      | B_Ball |\n",
       "| 4.31   | 5.3    | 39.6   | 12.8   | 73     | 21.69  |  87.2  | 19.99  | 60.17  | 186.2  | 75.2   | f      | B_Ball |\n",
       "| 4.42   | 5.7    | 39.9   | 13.2   | 44     | 20.62  |  97.9  | 22.43  | 48.33  | 173.8  | 62.3   | f      | B_Ball |\n",
       "| 4.30   | 8.9    | 41.1   | 13.5   | 41     | 22.64  |  75.1  | 17.95  | 54.57  | 171.4  | 66.5   | f      | B_Ball |\n",
       "| 4.51   | 4.4    | 41.6   | 12.7   | 44     | 19.44  |  65.1  | 15.07  | 53.42  | 179.9  | 62.9   | f      | B_Ball |\n",
       "| 4.71   | 5.3    | 41.4   | 14.0   | 38     | 25.75  | 171.1  | 28.83  | 68.53  | 193.4  | 96.3   | f      | B_Ball |\n",
       "| 4.62   | 7.3    | 43.8   | 14.7   | 26     | 21.20  |  76.8  | 18.08  | 61.85  | 188.7  | 75.5   | f      | B_Ball |\n",
       "| 4.35   | 7.8    | 41.4   | 14.1   | 30     | 22.03  | 117.8  | 23.30  | 48.32  | 169.1  | 63.0   | f      | B_Ball |\n",
       "| 4.26   | 6.2    | 41.0   | 13.9   | 48     | 25.44  |  90.2  | 17.71  | 66.24  | 177.9  | 80.5   | f      | Row    |\n",
       "| 4.63   | 6.0    | 43.7   | 14.7   | 30     | 22.63  |  97.2  | 18.77  | 57.92  | 177.5  | 71.3   | f      | Row    |\n",
       "| 4.36   | 5.8    | 40.3   | 13.3   | 29     | 21.86  |  99.9  | 19.83  | 56.52  | 179.6  | 70.5   | f      | Row    |\n",
       "| 3.91   | 7.3    | 37.6   | 12.9   | 43     | 22.27  | 125.9  | 25.16  | 54.78  | 181.3  | 73.2   | f      | Row    |\n",
       "| 4.51   | 8.3    | 43.7   | 14.7   | 34     | 21.27  |  69.9  | 18.04  | 56.31  | 179.7  | 68.7   | f      | Row    |\n",
       "| 4.37   | 8.1    | 41.8   | 14.3   | 53     | 23.47  |  98.0  | 21.79  | 62.96  | 185.2  | 80.5   | f      | Row    |\n",
       "| 4.90   | 6.9    | 44.0   | 14.5   | 59     | 23.19  |  96.8  | 22.25  | 56.68  | 177.3  | 72.9   | f      | Row    |\n",
       "| 4.46   | 5.7    | 39.2   | 13.0   | 43     | 23.17  |  80.3  | 16.25  | 62.39  | 179.3  | 74.5   | f      | Row    |\n",
       "| 3.95   | 3.3    | 36.9   | 12.5   | 40     | 24.54  |  74.9  | 16.38  | 63.05  | 175.3  | 75.4   | f      | Row    |\n",
       "| 4.46   | 9.5    | 41.5   | 14.5   | 92     | 22.96  |  83.0  | 19.35  | 56.05  | 174.0  | 69.5   | f      | Row    |\n",
       "| 5.02   | 6.4    | 44.8   | 15.2   | 48     | 19.76  |  91.0  | 19.20  | 53.65  | 183.3  | 66.4   | f      | Row    |\n",
       "| 4.26   | 5.8    | 41.2   | 14.1   | 77     | 23.36  |  76.2  | 17.89  | 65.45  | 184.7  | 79.7   | f      | Row    |\n",
       "| 4.46   | 5.6    | 41.1   | 14.3   | 71     | 22.67  |  52.6  | 12.20  | 64.62  | 180.2  | 73.6   | f      | Row    |\n",
       "| 4.16   | 5.8    | 39.8   | 13.3   | 37     | 24.24  | 111.1  | 23.70  | 60.05  | 180.2  | 78.7   | f      | Row    |\n",
       "| 4.49   | 7.6    | 41.8   | 14.4   | 71     | 24.21  | 110.7  | 24.69  | 56.48  | 176.0  | 75.0   | f      | Row    |\n",
       "| 4.21   | 7.5    | 38.4   | 13.2   | 73     | 20.46  |  74.7  | 16.58  | 41.54  | 156.0  | 49.8   | f      | Row    |\n",
       "| 4.57   | 6.6    | 42.8   | 14.5   | 85     | 20.81  | 113.5  | 21.47  | 52.78  | 179.7  | 67.2   | f      | Row    |\n",
       "| ... | ... | ... | ... | ... | ... | ... | ... | ... | ... | ... | ... | ... |\n",
       "| 5.49    |  5.9    | 47.7    | 15.9    |  66     | 22.28   |  48.0   |  8.84   | 65      | 178.5   |  71.0   | m       | T_400m  |\n",
       "| 5.59    |  7.9    | 49.7    | 17.2    | 220     | 23.55   |  41.9   |  8.94   | 63      | 171.3   |  69.1   | m       | T_Sprnt |\n",
       "| 5.03    |  6.6    | 44.7    | 15.9    | 191     | 19.85   |  30.9   |  6.53   | 59      | 178.0   |  62.9   | m       | T_400m  |\n",
       "| 5.50    |  6.4    | 48.1    | 16.5    |  40     | 26.51   |  52.8   |  9.40   | 86      | 189.1   |  94.8   | m       | T_Sprnt |\n",
       "| 5.11    |  9.3    | 45.4    | 15.8    | 189     | 24.78   |  43.2   |  8.18   | 87      | 195.4   |  94.6   | m       | Field   |\n",
       "| 4.96    |  8.3    | 45.3    | 15.7    | 141     | 33.73   | 113.5   | 17.41   | 89      | 179.1   | 108.2   | m       | Field   |\n",
       "| 5.01    |  8.9    | 46.0    | 15.9    | 212     | 30.18   |  96.9   | 18.08   | 80      | 180.1   |  97.9   | m       | Field   |\n",
       "| 5.11    |  8.7    | 46.5    | 16.3    |  97     | 23.31   |  49.3   |  9.86   | 68      | 179.6   |  75.2   | m       | Field   |\n",
       "| 5.69    | 10.8    | 50.5    | 18.5    |  53     | 24.51   |  42.3   |  7.29   | 69      | 174.7   |  74.8   | m       | T_Sprnt |\n",
       "| 4.63    |  9.1    | 42.1    | 14.4    | 126     | 25.37   |  96.3   | 18.72   | 77      | 192.7   |  94.2   | m       | W_Polo  |\n",
       "| 4.91    | 10.2    | 45.0    | 15.2    | 234     | 23.67   |  56.5   | 10.12   | 68      | 179.3   |  76.1   | m       | W_Polo  |\n",
       "| 4.95    |  7.5    | 44.5    | 15.0    |  50     | 24.28   | 105.7   | 19.17   | 77      | 197.5   |  94.7   | m       | W_Polo  |\n",
       "| 5.34    | 10.0    | 46.8    | 16.2    |  94     | 25.82   | 100.7   | 17.24   | 71      | 182.7   |  86.2   | m       | W_Polo  |\n",
       "| 5.16    | 12.9    | 47.6    | 15.6    | 156     | 21.93   |  56.8   |  9.89   | 72      | 190.5   |  79.6   | m       | W_Polo  |\n",
       "| 5.29    | 12.7    | 48.0    | 16.2    | 124     | 23.38   |  75.9   | 13.06   | 74      | 191.0   |  85.3   | m       | W_Polo  |\n",
       "| 5.02    |  6.1    | 43.6    | 14.8    |  87     | 23.07   |  52.8   |  8.84   | 68      | 179.6   |  74.4   | m       | W_Polo  |\n",
       "| 5.01    |  9.8    | 46.5    | 15.8    |  97     | 25.21   |  47.8   |  8.87   | 85      | 192.6   |  93.5   | m       | W_Polo  |\n",
       "| 5.03    |  7.5    | 43.6    | 14.4    | 102     | 23.25   |  76.0   | 14.69   | 75      | 194.1   |  87.6   | m       | W_Polo  |\n",
       "| 5.25    |  7.4    | 47.3    | 15.8    |  55     | 22.93   |  61.2   |  8.64   | 78      | 193.0   |  85.4   | m       | W_Polo  |\n",
       "| 5.08    |  8.5    | 46.3    | 15.6    | 117     | 26.86   |  75.6   | 14.98   | 86      | 193.9   | 101.0   | m       | W_Polo  |\n",
       "| 5.04    |  6.0    | 45.9    | 15.0    |  52     | 21.26   |  43.3   |  7.82   | 69      | 187.7   |  74.9   | m       | W_Polo  |\n",
       "| 4.63    | 14.3    | 44.8    | 15.0    | 133     | 25.43   |  49.5   |  8.97   | 79      | 185.3   |  87.3   | m       | W_Polo  |\n",
       "| 5.11    |  7.0    | 47.7    | 15.8    | 214     | 24.54   |  70.0   | 11.63   | 80      | 191.5   |  90.0   | m       | W_Polo  |\n",
       "| 5.34    |  6.2    | 49.8    | 17.2    | 143     | 27.79   |  75.7   | 13.49   | 82      | 184.6   |  94.7   | m       | W_Polo  |\n",
       "| 4.86    |  8.9    | 46.9    | 15.8    |  65     | 23.58   |  57.7   | 10.25   | 68      | 179.9   |  76.3   | m       | W_Polo  |\n",
       "| 4.90    |  7.6    | 45.6    | 16.0    |  90     | 27.56   |  67.2   | 11.79   | 82      | 183.9   |  93.2   | m       | W_Polo  |\n",
       "| 5.66    |  8.3    | 50.2    | 17.7    |  38     | 23.76   |  56.5   | 10.05   | 72      | 183.5   |  80.0   | m       | Tennis  |\n",
       "| 5.03    |  6.4    | 42.7    | 14.3    | 122     | 22.01   |  47.6   |  8.51   | 68      | 183.1   |  73.8   | m       | Tennis  |\n",
       "| 4.97    |  8.8    | 43.0    | 14.9    | 233     | 22.34   |  60.4   | 11.50   | 63      | 178.4   |  71.1   | m       | Tennis  |\n",
       "| 5.38    |  6.3    | 46.0    | 15.7    |  32     | 21.07   |  34.9   |  6.26   | 72      | 190.8   |  76.7   | m       | Tennis  |\n",
       "\n"
      ],
      "text/plain": [
       "    rcc  wcc  hc   hg   ferr bmi   ssf   pcBfat lbm   ht    wt    sex sport  \n",
       "1   3.96 7.5  37.5 12.3 60   20.56 109.1 19.75  63.32 195.9 78.9  f   B_Ball \n",
       "2   4.41 8.3  38.2 12.7 68   20.67 102.8 21.30  58.55 189.7 74.4  f   B_Ball \n",
       "3   4.14 5.0  36.4 11.6 21   21.86 104.6 19.88  55.36 177.8 69.1  f   B_Ball \n",
       "4   4.11 5.3  37.3 12.6 69   21.88 126.4 23.66  57.18 185.0 74.9  f   B_Ball \n",
       "5   4.45 6.8  41.5 14.0 29   18.96  80.3 17.64  53.20 184.6 64.6  f   B_Ball \n",
       "6   4.10 4.4  37.4 12.5 42   21.04  75.2 15.58  53.77 174.0 63.7  f   B_Ball \n",
       "7   4.31 5.3  39.6 12.8 73   21.69  87.2 19.99  60.17 186.2 75.2  f   B_Ball \n",
       "8   4.42 5.7  39.9 13.2 44   20.62  97.9 22.43  48.33 173.8 62.3  f   B_Ball \n",
       "9   4.30 8.9  41.1 13.5 41   22.64  75.1 17.95  54.57 171.4 66.5  f   B_Ball \n",
       "10  4.51 4.4  41.6 12.7 44   19.44  65.1 15.07  53.42 179.9 62.9  f   B_Ball \n",
       "11  4.71 5.3  41.4 14.0 38   25.75 171.1 28.83  68.53 193.4 96.3  f   B_Ball \n",
       "12  4.62 7.3  43.8 14.7 26   21.20  76.8 18.08  61.85 188.7 75.5  f   B_Ball \n",
       "13  4.35 7.8  41.4 14.1 30   22.03 117.8 23.30  48.32 169.1 63.0  f   B_Ball \n",
       "14  4.26 6.2  41.0 13.9 48   25.44  90.2 17.71  66.24 177.9 80.5  f   Row    \n",
       "15  4.63 6.0  43.7 14.7 30   22.63  97.2 18.77  57.92 177.5 71.3  f   Row    \n",
       "16  4.36 5.8  40.3 13.3 29   21.86  99.9 19.83  56.52 179.6 70.5  f   Row    \n",
       "17  3.91 7.3  37.6 12.9 43   22.27 125.9 25.16  54.78 181.3 73.2  f   Row    \n",
       "18  4.51 8.3  43.7 14.7 34   21.27  69.9 18.04  56.31 179.7 68.7  f   Row    \n",
       "19  4.37 8.1  41.8 14.3 53   23.47  98.0 21.79  62.96 185.2 80.5  f   Row    \n",
       "20  4.90 6.9  44.0 14.5 59   23.19  96.8 22.25  56.68 177.3 72.9  f   Row    \n",
       "21  4.46 5.7  39.2 13.0 43   23.17  80.3 16.25  62.39 179.3 74.5  f   Row    \n",
       "22  3.95 3.3  36.9 12.5 40   24.54  74.9 16.38  63.05 175.3 75.4  f   Row    \n",
       "23  4.46 9.5  41.5 14.5 92   22.96  83.0 19.35  56.05 174.0 69.5  f   Row    \n",
       "24  5.02 6.4  44.8 15.2 48   19.76  91.0 19.20  53.65 183.3 66.4  f   Row    \n",
       "25  4.26 5.8  41.2 14.1 77   23.36  76.2 17.89  65.45 184.7 79.7  f   Row    \n",
       "26  4.46 5.6  41.1 14.3 71   22.67  52.6 12.20  64.62 180.2 73.6  f   Row    \n",
       "27  4.16 5.8  39.8 13.3 37   24.24 111.1 23.70  60.05 180.2 78.7  f   Row    \n",
       "28  4.49 7.6  41.8 14.4 71   24.21 110.7 24.69  56.48 176.0 75.0  f   Row    \n",
       "29  4.21 7.5  38.4 13.2 73   20.46  74.7 16.58  41.54 156.0 49.8  f   Row    \n",
       "30  4.57 6.6  42.8 14.5 85   20.81 113.5 21.47  52.78 179.7 67.2  f   Row    \n",
       "... ...  ...  ...  ...  ...  ...   ...   ...    ...   ...   ...   ... ...    \n",
       "173 5.49  5.9 47.7 15.9  66  22.28  48.0  8.84  65    178.5  71.0 m   T_400m \n",
       "174 5.59  7.9 49.7 17.2 220  23.55  41.9  8.94  63    171.3  69.1 m   T_Sprnt\n",
       "175 5.03  6.6 44.7 15.9 191  19.85  30.9  6.53  59    178.0  62.9 m   T_400m \n",
       "176 5.50  6.4 48.1 16.5  40  26.51  52.8  9.40  86    189.1  94.8 m   T_Sprnt\n",
       "177 5.11  9.3 45.4 15.8 189  24.78  43.2  8.18  87    195.4  94.6 m   Field  \n",
       "178 4.96  8.3 45.3 15.7 141  33.73 113.5 17.41  89    179.1 108.2 m   Field  \n",
       "179 5.01  8.9 46.0 15.9 212  30.18  96.9 18.08  80    180.1  97.9 m   Field  \n",
       "180 5.11  8.7 46.5 16.3  97  23.31  49.3  9.86  68    179.6  75.2 m   Field  \n",
       "181 5.69 10.8 50.5 18.5  53  24.51  42.3  7.29  69    174.7  74.8 m   T_Sprnt\n",
       "182 4.63  9.1 42.1 14.4 126  25.37  96.3 18.72  77    192.7  94.2 m   W_Polo \n",
       "183 4.91 10.2 45.0 15.2 234  23.67  56.5 10.12  68    179.3  76.1 m   W_Polo \n",
       "184 4.95  7.5 44.5 15.0  50  24.28 105.7 19.17  77    197.5  94.7 m   W_Polo \n",
       "185 5.34 10.0 46.8 16.2  94  25.82 100.7 17.24  71    182.7  86.2 m   W_Polo \n",
       "186 5.16 12.9 47.6 15.6 156  21.93  56.8  9.89  72    190.5  79.6 m   W_Polo \n",
       "187 5.29 12.7 48.0 16.2 124  23.38  75.9 13.06  74    191.0  85.3 m   W_Polo \n",
       "188 5.02  6.1 43.6 14.8  87  23.07  52.8  8.84  68    179.6  74.4 m   W_Polo \n",
       "189 5.01  9.8 46.5 15.8  97  25.21  47.8  8.87  85    192.6  93.5 m   W_Polo \n",
       "190 5.03  7.5 43.6 14.4 102  23.25  76.0 14.69  75    194.1  87.6 m   W_Polo \n",
       "191 5.25  7.4 47.3 15.8  55  22.93  61.2  8.64  78    193.0  85.4 m   W_Polo \n",
       "192 5.08  8.5 46.3 15.6 117  26.86  75.6 14.98  86    193.9 101.0 m   W_Polo \n",
       "193 5.04  6.0 45.9 15.0  52  21.26  43.3  7.82  69    187.7  74.9 m   W_Polo \n",
       "194 4.63 14.3 44.8 15.0 133  25.43  49.5  8.97  79    185.3  87.3 m   W_Polo \n",
       "195 5.11  7.0 47.7 15.8 214  24.54  70.0 11.63  80    191.5  90.0 m   W_Polo \n",
       "196 5.34  6.2 49.8 17.2 143  27.79  75.7 13.49  82    184.6  94.7 m   W_Polo \n",
       "197 4.86  8.9 46.9 15.8  65  23.58  57.7 10.25  68    179.9  76.3 m   W_Polo \n",
       "198 4.90  7.6 45.6 16.0  90  27.56  67.2 11.79  82    183.9  93.2 m   W_Polo \n",
       "199 5.66  8.3 50.2 17.7  38  23.76  56.5 10.05  72    183.5  80.0 m   Tennis \n",
       "200 5.03  6.4 42.7 14.3 122  22.01  47.6  8.51  68    183.1  73.8 m   Tennis \n",
       "201 4.97  8.8 43.0 14.9 233  22.34  60.4 11.50  63    178.4  71.1 m   Tennis \n",
       "202 5.38  6.3 46.0 15.7  32  21.07  34.9  6.26  72    190.8  76.7 m   Tennis "
      ]
     },
     "metadata": {},
     "output_type": "display_data"
    }
   ],
   "source": [
    "#Create a tibble from the ais data.frame\n",
    "(dct <- tibble(ais)) "
   ]
  },
  {
   "cell_type": "code",
   "execution_count": 16,
   "metadata": {},
   "outputs": [
    {
     "data": {
      "image/png": "[encoded data removed]",
      "text/plain": [
       "plot without title"
      ]
     },
     "metadata": {},
     "output_type": "display_data"
    }
   ],
   "source": [
    "#1. Group data by gender and sport. Produce a barplot with the table adding a legend\n",
    "gender_sport = table(dct$sex,dct$sport)\n",
    "\n",
    "barplot(gender_sport, beside=TRUE, legend = rownames(gender_sport), las=2, ylab='Count')"
   ]
  },
  {
   "cell_type": "code",
   "execution_count": 17,
   "metadata": {},
   "outputs": [
    {
     "data": {
      "text/html": [
       "FALSE"
      ],
      "text/latex": [
       "FALSE"
      ],
      "text/markdown": [
       "FALSE"
      ],
      "text/plain": [
       "[1] FALSE"
      ]
     },
     "metadata": {},
     "output_type": "display_data"
    }
   ],
   "source": [
    "#2. Do columns hold missing values?\n",
    "any(is.na(dct)) #No missing values"
   ]
  },
  {
   "cell_type": "code",
   "execution_count": 18,
   "metadata": {},
   "outputs": [
    {
     "data": {
      "image/png": "[encoded data removed]",
      "text/plain": [
       "plot without title"
      ]
     },
     "metadata": {},
     "output_type": "display_data"
    }
   ],
   "source": [
    "#3. Make boxplots of the main blood variables (rcc, wcc, hc, hg) for different kind of sports\n",
    "old_par <- par()\n",
    "\n",
    "par(mfrow=c(2,2))\n",
    "\n",
    "boxplot(rcc ~ sport, data = dct, las=2,\n",
    "        xlab = 'Sport', ylab = 'Red blood cell count', col='firebrick3', medcol='white')\n",
    "\n",
    "boxplot(wcc ~ sport, data = dct, las=2,\n",
    "        xlab = 'Sport', ylab = 'White blood cell count', col='ghostwhite', medcol='dodgerblue2')\n",
    "\n",
    "boxplot(hc ~ sport, data = dct, las=2,\n",
    "        xlab = 'Sport', ylab = 'Hematocrit', col='darkorchid3', medcol='white')\n",
    "\n",
    "boxplot(hg ~ sport, data = dct, las=2,\n",
    "        xlab = 'Sport', ylab = 'Hemaglobin', col='deeppink3', medcol='white')"
   ]
  },
  {
   "cell_type": "code",
   "execution_count": 41,
   "metadata": {},
   "outputs": [
    {
     "data": {
      "image/png": "[encoded data removed]",
      "text/plain": [
       "plot without title"
      ]
     },
     "metadata": {},
     "output_type": "display_data"
    },
    {
     "data": {
      "image/png": "[encoded data removed]",
      "text/plain": [
       "plot without title"
      ]
     },
     "metadata": {},
     "output_type": "display_data"
    },
    {
     "data": {
      "image/png": "[encoded data removed]",
      "text/plain": [
       "plot without title"
      ]
     },
     "metadata": {},
     "output_type": "display_data"
    }
   ],
   "source": [
    "#4. Scatter plots for correlations\n",
    "plot(dct$rcc, dct$wcc, col = ifelse(dct$sex == 'f', \"deeppink3\", \"dodgerblue2\"), pch = ifelse(dct$sex == 'f', 16, 15),\n",
    "     xlab = 'Red blood cell count', ylab = 'White blood cell count')\n",
    "legend(6, 14, legend=c(\"Female\", \"Male\"),\n",
    "       col=c(\"deeppink3\", \"dodgerblue2\"), pch=c(16,15), cex=0.8)\n",
    "\n",
    "plot(dct$rcc, dct$hc, col = ifelse(dct$sex == 'f', \"deeppink3\", \"dodgerblue2\"), pch = ifelse(dct$sex == 'f', 16, 15),\n",
    "     xlab = 'Red blood cell count', ylab = 'Hematocrit')\n",
    "legend(6, 60, legend=c(\"Female\", \"Male\"),\n",
    "       col=c(\"deeppink3\", \"dodgerblue2\"), pch=c(16,15), cex=0.8)\n",
    "\n",
    "plot(dct$rcc, dct$hg, col = ifelse(dct$sex == 'f', \"deeppink3\", \"dodgerblue2\"), pch = ifelse(dct$sex == 'f', 16, 15),\n",
    "     xlab = 'Red blood cell count', ylab = 'Hemaglobing concentration')\n",
    "legend(6, 14, legend=c(\"Female\", \"Male\"),\n",
    "       col=c(\"deeppink3\", \"dodgerblue2\"), pch=c(16,15), cex=0.8)"
   ]
  },
  {
   "cell_type": "markdown",
   "metadata": {},
   "source": [
    "# Exercise 3"
   ]
  },
  {
   "cell_type": "code",
   "execution_count": 20,
   "metadata": {},
   "outputs": [],
   "source": [
    "needed_packages <- c('lubridate', 'readxl', 'curl')"
   ]
  },
  {
   "cell_type": "code",
   "execution_count": 21,
   "metadata": {},
   "outputs": [],
   "source": [
    "already_installed <- needed_packages %in% installed.packages()\n",
    "for (pack in needed_packages[!already_installed]) {\n",
    "    message(paste(\"To be installed:\", pack, sep=\" \"))\n",
    "    install.packages(pack)\n",
    "}"
   ]
  },
  {
   "cell_type": "code",
   "execution_count": 22,
   "metadata": {},
   "outputs": [
    {
     "name": "stderr",
     "output_type": "stream",
     "text": [
      "\n",
      "Attaching package: 'lubridate'\n",
      "\n",
      "The following object is masked from 'package:base':\n",
      "\n",
      "    date\n",
      "\n"
     ]
    }
   ],
   "source": [
    "library(lubridate)\n",
    "library(readxl)\n",
    "library(curl)"
   ]
  },
  {
   "cell_type": "code",
   "execution_count": 23,
   "metadata": {},
   "outputs": [
    {
     "name": "stderr",
     "output_type": "stream",
     "text": [
      "target: https://www.ecdc.europa.eu/sites/default/files/documents/COVID-19-geographic-disbtribution-worldwide-2020-04-13.xlsx\n"
     ]
    }
   ],
   "source": [
    "url <- \"https://www.ecdc.europa.eu/sites/default/files/documents/\"\n",
    "fname <- \"COVID-19-geographic-disbtribution-worldwide-\"\n",
    "date <- lubridate::today() - 1\n",
    "ext = \".xlsx\"\n",
    "target <- paste(url, fname, date, ext, sep=\"\")\n",
    "message(\"target: \", target)\n",
    "tmp_file <- tempfile(\"data\", tempdir(), fileext=ext)\n",
    "tmp <- curl::curl_download(target, destfile=tmp_file)"
   ]
  },
  {
   "cell_type": "code",
   "execution_count": 24,
   "metadata": {},
   "outputs": [],
   "source": [
    "covid <- readxl::read_xlsx(tmp_file)"
   ]
  },
  {
   "cell_type": "markdown",
   "metadata": {},
   "source": [
    "**Data structure**\n",
    "- `dateRep`: date of the report\n",
    "- `day`, `month`, `year`: reformatted `dateRep`\n",
    "- `cases`, `deaths`: confirmed cases and deaths on that day\n",
    "- `countriesAndTerritories`: location (extended name)\n",
    "- `geoId`: geographical identifier\n",
    "- `countryterritoryCode`: country identifier\n",
    "- `popData2018`: total population in that region (according to World Bank 2018 database)"
   ]
  },
  {
   "cell_type": "code",
   "execution_count": 25,
   "metadata": {
    "scrolled": true
   },
   "outputs": [
    {
     "data": {
      "text/html": [
       "<table>\n",
       "<thead><tr><th scope=col>dateRep</th><th scope=col>day</th><th scope=col>month</th><th scope=col>year</th><th scope=col>cases</th><th scope=col>deaths</th><th scope=col>countriesAndTerritories</th><th scope=col>geoId</th><th scope=col>countryterritoryCode</th><th scope=col>popData2018</th></tr></thead>\n",
       "<tbody>\n",
       "\t<tr><td>2020-04-13 </td><td>13         </td><td>4          </td><td>2020       </td><td>52         </td><td>0          </td><td>Afghanistan</td><td>AF         </td><td>AFG        </td><td>37172386   </td></tr>\n",
       "\t<tr><td>2020-04-12 </td><td>12         </td><td>4          </td><td>2020       </td><td>34         </td><td>3          </td><td>Afghanistan</td><td>AF         </td><td>AFG        </td><td>37172386   </td></tr>\n",
       "\t<tr><td>2020-04-11 </td><td>11         </td><td>4          </td><td>2020       </td><td>37         </td><td>0          </td><td>Afghanistan</td><td>AF         </td><td>AFG        </td><td>37172386   </td></tr>\n",
       "\t<tr><td>2020-04-10 </td><td>10         </td><td>4          </td><td>2020       </td><td>61         </td><td>1          </td><td>Afghanistan</td><td>AF         </td><td>AFG        </td><td>37172386   </td></tr>\n",
       "\t<tr><td>2020-04-09 </td><td> 9         </td><td>4          </td><td>2020       </td><td>56         </td><td>3          </td><td>Afghanistan</td><td>AF         </td><td>AFG        </td><td>37172386   </td></tr>\n",
       "\t<tr><td>2020-04-08 </td><td> 8         </td><td>4          </td><td>2020       </td><td>30         </td><td>4          </td><td>Afghanistan</td><td>AF         </td><td>AFG        </td><td>37172386   </td></tr>\n",
       "\t<tr><td>2020-04-07 </td><td> 7         </td><td>4          </td><td>2020       </td><td>38         </td><td>0          </td><td>Afghanistan</td><td>AF         </td><td>AFG        </td><td>37172386   </td></tr>\n",
       "\t<tr><td>2020-04-06 </td><td> 6         </td><td>4          </td><td>2020       </td><td>29         </td><td>2          </td><td>Afghanistan</td><td>AF         </td><td>AFG        </td><td>37172386   </td></tr>\n",
       "\t<tr><td>2020-04-05 </td><td> 5         </td><td>4          </td><td>2020       </td><td>35         </td><td>1          </td><td>Afghanistan</td><td>AF         </td><td>AFG        </td><td>37172386   </td></tr>\n",
       "\t<tr><td>2020-04-04 </td><td> 4         </td><td>4          </td><td>2020       </td><td> 0         </td><td>0          </td><td>Afghanistan</td><td>AF         </td><td>AFG        </td><td>37172386   </td></tr>\n",
       "\t<tr><td>2020-04-03 </td><td> 3         </td><td>4          </td><td>2020       </td><td>43         </td><td>0          </td><td>Afghanistan</td><td>AF         </td><td>AFG        </td><td>37172386   </td></tr>\n",
       "\t<tr><td>2020-04-02 </td><td> 2         </td><td>4          </td><td>2020       </td><td>26         </td><td>0          </td><td>Afghanistan</td><td>AF         </td><td>AFG        </td><td>37172386   </td></tr>\n",
       "\t<tr><td>2020-04-01 </td><td> 1         </td><td>4          </td><td>2020       </td><td>25         </td><td>0          </td><td>Afghanistan</td><td>AF         </td><td>AFG        </td><td>37172386   </td></tr>\n",
       "\t<tr><td>2020-03-31 </td><td>31         </td><td>3          </td><td>2020       </td><td>27         </td><td>0          </td><td>Afghanistan</td><td>AF         </td><td>AFG        </td><td>37172386   </td></tr>\n",
       "\t<tr><td>2020-03-30 </td><td>30         </td><td>3          </td><td>2020       </td><td> 8         </td><td>1          </td><td>Afghanistan</td><td>AF         </td><td>AFG        </td><td>37172386   </td></tr>\n",
       "\t<tr><td>2020-03-29 </td><td>29         </td><td>3          </td><td>2020       </td><td>15         </td><td>1          </td><td>Afghanistan</td><td>AF         </td><td>AFG        </td><td>37172386   </td></tr>\n",
       "\t<tr><td>2020-03-28 </td><td>28         </td><td>3          </td><td>2020       </td><td>16         </td><td>1          </td><td>Afghanistan</td><td>AF         </td><td>AFG        </td><td>37172386   </td></tr>\n",
       "\t<tr><td>2020-03-27 </td><td>27         </td><td>3          </td><td>2020       </td><td> 0         </td><td>0          </td><td>Afghanistan</td><td>AF         </td><td>AFG        </td><td>37172386   </td></tr>\n",
       "\t<tr><td>2020-03-26 </td><td>26         </td><td>3          </td><td>2020       </td><td>33         </td><td>0          </td><td>Afghanistan</td><td>AF         </td><td>AFG        </td><td>37172386   </td></tr>\n",
       "\t<tr><td>2020-03-25 </td><td>25         </td><td>3          </td><td>2020       </td><td> 2         </td><td>0          </td><td>Afghanistan</td><td>AF         </td><td>AFG        </td><td>37172386   </td></tr>\n",
       "\t<tr><td>2020-03-24 </td><td>24         </td><td>3          </td><td>2020       </td><td> 6         </td><td>1          </td><td>Afghanistan</td><td>AF         </td><td>AFG        </td><td>37172386   </td></tr>\n",
       "\t<tr><td>2020-03-23 </td><td>23         </td><td>3          </td><td>2020       </td><td>10         </td><td>0          </td><td>Afghanistan</td><td>AF         </td><td>AFG        </td><td>37172386   </td></tr>\n",
       "\t<tr><td>2020-03-22 </td><td>22         </td><td>3          </td><td>2020       </td><td> 0         </td><td>0          </td><td>Afghanistan</td><td>AF         </td><td>AFG        </td><td>37172386   </td></tr>\n",
       "\t<tr><td>2020-03-21 </td><td>21         </td><td>3          </td><td>2020       </td><td> 2         </td><td>0          </td><td>Afghanistan</td><td>AF         </td><td>AFG        </td><td>37172386   </td></tr>\n",
       "\t<tr><td>2020-03-20 </td><td>20         </td><td>3          </td><td>2020       </td><td> 0         </td><td>0          </td><td>Afghanistan</td><td>AF         </td><td>AFG        </td><td>37172386   </td></tr>\n",
       "\t<tr><td>2020-03-19 </td><td>19         </td><td>3          </td><td>2020       </td><td> 0         </td><td>0          </td><td>Afghanistan</td><td>AF         </td><td>AFG        </td><td>37172386   </td></tr>\n",
       "\t<tr><td>2020-03-18 </td><td>18         </td><td>3          </td><td>2020       </td><td> 1         </td><td>0          </td><td>Afghanistan</td><td>AF         </td><td>AFG        </td><td>37172386   </td></tr>\n",
       "\t<tr><td>2020-03-17 </td><td>17         </td><td>3          </td><td>2020       </td><td> 5         </td><td>0          </td><td>Afghanistan</td><td>AF         </td><td>AFG        </td><td>37172386   </td></tr>\n",
       "\t<tr><td>2020-03-16 </td><td>16         </td><td>3          </td><td>2020       </td><td> 6         </td><td>0          </td><td>Afghanistan</td><td>AF         </td><td>AFG        </td><td>37172386   </td></tr>\n",
       "\t<tr><td>2020-03-15 </td><td>15         </td><td>3          </td><td>2020       </td><td> 3         </td><td>0          </td><td>Afghanistan</td><td>AF         </td><td>AFG        </td><td>37172386   </td></tr>\n",
       "\t<tr><td>...</td><td>...</td><td>...</td><td>...</td><td>...</td><td>...</td><td>...</td><td>...</td><td>...</td><td>...</td></tr>\n",
       "\t<tr><td>2020-03-24</td><td>24        </td><td>3         </td><td>2020      </td><td>0         </td><td>0         </td><td>Zambia    </td><td>ZM        </td><td>ZMB       </td><td>17351822  </td></tr>\n",
       "\t<tr><td>2020-03-23</td><td>23        </td><td>3         </td><td>2020      </td><td>1         </td><td>0         </td><td>Zambia    </td><td>ZM        </td><td>ZMB       </td><td>17351822  </td></tr>\n",
       "\t<tr><td>2020-03-22</td><td>22        </td><td>3         </td><td>2020      </td><td>0         </td><td>0         </td><td>Zambia    </td><td>ZM        </td><td>ZMB       </td><td>17351822  </td></tr>\n",
       "\t<tr><td>2020-03-21</td><td>21        </td><td>3         </td><td>2020      </td><td>0         </td><td>0         </td><td>Zambia    </td><td>ZM        </td><td>ZMB       </td><td>17351822  </td></tr>\n",
       "\t<tr><td>2020-03-20</td><td>20        </td><td>3         </td><td>2020      </td><td>0         </td><td>0         </td><td>Zambia    </td><td>ZM        </td><td>ZMB       </td><td>17351822  </td></tr>\n",
       "\t<tr><td>2020-03-19</td><td>19        </td><td>3         </td><td>2020      </td><td>2         </td><td>0         </td><td>Zambia    </td><td>ZM        </td><td>ZMB       </td><td>17351822  </td></tr>\n",
       "\t<tr><td>2020-04-13</td><td>13        </td><td>4         </td><td>2020      </td><td>0         </td><td>0         </td><td>Zimbabwe  </td><td>ZW        </td><td>ZWE       </td><td>14439018  </td></tr>\n",
       "\t<tr><td>2020-04-12</td><td>12        </td><td>4         </td><td>2020      </td><td>3         </td><td>0         </td><td>Zimbabwe  </td><td>ZW        </td><td>ZWE       </td><td>14439018  </td></tr>\n",
       "\t<tr><td>2020-04-11</td><td>11        </td><td>4         </td><td>2020      </td><td>0         </td><td>0         </td><td>Zimbabwe  </td><td>ZW        </td><td>ZWE       </td><td>14439018  </td></tr>\n",
       "\t<tr><td>2020-04-10</td><td>10        </td><td>4         </td><td>2020      </td><td>0         </td><td>1         </td><td>Zimbabwe  </td><td>ZW        </td><td>ZWE       </td><td>14439018  </td></tr>\n",
       "\t<tr><td>2020-04-09</td><td> 9        </td><td>4         </td><td>2020      </td><td>1         </td><td>1         </td><td>Zimbabwe  </td><td>ZW        </td><td>ZWE       </td><td>14439018  </td></tr>\n",
       "\t<tr><td>2020-04-08</td><td> 8        </td><td>4         </td><td>2020      </td><td>1         </td><td>0         </td><td>Zimbabwe  </td><td>ZW        </td><td>ZWE       </td><td>14439018  </td></tr>\n",
       "\t<tr><td>2020-04-07</td><td> 7        </td><td>4         </td><td>2020      </td><td>0         </td><td>0         </td><td>Zimbabwe  </td><td>ZW        </td><td>ZWE       </td><td>14439018  </td></tr>\n",
       "\t<tr><td>2020-04-06</td><td> 6        </td><td>4         </td><td>2020      </td><td>0         </td><td>0         </td><td>Zimbabwe  </td><td>ZW        </td><td>ZWE       </td><td>14439018  </td></tr>\n",
       "\t<tr><td>2020-04-05</td><td> 5        </td><td>4         </td><td>2020      </td><td>0         </td><td>0         </td><td>Zimbabwe  </td><td>ZW        </td><td>ZWE       </td><td>14439018  </td></tr>\n",
       "\t<tr><td>2020-04-04</td><td> 4        </td><td>4         </td><td>2020      </td><td>1         </td><td>0         </td><td>Zimbabwe  </td><td>ZW        </td><td>ZWE       </td><td>14439018  </td></tr>\n",
       "\t<tr><td>2020-04-03</td><td> 3        </td><td>4         </td><td>2020      </td><td>0         </td><td>0         </td><td>Zimbabwe  </td><td>ZW        </td><td>ZWE       </td><td>14439018  </td></tr>\n",
       "\t<tr><td>2020-04-02</td><td> 2        </td><td>4         </td><td>2020      </td><td>0         </td><td>0         </td><td>Zimbabwe  </td><td>ZW        </td><td>ZWE       </td><td>14439018  </td></tr>\n",
       "\t<tr><td>2020-04-01</td><td> 1        </td><td>4         </td><td>2020      </td><td>1         </td><td>0         </td><td>Zimbabwe  </td><td>ZW        </td><td>ZWE       </td><td>14439018  </td></tr>\n",
       "\t<tr><td>2020-03-31</td><td>31        </td><td>3         </td><td>2020      </td><td>0         </td><td>0         </td><td>Zimbabwe  </td><td>ZW        </td><td>ZWE       </td><td>14439018  </td></tr>\n",
       "\t<tr><td>2020-03-30</td><td>30        </td><td>3         </td><td>2020      </td><td>0         </td><td>0         </td><td>Zimbabwe  </td><td>ZW        </td><td>ZWE       </td><td>14439018  </td></tr>\n",
       "\t<tr><td>2020-03-29</td><td>29        </td><td>3         </td><td>2020      </td><td>2         </td><td>0         </td><td>Zimbabwe  </td><td>ZW        </td><td>ZWE       </td><td>14439018  </td></tr>\n",
       "\t<tr><td>2020-03-28</td><td>28        </td><td>3         </td><td>2020      </td><td>2         </td><td>0         </td><td>Zimbabwe  </td><td>ZW        </td><td>ZWE       </td><td>14439018  </td></tr>\n",
       "\t<tr><td>2020-03-27</td><td>27        </td><td>3         </td><td>2020      </td><td>0         </td><td>0         </td><td>Zimbabwe  </td><td>ZW        </td><td>ZWE       </td><td>14439018  </td></tr>\n",
       "\t<tr><td>2020-03-26</td><td>26        </td><td>3         </td><td>2020      </td><td>1         </td><td>0         </td><td>Zimbabwe  </td><td>ZW        </td><td>ZWE       </td><td>14439018  </td></tr>\n",
       "\t<tr><td>2020-03-25</td><td>25        </td><td>3         </td><td>2020      </td><td>0         </td><td>0         </td><td>Zimbabwe  </td><td>ZW        </td><td>ZWE       </td><td>14439018  </td></tr>\n",
       "\t<tr><td>2020-03-24</td><td>24        </td><td>3         </td><td>2020      </td><td>0         </td><td>1         </td><td>Zimbabwe  </td><td>ZW        </td><td>ZWE       </td><td>14439018  </td></tr>\n",
       "\t<tr><td>2020-03-23</td><td>23        </td><td>3         </td><td>2020      </td><td>0         </td><td>0         </td><td>Zimbabwe  </td><td>ZW        </td><td>ZWE       </td><td>14439018  </td></tr>\n",
       "\t<tr><td>2020-03-22</td><td>22        </td><td>3         </td><td>2020      </td><td>1         </td><td>0         </td><td>Zimbabwe  </td><td>ZW        </td><td>ZWE       </td><td>14439018  </td></tr>\n",
       "\t<tr><td>2020-03-21</td><td>21        </td><td>3         </td><td>2020      </td><td>1         </td><td>0         </td><td>Zimbabwe  </td><td>ZW        </td><td>ZWE       </td><td>14439018  </td></tr>\n",
       "</tbody>\n",
       "</table>\n"
      ],
      "text/latex": [
       "\\begin{tabular}{r|llllllllll}\n",
       " dateRep & day & month & year & cases & deaths & countriesAndTerritories & geoId & countryterritoryCode & popData2018\\\\\n",
       "\\hline\n",
       "\t 2020-04-13  & 13          & 4           & 2020        & 52          & 0           & Afghanistan & AF          & AFG         & 37172386   \\\\\n",
       "\t 2020-04-12  & 12          & 4           & 2020        & 34          & 3           & Afghanistan & AF          & AFG         & 37172386   \\\\\n",
       "\t 2020-04-11  & 11          & 4           & 2020        & 37          & 0           & Afghanistan & AF          & AFG         & 37172386   \\\\\n",
       "\t 2020-04-10  & 10          & 4           & 2020        & 61          & 1           & Afghanistan & AF          & AFG         & 37172386   \\\\\n",
       "\t 2020-04-09  &  9          & 4           & 2020        & 56          & 3           & Afghanistan & AF          & AFG         & 37172386   \\\\\n",
       "\t 2020-04-08  &  8          & 4           & 2020        & 30          & 4           & Afghanistan & AF          & AFG         & 37172386   \\\\\n",
       "\t 2020-04-07  &  7          & 4           & 2020        & 38          & 0           & Afghanistan & AF          & AFG         & 37172386   \\\\\n",
       "\t 2020-04-06  &  6          & 4           & 2020        & 29          & 2           & Afghanistan & AF          & AFG         & 37172386   \\\\\n",
       "\t 2020-04-05  &  5          & 4           & 2020        & 35          & 1           & Afghanistan & AF          & AFG         & 37172386   \\\\\n",
       "\t 2020-04-04  &  4          & 4           & 2020        &  0          & 0           & Afghanistan & AF          & AFG         & 37172386   \\\\\n",
       "\t 2020-04-03  &  3          & 4           & 2020        & 43          & 0           & Afghanistan & AF          & AFG         & 37172386   \\\\\n",
       "\t 2020-04-02  &  2          & 4           & 2020        & 26          & 0           & Afghanistan & AF          & AFG         & 37172386   \\\\\n",
       "\t 2020-04-01  &  1          & 4           & 2020        & 25          & 0           & Afghanistan & AF          & AFG         & 37172386   \\\\\n",
       "\t 2020-03-31  & 31          & 3           & 2020        & 27          & 0           & Afghanistan & AF          & AFG         & 37172386   \\\\\n",
       "\t 2020-03-30  & 30          & 3           & 2020        &  8          & 1           & Afghanistan & AF          & AFG         & 37172386   \\\\\n",
       "\t 2020-03-29  & 29          & 3           & 2020        & 15          & 1           & Afghanistan & AF          & AFG         & 37172386   \\\\\n",
       "\t 2020-03-28  & 28          & 3           & 2020        & 16          & 1           & Afghanistan & AF          & AFG         & 37172386   \\\\\n",
       "\t 2020-03-27  & 27          & 3           & 2020        &  0          & 0           & Afghanistan & AF          & AFG         & 37172386   \\\\\n",
       "\t 2020-03-26  & 26          & 3           & 2020        & 33          & 0           & Afghanistan & AF          & AFG         & 37172386   \\\\\n",
       "\t 2020-03-25  & 25          & 3           & 2020        &  2          & 0           & Afghanistan & AF          & AFG         & 37172386   \\\\\n",
       "\t 2020-03-24  & 24          & 3           & 2020        &  6          & 1           & Afghanistan & AF          & AFG         & 37172386   \\\\\n",
       "\t 2020-03-23  & 23          & 3           & 2020        & 10          & 0           & Afghanistan & AF          & AFG         & 37172386   \\\\\n",
       "\t 2020-03-22  & 22          & 3           & 2020        &  0          & 0           & Afghanistan & AF          & AFG         & 37172386   \\\\\n",
       "\t 2020-03-21  & 21          & 3           & 2020        &  2          & 0           & Afghanistan & AF          & AFG         & 37172386   \\\\\n",
       "\t 2020-03-20  & 20          & 3           & 2020        &  0          & 0           & Afghanistan & AF          & AFG         & 37172386   \\\\\n",
       "\t 2020-03-19  & 19          & 3           & 2020        &  0          & 0           & Afghanistan & AF          & AFG         & 37172386   \\\\\n",
       "\t 2020-03-18  & 18          & 3           & 2020        &  1          & 0           & Afghanistan & AF          & AFG         & 37172386   \\\\\n",
       "\t 2020-03-17  & 17          & 3           & 2020        &  5          & 0           & Afghanistan & AF          & AFG         & 37172386   \\\\\n",
       "\t 2020-03-16  & 16          & 3           & 2020        &  6          & 0           & Afghanistan & AF          & AFG         & 37172386   \\\\\n",
       "\t 2020-03-15  & 15          & 3           & 2020        &  3          & 0           & Afghanistan & AF          & AFG         & 37172386   \\\\\n",
       "\t ... & ... & ... & ... & ... & ... & ... & ... & ... & ...\\\\\n",
       "\t 2020-03-24 & 24         & 3          & 2020       & 0          & 0          & Zambia     & ZM         & ZMB        & 17351822  \\\\\n",
       "\t 2020-03-23 & 23         & 3          & 2020       & 1          & 0          & Zambia     & ZM         & ZMB        & 17351822  \\\\\n",
       "\t 2020-03-22 & 22         & 3          & 2020       & 0          & 0          & Zambia     & ZM         & ZMB        & 17351822  \\\\\n",
       "\t 2020-03-21 & 21         & 3          & 2020       & 0          & 0          & Zambia     & ZM         & ZMB        & 17351822  \\\\\n",
       "\t 2020-03-20 & 20         & 3          & 2020       & 0          & 0          & Zambia     & ZM         & ZMB        & 17351822  \\\\\n",
       "\t 2020-03-19 & 19         & 3          & 2020       & 2          & 0          & Zambia     & ZM         & ZMB        & 17351822  \\\\\n",
       "\t 2020-04-13 & 13         & 4          & 2020       & 0          & 0          & Zimbabwe   & ZW         & ZWE        & 14439018  \\\\\n",
       "\t 2020-04-12 & 12         & 4          & 2020       & 3          & 0          & Zimbabwe   & ZW         & ZWE        & 14439018  \\\\\n",
       "\t 2020-04-11 & 11         & 4          & 2020       & 0          & 0          & Zimbabwe   & ZW         & ZWE        & 14439018  \\\\\n",
       "\t 2020-04-10 & 10         & 4          & 2020       & 0          & 1          & Zimbabwe   & ZW         & ZWE        & 14439018  \\\\\n",
       "\t 2020-04-09 &  9         & 4          & 2020       & 1          & 1          & Zimbabwe   & ZW         & ZWE        & 14439018  \\\\\n",
       "\t 2020-04-08 &  8         & 4          & 2020       & 1          & 0          & Zimbabwe   & ZW         & ZWE        & 14439018  \\\\\n",
       "\t 2020-04-07 &  7         & 4          & 2020       & 0          & 0          & Zimbabwe   & ZW         & ZWE        & 14439018  \\\\\n",
       "\t 2020-04-06 &  6         & 4          & 2020       & 0          & 0          & Zimbabwe   & ZW         & ZWE        & 14439018  \\\\\n",
       "\t 2020-04-05 &  5         & 4          & 2020       & 0          & 0          & Zimbabwe   & ZW         & ZWE        & 14439018  \\\\\n",
       "\t 2020-04-04 &  4         & 4          & 2020       & 1          & 0          & Zimbabwe   & ZW         & ZWE        & 14439018  \\\\\n",
       "\t 2020-04-03 &  3         & 4          & 2020       & 0          & 0          & Zimbabwe   & ZW         & ZWE        & 14439018  \\\\\n",
       "\t 2020-04-02 &  2         & 4          & 2020       & 0          & 0          & Zimbabwe   & ZW         & ZWE        & 14439018  \\\\\n",
       "\t 2020-04-01 &  1         & 4          & 2020       & 1          & 0          & Zimbabwe   & ZW         & ZWE        & 14439018  \\\\\n",
       "\t 2020-03-31 & 31         & 3          & 2020       & 0          & 0          & Zimbabwe   & ZW         & ZWE        & 14439018  \\\\\n",
       "\t 2020-03-30 & 30         & 3          & 2020       & 0          & 0          & Zimbabwe   & ZW         & ZWE        & 14439018  \\\\\n",
       "\t 2020-03-29 & 29         & 3          & 2020       & 2          & 0          & Zimbabwe   & ZW         & ZWE        & 14439018  \\\\\n",
       "\t 2020-03-28 & 28         & 3          & 2020       & 2          & 0          & Zimbabwe   & ZW         & ZWE        & 14439018  \\\\\n",
       "\t 2020-03-27 & 27         & 3          & 2020       & 0          & 0          & Zimbabwe   & ZW         & ZWE        & 14439018  \\\\\n",
       "\t 2020-03-26 & 26         & 3          & 2020       & 1          & 0          & Zimbabwe   & ZW         & ZWE        & 14439018  \\\\\n",
       "\t 2020-03-25 & 25         & 3          & 2020       & 0          & 0          & Zimbabwe   & ZW         & ZWE        & 14439018  \\\\\n",
       "\t 2020-03-24 & 24         & 3          & 2020       & 0          & 1          & Zimbabwe   & ZW         & ZWE        & 14439018  \\\\\n",
       "\t 2020-03-23 & 23         & 3          & 2020       & 0          & 0          & Zimbabwe   & ZW         & ZWE        & 14439018  \\\\\n",
       "\t 2020-03-22 & 22         & 3          & 2020       & 1          & 0          & Zimbabwe   & ZW         & ZWE        & 14439018  \\\\\n",
       "\t 2020-03-21 & 21         & 3          & 2020       & 1          & 0          & Zimbabwe   & ZW         & ZWE        & 14439018  \\\\\n",
       "\\end{tabular}\n"
      ],
      "text/markdown": [
       "\n",
       "| dateRep | day | month | year | cases | deaths | countriesAndTerritories | geoId | countryterritoryCode | popData2018 |\n",
       "|---|---|---|---|---|---|---|---|---|---|\n",
       "| 2020-04-13  | 13          | 4           | 2020        | 52          | 0           | Afghanistan | AF          | AFG         | 37172386    |\n",
       "| 2020-04-12  | 12          | 4           | 2020        | 34          | 3           | Afghanistan | AF          | AFG         | 37172386    |\n",
       "| 2020-04-11  | 11          | 4           | 2020        | 37          | 0           | Afghanistan | AF          | AFG         | 37172386    |\n",
       "| 2020-04-10  | 10          | 4           | 2020        | 61          | 1           | Afghanistan | AF          | AFG         | 37172386    |\n",
       "| 2020-04-09  |  9          | 4           | 2020        | 56          | 3           | Afghanistan | AF          | AFG         | 37172386    |\n",
       "| 2020-04-08  |  8          | 4           | 2020        | 30          | 4           | Afghanistan | AF          | AFG         | 37172386    |\n",
       "| 2020-04-07  |  7          | 4           | 2020        | 38          | 0           | Afghanistan | AF          | AFG         | 37172386    |\n",
       "| 2020-04-06  |  6          | 4           | 2020        | 29          | 2           | Afghanistan | AF          | AFG         | 37172386    |\n",
       "| 2020-04-05  |  5          | 4           | 2020        | 35          | 1           | Afghanistan | AF          | AFG         | 37172386    |\n",
       "| 2020-04-04  |  4          | 4           | 2020        |  0          | 0           | Afghanistan | AF          | AFG         | 37172386    |\n",
       "| 2020-04-03  |  3          | 4           | 2020        | 43          | 0           | Afghanistan | AF          | AFG         | 37172386    |\n",
       "| 2020-04-02  |  2          | 4           | 2020        | 26          | 0           | Afghanistan | AF          | AFG         | 37172386    |\n",
       "| 2020-04-01  |  1          | 4           | 2020        | 25          | 0           | Afghanistan | AF          | AFG         | 37172386    |\n",
       "| 2020-03-31  | 31          | 3           | 2020        | 27          | 0           | Afghanistan | AF          | AFG         | 37172386    |\n",
       "| 2020-03-30  | 30          | 3           | 2020        |  8          | 1           | Afghanistan | AF          | AFG         | 37172386    |\n",
       "| 2020-03-29  | 29          | 3           | 2020        | 15          | 1           | Afghanistan | AF          | AFG         | 37172386    |\n",
       "| 2020-03-28  | 28          | 3           | 2020        | 16          | 1           | Afghanistan | AF          | AFG         | 37172386    |\n",
       "| 2020-03-27  | 27          | 3           | 2020        |  0          | 0           | Afghanistan | AF          | AFG         | 37172386    |\n",
       "| 2020-03-26  | 26          | 3           | 2020        | 33          | 0           | Afghanistan | AF          | AFG         | 37172386    |\n",
       "| 2020-03-25  | 25          | 3           | 2020        |  2          | 0           | Afghanistan | AF          | AFG         | 37172386    |\n",
       "| 2020-03-24  | 24          | 3           | 2020        |  6          | 1           | Afghanistan | AF          | AFG         | 37172386    |\n",
       "| 2020-03-23  | 23          | 3           | 2020        | 10          | 0           | Afghanistan | AF          | AFG         | 37172386    |\n",
       "| 2020-03-22  | 22          | 3           | 2020        |  0          | 0           | Afghanistan | AF          | AFG         | 37172386    |\n",
       "| 2020-03-21  | 21          | 3           | 2020        |  2          | 0           | Afghanistan | AF          | AFG         | 37172386    |\n",
       "| 2020-03-20  | 20          | 3           | 2020        |  0          | 0           | Afghanistan | AF          | AFG         | 37172386    |\n",
       "| 2020-03-19  | 19          | 3           | 2020        |  0          | 0           | Afghanistan | AF          | AFG         | 37172386    |\n",
       "| 2020-03-18  | 18          | 3           | 2020        |  1          | 0           | Afghanistan | AF          | AFG         | 37172386    |\n",
       "| 2020-03-17  | 17          | 3           | 2020        |  5          | 0           | Afghanistan | AF          | AFG         | 37172386    |\n",
       "| 2020-03-16  | 16          | 3           | 2020        |  6          | 0           | Afghanistan | AF          | AFG         | 37172386    |\n",
       "| 2020-03-15  | 15          | 3           | 2020        |  3          | 0           | Afghanistan | AF          | AFG         | 37172386    |\n",
       "| ... | ... | ... | ... | ... | ... | ... | ... | ... | ... |\n",
       "| 2020-03-24 | 24         | 3          | 2020       | 0          | 0          | Zambia     | ZM         | ZMB        | 17351822   |\n",
       "| 2020-03-23 | 23         | 3          | 2020       | 1          | 0          | Zambia     | ZM         | ZMB        | 17351822   |\n",
       "| 2020-03-22 | 22         | 3          | 2020       | 0          | 0          | Zambia     | ZM         | ZMB        | 17351822   |\n",
       "| 2020-03-21 | 21         | 3          | 2020       | 0          | 0          | Zambia     | ZM         | ZMB        | 17351822   |\n",
       "| 2020-03-20 | 20         | 3          | 2020       | 0          | 0          | Zambia     | ZM         | ZMB        | 17351822   |\n",
       "| 2020-03-19 | 19         | 3          | 2020       | 2          | 0          | Zambia     | ZM         | ZMB        | 17351822   |\n",
       "| 2020-04-13 | 13         | 4          | 2020       | 0          | 0          | Zimbabwe   | ZW         | ZWE        | 14439018   |\n",
       "| 2020-04-12 | 12         | 4          | 2020       | 3          | 0          | Zimbabwe   | ZW         | ZWE        | 14439018   |\n",
       "| 2020-04-11 | 11         | 4          | 2020       | 0          | 0          | Zimbabwe   | ZW         | ZWE        | 14439018   |\n",
       "| 2020-04-10 | 10         | 4          | 2020       | 0          | 1          | Zimbabwe   | ZW         | ZWE        | 14439018   |\n",
       "| 2020-04-09 |  9         | 4          | 2020       | 1          | 1          | Zimbabwe   | ZW         | ZWE        | 14439018   |\n",
       "| 2020-04-08 |  8         | 4          | 2020       | 1          | 0          | Zimbabwe   | ZW         | ZWE        | 14439018   |\n",
       "| 2020-04-07 |  7         | 4          | 2020       | 0          | 0          | Zimbabwe   | ZW         | ZWE        | 14439018   |\n",
       "| 2020-04-06 |  6         | 4          | 2020       | 0          | 0          | Zimbabwe   | ZW         | ZWE        | 14439018   |\n",
       "| 2020-04-05 |  5         | 4          | 2020       | 0          | 0          | Zimbabwe   | ZW         | ZWE        | 14439018   |\n",
       "| 2020-04-04 |  4         | 4          | 2020       | 1          | 0          | Zimbabwe   | ZW         | ZWE        | 14439018   |\n",
       "| 2020-04-03 |  3         | 4          | 2020       | 0          | 0          | Zimbabwe   | ZW         | ZWE        | 14439018   |\n",
       "| 2020-04-02 |  2         | 4          | 2020       | 0          | 0          | Zimbabwe   | ZW         | ZWE        | 14439018   |\n",
       "| 2020-04-01 |  1         | 4          | 2020       | 1          | 0          | Zimbabwe   | ZW         | ZWE        | 14439018   |\n",
       "| 2020-03-31 | 31         | 3          | 2020       | 0          | 0          | Zimbabwe   | ZW         | ZWE        | 14439018   |\n",
       "| 2020-03-30 | 30         | 3          | 2020       | 0          | 0          | Zimbabwe   | ZW         | ZWE        | 14439018   |\n",
       "| 2020-03-29 | 29         | 3          | 2020       | 2          | 0          | Zimbabwe   | ZW         | ZWE        | 14439018   |\n",
       "| 2020-03-28 | 28         | 3          | 2020       | 2          | 0          | Zimbabwe   | ZW         | ZWE        | 14439018   |\n",
       "| 2020-03-27 | 27         | 3          | 2020       | 0          | 0          | Zimbabwe   | ZW         | ZWE        | 14439018   |\n",
       "| 2020-03-26 | 26         | 3          | 2020       | 1          | 0          | Zimbabwe   | ZW         | ZWE        | 14439018   |\n",
       "| 2020-03-25 | 25         | 3          | 2020       | 0          | 0          | Zimbabwe   | ZW         | ZWE        | 14439018   |\n",
       "| 2020-03-24 | 24         | 3          | 2020       | 0          | 1          | Zimbabwe   | ZW         | ZWE        | 14439018   |\n",
       "| 2020-03-23 | 23         | 3          | 2020       | 0          | 0          | Zimbabwe   | ZW         | ZWE        | 14439018   |\n",
       "| 2020-03-22 | 22         | 3          | 2020       | 1          | 0          | Zimbabwe   | ZW         | ZWE        | 14439018   |\n",
       "| 2020-03-21 | 21         | 3          | 2020       | 1          | 0          | Zimbabwe   | ZW         | ZWE        | 14439018   |\n",
       "\n"
      ],
      "text/plain": [
       "      dateRep    day month year cases deaths countriesAndTerritories geoId\n",
       "1     2020-04-13 13  4     2020 52    0      Afghanistan             AF   \n",
       "2     2020-04-12 12  4     2020 34    3      Afghanistan             AF   \n",
       "3     2020-04-11 11  4     2020 37    0      Afghanistan             AF   \n",
       "4     2020-04-10 10  4     2020 61    1      Afghanistan             AF   \n",
       "5     2020-04-09  9  4     2020 56    3      Afghanistan             AF   \n",
       "6     2020-04-08  8  4     2020 30    4      Afghanistan             AF   \n",
       "7     2020-04-07  7  4     2020 38    0      Afghanistan             AF   \n",
       "8     2020-04-06  6  4     2020 29    2      Afghanistan             AF   \n",
       "9     2020-04-05  5  4     2020 35    1      Afghanistan             AF   \n",
       "10    2020-04-04  4  4     2020  0    0      Afghanistan             AF   \n",
       "11    2020-04-03  3  4     2020 43    0      Afghanistan             AF   \n",
       "12    2020-04-02  2  4     2020 26    0      Afghanistan             AF   \n",
       "13    2020-04-01  1  4     2020 25    0      Afghanistan             AF   \n",
       "14    2020-03-31 31  3     2020 27    0      Afghanistan             AF   \n",
       "15    2020-03-30 30  3     2020  8    1      Afghanistan             AF   \n",
       "16    2020-03-29 29  3     2020 15    1      Afghanistan             AF   \n",
       "17    2020-03-28 28  3     2020 16    1      Afghanistan             AF   \n",
       "18    2020-03-27 27  3     2020  0    0      Afghanistan             AF   \n",
       "19    2020-03-26 26  3     2020 33    0      Afghanistan             AF   \n",
       "20    2020-03-25 25  3     2020  2    0      Afghanistan             AF   \n",
       "21    2020-03-24 24  3     2020  6    1      Afghanistan             AF   \n",
       "22    2020-03-23 23  3     2020 10    0      Afghanistan             AF   \n",
       "23    2020-03-22 22  3     2020  0    0      Afghanistan             AF   \n",
       "24    2020-03-21 21  3     2020  2    0      Afghanistan             AF   \n",
       "25    2020-03-20 20  3     2020  0    0      Afghanistan             AF   \n",
       "26    2020-03-19 19  3     2020  0    0      Afghanistan             AF   \n",
       "27    2020-03-18 18  3     2020  1    0      Afghanistan             AF   \n",
       "28    2020-03-17 17  3     2020  5    0      Afghanistan             AF   \n",
       "29    2020-03-16 16  3     2020  6    0      Afghanistan             AF   \n",
       "30    2020-03-15 15  3     2020  3    0      Afghanistan             AF   \n",
       "...   ...        ... ...   ...  ...   ...    ...                     ...  \n",
       "10508 2020-03-24 24  3     2020 0     0      Zambia                  ZM   \n",
       "10509 2020-03-23 23  3     2020 1     0      Zambia                  ZM   \n",
       "10510 2020-03-22 22  3     2020 0     0      Zambia                  ZM   \n",
       "10511 2020-03-21 21  3     2020 0     0      Zambia                  ZM   \n",
       "10512 2020-03-20 20  3     2020 0     0      Zambia                  ZM   \n",
       "10513 2020-03-19 19  3     2020 2     0      Zambia                  ZM   \n",
       "10514 2020-04-13 13  4     2020 0     0      Zimbabwe                ZW   \n",
       "10515 2020-04-12 12  4     2020 3     0      Zimbabwe                ZW   \n",
       "10516 2020-04-11 11  4     2020 0     0      Zimbabwe                ZW   \n",
       "10517 2020-04-10 10  4     2020 0     1      Zimbabwe                ZW   \n",
       "10518 2020-04-09  9  4     2020 1     1      Zimbabwe                ZW   \n",
       "10519 2020-04-08  8  4     2020 1     0      Zimbabwe                ZW   \n",
       "10520 2020-04-07  7  4     2020 0     0      Zimbabwe                ZW   \n",
       "10521 2020-04-06  6  4     2020 0     0      Zimbabwe                ZW   \n",
       "10522 2020-04-05  5  4     2020 0     0      Zimbabwe                ZW   \n",
       "10523 2020-04-04  4  4     2020 1     0      Zimbabwe                ZW   \n",
       "10524 2020-04-03  3  4     2020 0     0      Zimbabwe                ZW   \n",
       "10525 2020-04-02  2  4     2020 0     0      Zimbabwe                ZW   \n",
       "10526 2020-04-01  1  4     2020 1     0      Zimbabwe                ZW   \n",
       "10527 2020-03-31 31  3     2020 0     0      Zimbabwe                ZW   \n",
       "10528 2020-03-30 30  3     2020 0     0      Zimbabwe                ZW   \n",
       "10529 2020-03-29 29  3     2020 2     0      Zimbabwe                ZW   \n",
       "10530 2020-03-28 28  3     2020 2     0      Zimbabwe                ZW   \n",
       "10531 2020-03-27 27  3     2020 0     0      Zimbabwe                ZW   \n",
       "10532 2020-03-26 26  3     2020 1     0      Zimbabwe                ZW   \n",
       "10533 2020-03-25 25  3     2020 0     0      Zimbabwe                ZW   \n",
       "10534 2020-03-24 24  3     2020 0     1      Zimbabwe                ZW   \n",
       "10535 2020-03-23 23  3     2020 0     0      Zimbabwe                ZW   \n",
       "10536 2020-03-22 22  3     2020 1     0      Zimbabwe                ZW   \n",
       "10537 2020-03-21 21  3     2020 1     0      Zimbabwe                ZW   \n",
       "      countryterritoryCode popData2018\n",
       "1     AFG                  37172386   \n",
       "2     AFG                  37172386   \n",
       "3     AFG                  37172386   \n",
       "4     AFG                  37172386   \n",
       "5     AFG                  37172386   \n",
       "6     AFG                  37172386   \n",
       "7     AFG                  37172386   \n",
       "8     AFG                  37172386   \n",
       "9     AFG                  37172386   \n",
       "10    AFG                  37172386   \n",
       "11    AFG                  37172386   \n",
       "12    AFG                  37172386   \n",
       "13    AFG                  37172386   \n",
       "14    AFG                  37172386   \n",
       "15    AFG                  37172386   \n",
       "16    AFG                  37172386   \n",
       "17    AFG                  37172386   \n",
       "18    AFG                  37172386   \n",
       "19    AFG                  37172386   \n",
       "20    AFG                  37172386   \n",
       "21    AFG                  37172386   \n",
       "22    AFG                  37172386   \n",
       "23    AFG                  37172386   \n",
       "24    AFG                  37172386   \n",
       "25    AFG                  37172386   \n",
       "26    AFG                  37172386   \n",
       "27    AFG                  37172386   \n",
       "28    AFG                  37172386   \n",
       "29    AFG                  37172386   \n",
       "30    AFG                  37172386   \n",
       "...   ...                  ...        \n",
       "10508 ZMB                  17351822   \n",
       "10509 ZMB                  17351822   \n",
       "10510 ZMB                  17351822   \n",
       "10511 ZMB                  17351822   \n",
       "10512 ZMB                  17351822   \n",
       "10513 ZMB                  17351822   \n",
       "10514 ZWE                  14439018   \n",
       "10515 ZWE                  14439018   \n",
       "10516 ZWE                  14439018   \n",
       "10517 ZWE                  14439018   \n",
       "10518 ZWE                  14439018   \n",
       "10519 ZWE                  14439018   \n",
       "10520 ZWE                  14439018   \n",
       "10521 ZWE                  14439018   \n",
       "10522 ZWE                  14439018   \n",
       "10523 ZWE                  14439018   \n",
       "10524 ZWE                  14439018   \n",
       "10525 ZWE                  14439018   \n",
       "10526 ZWE                  14439018   \n",
       "10527 ZWE                  14439018   \n",
       "10528 ZWE                  14439018   \n",
       "10529 ZWE                  14439018   \n",
       "10530 ZWE                  14439018   \n",
       "10531 ZWE                  14439018   \n",
       "10532 ZWE                  14439018   \n",
       "10533 ZWE                  14439018   \n",
       "10534 ZWE                  14439018   \n",
       "10535 ZWE                  14439018   \n",
       "10536 ZWE                  14439018   \n",
       "10537 ZWE                  14439018   "
      ]
     },
     "metadata": {},
     "output_type": "display_data"
    }
   ],
   "source": [
    "#1. Examine data\n",
    "covid"
   ]
  },
  {
   "cell_type": "code",
   "execution_count": 42,
   "metadata": {
    "scrolled": true
   },
   "outputs": [
    {
     "data": {
      "text/html": [
       "<table>\n",
       "<thead><tr><th scope=col>dateRep</th><th scope=col>day</th><th scope=col>month</th><th scope=col>year</th><th scope=col>cases</th><th scope=col>deaths</th><th scope=col>countriesAndTerritories</th><th scope=col>geoId</th><th scope=col>countryterritoryCode</th><th scope=col>popData2018</th></tr></thead>\n",
       "<tbody>\n",
       "\t<tr><td>2020-04-13                       </td><td>13                               </td><td>4                                </td><td>2020                             </td><td>  52                             </td><td>  0                              </td><td>Afghanistan                      </td><td>AF                               </td><td>AFG                              </td><td> 37172386                        </td></tr>\n",
       "\t<tr><td>2020-04-13                       </td><td>13                               </td><td>4                                </td><td>2020                             </td><td>  13                             </td><td>  0                              </td><td>Albania                          </td><td>AL                               </td><td>ALB                              </td><td>  2866376                        </td></tr>\n",
       "\t<tr><td>2020-04-13                       </td><td>13                               </td><td>4                                </td><td>2020                             </td><td>  89                             </td><td> 18                              </td><td>Algeria                          </td><td>DZ                               </td><td>DZA                              </td><td> 42228429                        </td></tr>\n",
       "\t<tr><td>2020-04-13                       </td><td>13                               </td><td>4                                </td><td>2020                             </td><td>  16                             </td><td>  1                              </td><td>Andorra                          </td><td>AD                               </td><td>AND                              </td><td>    77006                        </td></tr>\n",
       "\t<tr><td>2020-04-13                       </td><td>13                               </td><td>4                                </td><td>2020                             </td><td>   0                             </td><td>  0                              </td><td>Angola                           </td><td>AO                               </td><td>AGO                              </td><td> 30809762                        </td></tr>\n",
       "\t<tr><td>2020-04-13                       </td><td>13                               </td><td>4                                </td><td>2020                             </td><td>   0                             </td><td>  0                              </td><td>Anguilla                         </td><td>AI                               </td><td>NA                               </td><td>       NA                        </td></tr>\n",
       "\t<tr><td>2020-04-13                       </td><td>13                               </td><td>4                                </td><td>2020                             </td><td>   0                             </td><td>  0                              </td><td>Antigua_and_Barbuda              </td><td>AG                               </td><td>ATG                              </td><td>    96286                        </td></tr>\n",
       "\t<tr><td>2020-04-13                       </td><td>13                               </td><td>4                                </td><td>2020                             </td><td>  71                             </td><td>  6                              </td><td>Argentina                        </td><td>AR                               </td><td>ARG                              </td><td> 44494502                        </td></tr>\n",
       "\t<tr><td>2020-04-13                       </td><td>13                               </td><td>4                                </td><td>2020                             </td><td>  46                             </td><td>  0                              </td><td>Armenia                          </td><td>AM                               </td><td>ARM                              </td><td>  2951776                        </td></tr>\n",
       "\t<tr><td>2020-04-13                       </td><td>13                               </td><td>4                                </td><td>2020                             </td><td>   0                             </td><td>  0                              </td><td>Aruba                            </td><td>AW                               </td><td>ABW                              </td><td>   105845                        </td></tr>\n",
       "\t<tr><td>2020-04-13                       </td><td>13                               </td><td>4                                </td><td>2020                             </td><td>  33                             </td><td>  4                              </td><td>Australia                        </td><td>AU                               </td><td>AUS                              </td><td> 24992369                        </td></tr>\n",
       "\t<tr><td>2020-04-13                       </td><td>13                               </td><td>4                                </td><td>2020                             </td><td> 130                             </td><td> 13                              </td><td>Austria                          </td><td>AT                               </td><td>AUT                              </td><td>  8847037                        </td></tr>\n",
       "\t<tr><td>2020-04-13                       </td><td>13                               </td><td>4                                </td><td>2020                             </td><td>  40                             </td><td>  0                              </td><td>Azerbaijan                       </td><td>AZ                               </td><td>AZE                              </td><td>  9942334                        </td></tr>\n",
       "\t<tr><td>2020-04-13                       </td><td>13                               </td><td>4                                </td><td>2020                             </td><td>   1                             </td><td>  0                              </td><td>Bahamas                          </td><td>BS                               </td><td>BHS                              </td><td>   385640                        </td></tr>\n",
       "\t<tr><td>2020-04-13                       </td><td>13                               </td><td>4                                </td><td>2020                             </td><td>  96                             </td><td>  0                              </td><td>Bahrain                          </td><td>BH                               </td><td>BHR                              </td><td>  1569439                        </td></tr>\n",
       "\t<tr><td>2020-04-13                       </td><td>13                               </td><td>4                                </td><td>2020                             </td><td> 139                             </td><td>  4                              </td><td>Bangladesh                       </td><td>BD                               </td><td>BGD                              </td><td>161356039                        </td></tr>\n",
       "\t<tr><td>2020-04-13                       </td><td>13                               </td><td>4                                </td><td>2020                             </td><td>   3                             </td><td>  0                              </td><td>Barbados                         </td><td>BB                               </td><td>BRB                              </td><td>   286641                        </td></tr>\n",
       "\t<tr><td>2020-04-13                       </td><td>13                               </td><td>4                                </td><td>2020                             </td><td> 352                             </td><td>  3                              </td><td>Belarus                          </td><td>BY                               </td><td>BLR                              </td><td>  9485386                        </td></tr>\n",
       "\t<tr><td>2020-04-13                       </td><td>13                               </td><td>4                                </td><td>2020                             </td><td>1629                             </td><td>254                              </td><td>Belgium                          </td><td>BE                               </td><td>BEL                              </td><td> 11422068                        </td></tr>\n",
       "\t<tr><td>2020-04-13                       </td><td>13                               </td><td>4                                </td><td>2020                             </td><td>   1                             </td><td>  0                              </td><td>Belize                           </td><td>BZ                               </td><td>BLZ                              </td><td>   383071                        </td></tr>\n",
       "\t<tr><td>2020-04-13                       </td><td>13                               </td><td>4                                </td><td>2020                             </td><td>   0                             </td><td>  0                              </td><td>Benin                            </td><td>BJ                               </td><td>BEN                              </td><td> 11485048                        </td></tr>\n",
       "\t<tr><td>2020-04-13                       </td><td>13                               </td><td>4                                </td><td>2020                             </td><td>   7                             </td><td>  0                              </td><td>Bermuda                          </td><td>BM                               </td><td>BMU                              </td><td>    63968                        </td></tr>\n",
       "\t<tr><td>2020-04-13                       </td><td>13                               </td><td>4                                </td><td>2020                             </td><td>   0                             </td><td>  0                              </td><td>Bhutan                           </td><td>BT                               </td><td>BTN                              </td><td>   754394                        </td></tr>\n",
       "\t<tr><td>2020-04-13                       </td><td>13                               </td><td>4                                </td><td>2020                             </td><td>  30                             </td><td>  3                              </td><td>Bolivia                          </td><td>BO                               </td><td>BOL                              </td><td> 11353142                        </td></tr>\n",
       "\t<tr><td>2020-04-13                       </td><td>13                               </td><td>4                                </td><td>2020                             </td><td>   1                             </td><td>  0                              </td><td>Bonaire, Saint Eustatius and Saba</td><td>BQ                               </td><td>NA                               </td><td>       NA                        </td></tr>\n",
       "\t<tr><td>2020-04-13                       </td><td>13                               </td><td>4                                </td><td>2020                             </td><td>  59                             </td><td>  1                              </td><td>Bosnia_and_Herzegovina           </td><td>BA                               </td><td>BIH                              </td><td>  3323929                        </td></tr>\n",
       "\t<tr><td>2020-04-13                       </td><td>13                               </td><td>4                                </td><td>2020                             </td><td>   0                             </td><td>  0                              </td><td>Botswana                         </td><td>BW                               </td><td>BWA                              </td><td>  2254126                        </td></tr>\n",
       "\t<tr><td>2020-04-13                       </td><td>13                               </td><td>4                                </td><td>2020                             </td><td>1442                             </td><td> 99                              </td><td>Brazil                           </td><td>BR                               </td><td>BRA                              </td><td>209469333                        </td></tr>\n",
       "\t<tr><td>2020-04-13                       </td><td>13                               </td><td>4                                </td><td>2020                             </td><td>   0                             </td><td>  0                              </td><td>British_Virgin_Islands           </td><td>VG                               </td><td>VGB                              </td><td>    29802                        </td></tr>\n",
       "\t<tr><td>2020-04-13                       </td><td>13                               </td><td>4                                </td><td>2020                             </td><td>   0                             </td><td>  0                              </td><td>Brunei_Darussalam                </td><td>BN                               </td><td>BRN                              </td><td>   428962                        </td></tr>\n",
       "\t<tr><td>...</td><td>...</td><td>...</td><td>...</td><td>...</td><td>...</td><td>...</td><td>...</td><td>...</td><td>...</td></tr>\n",
       "\t<tr><td>2020-04-13                  </td><td>13                          </td><td>4                           </td><td>2020                        </td><td>    0                       </td><td>   0                        </td><td>South_Sudan                 </td><td>SS                          </td><td>SSD                         </td><td> 10975920                   </td></tr>\n",
       "\t<tr><td>2020-04-13                  </td><td>13                          </td><td>4                           </td><td>2020                        </td><td> 4167                       </td><td> 619                        </td><td>Spain                       </td><td>ES                          </td><td>ESP                         </td><td> 46723749                   </td></tr>\n",
       "\t<tr><td>2020-04-13                  </td><td>13                          </td><td>4                           </td><td>2020                        </td><td>   11                       </td><td>   0                        </td><td>Sri_Lanka                   </td><td>LK                          </td><td>LKA                         </td><td> 21670000                   </td></tr>\n",
       "\t<tr><td>2020-04-13                  </td><td>13                          </td><td>4                           </td><td>2020                        </td><td>    0                       </td><td>   0                        </td><td>Sudan                       </td><td>SD                          </td><td>SDN                         </td><td> 41801533                   </td></tr>\n",
       "\t<tr><td>2020-04-13                  </td><td>13                          </td><td>4                           </td><td>2020                        </td><td>    0                       </td><td>   0                        </td><td>Suriname                    </td><td>SR                          </td><td>SUR                         </td><td>   575991                   </td></tr>\n",
       "\t<tr><td>2020-04-13                  </td><td>13                          </td><td>4                           </td><td>2020                        </td><td>  332                       </td><td>  12                        </td><td>Sweden                      </td><td>SE                          </td><td>SWE                         </td><td> 10183175                   </td></tr>\n",
       "\t<tr><td>2020-04-13                  </td><td>13                          </td><td>4                           </td><td>2020                        </td><td>  400                       </td><td>  27                        </td><td>Switzerland                 </td><td>CH                          </td><td>CHE                         </td><td>  8516543                   </td></tr>\n",
       "\t<tr><td>2020-04-13                  </td><td>13                          </td><td>4                           </td><td>2020                        </td><td>    0                       </td><td>   0                        </td><td>Syria                       </td><td>SY                          </td><td>SYR                         </td><td> 16906283                   </td></tr>\n",
       "\t<tr><td>2020-04-13                  </td><td>13                          </td><td>4                           </td><td>2020                        </td><td>    3                       </td><td>   0                        </td><td>Taiwan                      </td><td>TW                          </td><td>TWN                         </td><td> 23780452                   </td></tr>\n",
       "\t<tr><td>2020-04-13                  </td><td>13                          </td><td>4                           </td><td>2020                        </td><td>   28                       </td><td>   2                        </td><td>Thailand                    </td><td>TH                          </td><td>THA                         </td><td> 69428524                   </td></tr>\n",
       "\t<tr><td>2020-04-13                  </td><td>13                          </td><td>4                           </td><td>2020                        </td><td>    0                       </td><td>   0                        </td><td>Timor_Leste                 </td><td>TL                          </td><td>TLS                         </td><td>  1267972                   </td></tr>\n",
       "\t<tr><td>2020-04-13                  </td><td>13                          </td><td>4                           </td><td>2020                        </td><td>    0                       </td><td>   0                        </td><td>Togo                        </td><td>TG                          </td><td>TGO                         </td><td>  7889094                   </td></tr>\n",
       "\t<tr><td>2020-04-13                  </td><td>13                          </td><td>4                           </td><td>2020                        </td><td>    1                       </td><td>   0                        </td><td>Trinidad_and_Tobago         </td><td>TT                          </td><td>TTO                         </td><td>  1389858                   </td></tr>\n",
       "\t<tr><td>2020-04-13                  </td><td>13                          </td><td>4                           </td><td>2020                        </td><td>   22                       </td><td>   3                        </td><td>Tunisia                     </td><td>TN                          </td><td>TUN                         </td><td> 11565204                   </td></tr>\n",
       "\t<tr><td>2020-04-13                  </td><td>13                          </td><td>4                           </td><td>2020                        </td><td> 4789                       </td><td>  97                        </td><td>Turkey                      </td><td>TR                          </td><td>TUR                         </td><td> 82319724                   </td></tr>\n",
       "\t<tr><td>2020-04-13                  </td><td>13                          </td><td>4                           </td><td>2020                        </td><td>    0                       </td><td>   0                        </td><td>Turks_and_Caicos_islands    </td><td>TC                          </td><td>TCA                         </td><td>    31458                   </td></tr>\n",
       "\t<tr><td>2020-04-13                  </td><td>13                          </td><td>4                           </td><td>2020                        </td><td>    1                       </td><td>   0                        </td><td>Uganda                      </td><td>UG                          </td><td>UGA                         </td><td> 42723139                   </td></tr>\n",
       "\t<tr><td>2020-04-13                  </td><td>13                          </td><td>4                           </td><td>2020                        </td><td>  266                       </td><td>  10                        </td><td>Ukraine                     </td><td>UA                          </td><td>UKR                         </td><td> 44622516                   </td></tr>\n",
       "\t<tr><td>2020-04-13                  </td><td>13                          </td><td>4                           </td><td>2020                        </td><td>  387                       </td><td>   2                        </td><td>United_Arab_Emirates        </td><td>AE                          </td><td>ARE                         </td><td>  9630959                   </td></tr>\n",
       "\t<tr><td>2020-04-13                  </td><td>13                          </td><td>4                           </td><td>2020                        </td><td> 5288                       </td><td> 737                        </td><td>United_Kingdom              </td><td>UK                          </td><td>GBR                         </td><td> 66488991                   </td></tr>\n",
       "\t<tr><td>2020-04-13                  </td><td>13                          </td><td>4                           </td><td>2020                        </td><td>    0                       </td><td>   0                        </td><td>United_Republic_of_Tanzania </td><td>TZ                          </td><td>TZA                         </td><td> 56318348                   </td></tr>\n",
       "\t<tr><td>2020-04-13                  </td><td>13                          </td><td>4                           </td><td>2020                        </td><td>27620                       </td><td>1500                        </td><td>United_States_of_America    </td><td>US                          </td><td>USA                         </td><td>327167434                   </td></tr>\n",
       "\t<tr><td>2020-04-13                  </td><td>13                          </td><td>4                           </td><td>2020                        </td><td>    0                       </td><td>   0                        </td><td>United_States_Virgin_Islands</td><td>VI                          </td><td>VIR                         </td><td>   106977                   </td></tr>\n",
       "\t<tr><td>2020-04-13                  </td><td>13                          </td><td>4                           </td><td>2020                        </td><td>   11                       </td><td>   1                        </td><td>Uruguay                     </td><td>UY                          </td><td>URY                         </td><td>  3449299                   </td></tr>\n",
       "\t<tr><td>2020-04-13                  </td><td>13                          </td><td>4                           </td><td>2020                        </td><td>   69                       </td><td>   0                        </td><td>Uzbekistan                  </td><td>UZ                          </td><td>UZB                         </td><td> 32955400                   </td></tr>\n",
       "\t<tr><td>2020-04-13                  </td><td>13                          </td><td>4                           </td><td>2020                        </td><td>    6                       </td><td>   0                        </td><td>Venezuela                   </td><td>VE                          </td><td>VEN                         </td><td> 28870195                   </td></tr>\n",
       "\t<tr><td>2020-04-13                  </td><td>13                          </td><td>4                           </td><td>2020                        </td><td>    4                       </td><td>   0                        </td><td>Vietnam                     </td><td>VN                          </td><td>VNM                         </td><td> 95540395                   </td></tr>\n",
       "\t<tr><td>2020-04-13                  </td><td>13                          </td><td>4                           </td><td>2020                        </td><td>    0                       </td><td>   0                        </td><td>Yemen                       </td><td>YE                          </td><td>YEM                         </td><td> 28498687                   </td></tr>\n",
       "\t<tr><td>2020-04-13                  </td><td>13                          </td><td>4                           </td><td>2020                        </td><td>    3                       </td><td>   0                        </td><td>Zambia                      </td><td>ZM                          </td><td>ZMB                         </td><td> 17351822                   </td></tr>\n",
       "\t<tr><td>2020-04-13                  </td><td>13                          </td><td>4                           </td><td>2020                        </td><td>    0                       </td><td>   0                        </td><td>Zimbabwe                    </td><td>ZW                          </td><td>ZWE                         </td><td> 14439018                   </td></tr>\n",
       "</tbody>\n",
       "</table>\n"
      ],
      "text/latex": [
       "\\begin{tabular}{r|llllllllll}\n",
       " dateRep & day & month & year & cases & deaths & countriesAndTerritories & geoId & countryterritoryCode & popData2018\\\\\n",
       "\\hline\n",
       "\t 2020-04-13                        & 13                                & 4                                 & 2020                              &   52                              &   0                               & Afghanistan                       & AF                                & AFG                               &  37172386                        \\\\\n",
       "\t 2020-04-13                        & 13                                & 4                                 & 2020                              &   13                              &   0                               & Albania                           & AL                                & ALB                               &   2866376                        \\\\\n",
       "\t 2020-04-13                        & 13                                & 4                                 & 2020                              &   89                              &  18                               & Algeria                           & DZ                                & DZA                               &  42228429                        \\\\\n",
       "\t 2020-04-13                        & 13                                & 4                                 & 2020                              &   16                              &   1                               & Andorra                           & AD                                & AND                               &     77006                        \\\\\n",
       "\t 2020-04-13                        & 13                                & 4                                 & 2020                              &    0                              &   0                               & Angola                            & AO                                & AGO                               &  30809762                        \\\\\n",
       "\t 2020-04-13                        & 13                                & 4                                 & 2020                              &    0                              &   0                               & Anguilla                          & AI                                & NA                                &        NA                        \\\\\n",
       "\t 2020-04-13                            & 13                                    & 4                                     & 2020                                  &    0                                  &   0                                   & Antigua\\_and\\_Barbuda               & AG                                    & ATG                                   &     96286                            \\\\\n",
       "\t 2020-04-13                        & 13                                & 4                                 & 2020                              &   71                              &   6                               & Argentina                         & AR                                & ARG                               &  44494502                        \\\\\n",
       "\t 2020-04-13                        & 13                                & 4                                 & 2020                              &   46                              &   0                               & Armenia                           & AM                                & ARM                               &   2951776                        \\\\\n",
       "\t 2020-04-13                        & 13                                & 4                                 & 2020                              &    0                              &   0                               & Aruba                             & AW                                & ABW                               &    105845                        \\\\\n",
       "\t 2020-04-13                        & 13                                & 4                                 & 2020                              &   33                              &   4                               & Australia                         & AU                                & AUS                               &  24992369                        \\\\\n",
       "\t 2020-04-13                        & 13                                & 4                                 & 2020                              &  130                              &  13                               & Austria                           & AT                                & AUT                               &   8847037                        \\\\\n",
       "\t 2020-04-13                        & 13                                & 4                                 & 2020                              &   40                              &   0                               & Azerbaijan                        & AZ                                & AZE                               &   9942334                        \\\\\n",
       "\t 2020-04-13                        & 13                                & 4                                 & 2020                              &    1                              &   0                               & Bahamas                           & BS                                & BHS                               &    385640                        \\\\\n",
       "\t 2020-04-13                        & 13                                & 4                                 & 2020                              &   96                              &   0                               & Bahrain                           & BH                                & BHR                               &   1569439                        \\\\\n",
       "\t 2020-04-13                        & 13                                & 4                                 & 2020                              &  139                              &   4                               & Bangladesh                        & BD                                & BGD                               & 161356039                        \\\\\n",
       "\t 2020-04-13                        & 13                                & 4                                 & 2020                              &    3                              &   0                               & Barbados                          & BB                                & BRB                               &    286641                        \\\\\n",
       "\t 2020-04-13                        & 13                                & 4                                 & 2020                              &  352                              &   3                               & Belarus                           & BY                                & BLR                               &   9485386                        \\\\\n",
       "\t 2020-04-13                        & 13                                & 4                                 & 2020                              & 1629                              & 254                               & Belgium                           & BE                                & BEL                               &  11422068                        \\\\\n",
       "\t 2020-04-13                        & 13                                & 4                                 & 2020                              &    1                              &   0                               & Belize                            & BZ                                & BLZ                               &    383071                        \\\\\n",
       "\t 2020-04-13                        & 13                                & 4                                 & 2020                              &    0                              &   0                               & Benin                             & BJ                                & BEN                               &  11485048                        \\\\\n",
       "\t 2020-04-13                        & 13                                & 4                                 & 2020                              &    7                              &   0                               & Bermuda                           & BM                                & BMU                               &     63968                        \\\\\n",
       "\t 2020-04-13                        & 13                                & 4                                 & 2020                              &    0                              &   0                               & Bhutan                            & BT                                & BTN                               &    754394                        \\\\\n",
       "\t 2020-04-13                        & 13                                & 4                                 & 2020                              &   30                              &   3                               & Bolivia                           & BO                                & BOL                               &  11353142                        \\\\\n",
       "\t 2020-04-13                        & 13                                & 4                                 & 2020                              &    1                              &   0                               & Bonaire, Saint Eustatius and Saba & BQ                                & NA                                &        NA                        \\\\\n",
       "\t 2020-04-13                            & 13                                    & 4                                     & 2020                                  &   59                                  &   1                                   & Bosnia\\_and\\_Herzegovina            & BA                                    & BIH                                   &   3323929                            \\\\\n",
       "\t 2020-04-13                        & 13                                & 4                                 & 2020                              &    0                              &   0                               & Botswana                          & BW                                & BWA                               &   2254126                        \\\\\n",
       "\t 2020-04-13                        & 13                                & 4                                 & 2020                              & 1442                              &  99                               & Brazil                            & BR                                & BRA                               & 209469333                        \\\\\n",
       "\t 2020-04-13                            & 13                                    & 4                                     & 2020                                  &    0                                  &   0                                   & British\\_Virgin\\_Islands            & VG                                    & VGB                                   &     29802                            \\\\\n",
       "\t 2020-04-13                          & 13                                  & 4                                   & 2020                                &    0                                &   0                                 & Brunei\\_Darussalam                 & BN                                  & BRN                                 &    428962                          \\\\\n",
       "\t ... & ... & ... & ... & ... & ... & ... & ... & ... & ...\\\\\n",
       "\t 2020-04-13                     & 13                             & 4                              & 2020                           &     0                          &    0                           & South\\_Sudan                  & SS                             & SSD                            &  10975920                     \\\\\n",
       "\t 2020-04-13                   & 13                           & 4                            & 2020                         &  4167                        &  619                         & Spain                        & ES                           & ESP                          &  46723749                   \\\\\n",
       "\t 2020-04-13                     & 13                             & 4                              & 2020                           &    11                          &    0                           & Sri\\_Lanka                    & LK                             & LKA                            &  21670000                     \\\\\n",
       "\t 2020-04-13                   & 13                           & 4                            & 2020                         &     0                        &    0                         & Sudan                        & SD                           & SDN                          &  41801533                   \\\\\n",
       "\t 2020-04-13                   & 13                           & 4                            & 2020                         &     0                        &    0                         & Suriname                     & SR                           & SUR                          &    575991                   \\\\\n",
       "\t 2020-04-13                   & 13                           & 4                            & 2020                         &   332                        &   12                         & Sweden                       & SE                           & SWE                          &  10183175                   \\\\\n",
       "\t 2020-04-13                   & 13                           & 4                            & 2020                         &   400                        &   27                         & Switzerland                  & CH                           & CHE                          &   8516543                   \\\\\n",
       "\t 2020-04-13                   & 13                           & 4                            & 2020                         &     0                        &    0                         & Syria                        & SY                           & SYR                          &  16906283                   \\\\\n",
       "\t 2020-04-13                   & 13                           & 4                            & 2020                         &     3                        &    0                         & Taiwan                       & TW                           & TWN                          &  23780452                   \\\\\n",
       "\t 2020-04-13                   & 13                           & 4                            & 2020                         &    28                        &    2                         & Thailand                     & TH                           & THA                          &  69428524                   \\\\\n",
       "\t 2020-04-13                     & 13                             & 4                              & 2020                           &     0                          &    0                           & Timor\\_Leste                  & TL                             & TLS                            &   1267972                     \\\\\n",
       "\t 2020-04-13                   & 13                           & 4                            & 2020                         &     0                        &    0                         & Togo                         & TG                           & TGO                          &   7889094                   \\\\\n",
       "\t 2020-04-13                       & 13                               & 4                                & 2020                             &     1                            &    0                             & Trinidad\\_and\\_Tobago          & TT                               & TTO                              &   1389858                       \\\\\n",
       "\t 2020-04-13                   & 13                           & 4                            & 2020                         &    22                        &    3                         & Tunisia                      & TN                           & TUN                          &  11565204                   \\\\\n",
       "\t 2020-04-13                   & 13                           & 4                            & 2020                         &  4789                        &   97                         & Turkey                       & TR                           & TUR                          &  82319724                   \\\\\n",
       "\t 2020-04-13                         & 13                                 & 4                                  & 2020                               &     0                              &    0                               & Turks\\_and\\_Caicos\\_islands     & TC                                 & TCA                                &     31458                         \\\\\n",
       "\t 2020-04-13                   & 13                           & 4                            & 2020                         &     1                        &    0                         & Uganda                       & UG                           & UGA                          &  42723139                   \\\\\n",
       "\t 2020-04-13                   & 13                           & 4                            & 2020                         &   266                        &   10                         & Ukraine                      & UA                           & UKR                          &  44622516                   \\\\\n",
       "\t 2020-04-13                       & 13                               & 4                                & 2020                             &   387                            &    2                             & United\\_Arab\\_Emirates         & AE                               & ARE                              &   9630959                       \\\\\n",
       "\t 2020-04-13                     & 13                             & 4                              & 2020                           &  5288                          &  737                           & United\\_Kingdom               & UK                             & GBR                            &  66488991                     \\\\\n",
       "\t 2020-04-13                         & 13                                 & 4                                  & 2020                               &     0                              &    0                               & United\\_Republic\\_of\\_Tanzania  & TZ                                 & TZA                                &  56318348                         \\\\\n",
       "\t 2020-04-13                         & 13                                 & 4                                  & 2020                               & 27620                              & 1500                               & United\\_States\\_of\\_America     & US                                 & USA                                & 327167434                         \\\\\n",
       "\t 2020-04-13                         & 13                                 & 4                                  & 2020                               &     0                              &    0                               & United\\_States\\_Virgin\\_Islands & VI                                 & VIR                                &    106977                         \\\\\n",
       "\t 2020-04-13                   & 13                           & 4                            & 2020                         &    11                        &    1                         & Uruguay                      & UY                           & URY                          &   3449299                   \\\\\n",
       "\t 2020-04-13                   & 13                           & 4                            & 2020                         &    69                        &    0                         & Uzbekistan                   & UZ                           & UZB                          &  32955400                   \\\\\n",
       "\t 2020-04-13                   & 13                           & 4                            & 2020                         &     6                        &    0                         & Venezuela                    & VE                           & VEN                          &  28870195                   \\\\\n",
       "\t 2020-04-13                   & 13                           & 4                            & 2020                         &     4                        &    0                         & Vietnam                      & VN                           & VNM                          &  95540395                   \\\\\n",
       "\t 2020-04-13                   & 13                           & 4                            & 2020                         &     0                        &    0                         & Yemen                        & YE                           & YEM                          &  28498687                   \\\\\n",
       "\t 2020-04-13                   & 13                           & 4                            & 2020                         &     3                        &    0                         & Zambia                       & ZM                           & ZMB                          &  17351822                   \\\\\n",
       "\t 2020-04-13                   & 13                           & 4                            & 2020                         &     0                        &    0                         & Zimbabwe                     & ZW                           & ZWE                          &  14439018                   \\\\\n",
       "\\end{tabular}\n"
      ],
      "text/markdown": [
       "\n",
       "| dateRep | day | month | year | cases | deaths | countriesAndTerritories | geoId | countryterritoryCode | popData2018 |\n",
       "|---|---|---|---|---|---|---|---|---|---|\n",
       "| 2020-04-13                        | 13                                | 4                                 | 2020                              |   52                              |   0                               | Afghanistan                       | AF                                | AFG                               |  37172386                         |\n",
       "| 2020-04-13                        | 13                                | 4                                 | 2020                              |   13                              |   0                               | Albania                           | AL                                | ALB                               |   2866376                         |\n",
       "| 2020-04-13                        | 13                                | 4                                 | 2020                              |   89                              |  18                               | Algeria                           | DZ                                | DZA                               |  42228429                         |\n",
       "| 2020-04-13                        | 13                                | 4                                 | 2020                              |   16                              |   1                               | Andorra                           | AD                                | AND                               |     77006                         |\n",
       "| 2020-04-13                        | 13                                | 4                                 | 2020                              |    0                              |   0                               | Angola                            | AO                                | AGO                               |  30809762                         |\n",
       "| 2020-04-13                        | 13                                | 4                                 | 2020                              |    0                              |   0                               | Anguilla                          | AI                                | NA                                |        NA                         |\n",
       "| 2020-04-13                        | 13                                | 4                                 | 2020                              |    0                              |   0                               | Antigua_and_Barbuda               | AG                                | ATG                               |     96286                         |\n",
       "| 2020-04-13                        | 13                                | 4                                 | 2020                              |   71                              |   6                               | Argentina                         | AR                                | ARG                               |  44494502                         |\n",
       "| 2020-04-13                        | 13                                | 4                                 | 2020                              |   46                              |   0                               | Armenia                           | AM                                | ARM                               |   2951776                         |\n",
       "| 2020-04-13                        | 13                                | 4                                 | 2020                              |    0                              |   0                               | Aruba                             | AW                                | ABW                               |    105845                         |\n",
       "| 2020-04-13                        | 13                                | 4                                 | 2020                              |   33                              |   4                               | Australia                         | AU                                | AUS                               |  24992369                         |\n",
       "| 2020-04-13                        | 13                                | 4                                 | 2020                              |  130                              |  13                               | Austria                           | AT                                | AUT                               |   8847037                         |\n",
       "| 2020-04-13                        | 13                                | 4                                 | 2020                              |   40                              |   0                               | Azerbaijan                        | AZ                                | AZE                               |   9942334                         |\n",
       "| 2020-04-13                        | 13                                | 4                                 | 2020                              |    1                              |   0                               | Bahamas                           | BS                                | BHS                               |    385640                         |\n",
       "| 2020-04-13                        | 13                                | 4                                 | 2020                              |   96                              |   0                               | Bahrain                           | BH                                | BHR                               |   1569439                         |\n",
       "| 2020-04-13                        | 13                                | 4                                 | 2020                              |  139                              |   4                               | Bangladesh                        | BD                                | BGD                               | 161356039                         |\n",
       "| 2020-04-13                        | 13                                | 4                                 | 2020                              |    3                              |   0                               | Barbados                          | BB                                | BRB                               |    286641                         |\n",
       "| 2020-04-13                        | 13                                | 4                                 | 2020                              |  352                              |   3                               | Belarus                           | BY                                | BLR                               |   9485386                         |\n",
       "| 2020-04-13                        | 13                                | 4                                 | 2020                              | 1629                              | 254                               | Belgium                           | BE                                | BEL                               |  11422068                         |\n",
       "| 2020-04-13                        | 13                                | 4                                 | 2020                              |    1                              |   0                               | Belize                            | BZ                                | BLZ                               |    383071                         |\n",
       "| 2020-04-13                        | 13                                | 4                                 | 2020                              |    0                              |   0                               | Benin                             | BJ                                | BEN                               |  11485048                         |\n",
       "| 2020-04-13                        | 13                                | 4                                 | 2020                              |    7                              |   0                               | Bermuda                           | BM                                | BMU                               |     63968                         |\n",
       "| 2020-04-13                        | 13                                | 4                                 | 2020                              |    0                              |   0                               | Bhutan                            | BT                                | BTN                               |    754394                         |\n",
       "| 2020-04-13                        | 13                                | 4                                 | 2020                              |   30                              |   3                               | Bolivia                           | BO                                | BOL                               |  11353142                         |\n",
       "| 2020-04-13                        | 13                                | 4                                 | 2020                              |    1                              |   0                               | Bonaire, Saint Eustatius and Saba | BQ                                | NA                                |        NA                         |\n",
       "| 2020-04-13                        | 13                                | 4                                 | 2020                              |   59                              |   1                               | Bosnia_and_Herzegovina            | BA                                | BIH                               |   3323929                         |\n",
       "| 2020-04-13                        | 13                                | 4                                 | 2020                              |    0                              |   0                               | Botswana                          | BW                                | BWA                               |   2254126                         |\n",
       "| 2020-04-13                        | 13                                | 4                                 | 2020                              | 1442                              |  99                               | Brazil                            | BR                                | BRA                               | 209469333                         |\n",
       "| 2020-04-13                        | 13                                | 4                                 | 2020                              |    0                              |   0                               | British_Virgin_Islands            | VG                                | VGB                               |     29802                         |\n",
       "| 2020-04-13                        | 13                                | 4                                 | 2020                              |    0                              |   0                               | Brunei_Darussalam                 | BN                                | BRN                               |    428962                         |\n",
       "| ... | ... | ... | ... | ... | ... | ... | ... | ... | ... |\n",
       "| 2020-04-13                   | 13                           | 4                            | 2020                         |     0                        |    0                         | South_Sudan                  | SS                           | SSD                          |  10975920                    |\n",
       "| 2020-04-13                   | 13                           | 4                            | 2020                         |  4167                        |  619                         | Spain                        | ES                           | ESP                          |  46723749                    |\n",
       "| 2020-04-13                   | 13                           | 4                            | 2020                         |    11                        |    0                         | Sri_Lanka                    | LK                           | LKA                          |  21670000                    |\n",
       "| 2020-04-13                   | 13                           | 4                            | 2020                         |     0                        |    0                         | Sudan                        | SD                           | SDN                          |  41801533                    |\n",
       "| 2020-04-13                   | 13                           | 4                            | 2020                         |     0                        |    0                         | Suriname                     | SR                           | SUR                          |    575991                    |\n",
       "| 2020-04-13                   | 13                           | 4                            | 2020                         |   332                        |   12                         | Sweden                       | SE                           | SWE                          |  10183175                    |\n",
       "| 2020-04-13                   | 13                           | 4                            | 2020                         |   400                        |   27                         | Switzerland                  | CH                           | CHE                          |   8516543                    |\n",
       "| 2020-04-13                   | 13                           | 4                            | 2020                         |     0                        |    0                         | Syria                        | SY                           | SYR                          |  16906283                    |\n",
       "| 2020-04-13                   | 13                           | 4                            | 2020                         |     3                        |    0                         | Taiwan                       | TW                           | TWN                          |  23780452                    |\n",
       "| 2020-04-13                   | 13                           | 4                            | 2020                         |    28                        |    2                         | Thailand                     | TH                           | THA                          |  69428524                    |\n",
       "| 2020-04-13                   | 13                           | 4                            | 2020                         |     0                        |    0                         | Timor_Leste                  | TL                           | TLS                          |   1267972                    |\n",
       "| 2020-04-13                   | 13                           | 4                            | 2020                         |     0                        |    0                         | Togo                         | TG                           | TGO                          |   7889094                    |\n",
       "| 2020-04-13                   | 13                           | 4                            | 2020                         |     1                        |    0                         | Trinidad_and_Tobago          | TT                           | TTO                          |   1389858                    |\n",
       "| 2020-04-13                   | 13                           | 4                            | 2020                         |    22                        |    3                         | Tunisia                      | TN                           | TUN                          |  11565204                    |\n",
       "| 2020-04-13                   | 13                           | 4                            | 2020                         |  4789                        |   97                         | Turkey                       | TR                           | TUR                          |  82319724                    |\n",
       "| 2020-04-13                   | 13                           | 4                            | 2020                         |     0                        |    0                         | Turks_and_Caicos_islands     | TC                           | TCA                          |     31458                    |\n",
       "| 2020-04-13                   | 13                           | 4                            | 2020                         |     1                        |    0                         | Uganda                       | UG                           | UGA                          |  42723139                    |\n",
       "| 2020-04-13                   | 13                           | 4                            | 2020                         |   266                        |   10                         | Ukraine                      | UA                           | UKR                          |  44622516                    |\n",
       "| 2020-04-13                   | 13                           | 4                            | 2020                         |   387                        |    2                         | United_Arab_Emirates         | AE                           | ARE                          |   9630959                    |\n",
       "| 2020-04-13                   | 13                           | 4                            | 2020                         |  5288                        |  737                         | United_Kingdom               | UK                           | GBR                          |  66488991                    |\n",
       "| 2020-04-13                   | 13                           | 4                            | 2020                         |     0                        |    0                         | United_Republic_of_Tanzania  | TZ                           | TZA                          |  56318348                    |\n",
       "| 2020-04-13                   | 13                           | 4                            | 2020                         | 27620                        | 1500                         | United_States_of_America     | US                           | USA                          | 327167434                    |\n",
       "| 2020-04-13                   | 13                           | 4                            | 2020                         |     0                        |    0                         | United_States_Virgin_Islands | VI                           | VIR                          |    106977                    |\n",
       "| 2020-04-13                   | 13                           | 4                            | 2020                         |    11                        |    1                         | Uruguay                      | UY                           | URY                          |   3449299                    |\n",
       "| 2020-04-13                   | 13                           | 4                            | 2020                         |    69                        |    0                         | Uzbekistan                   | UZ                           | UZB                          |  32955400                    |\n",
       "| 2020-04-13                   | 13                           | 4                            | 2020                         |     6                        |    0                         | Venezuela                    | VE                           | VEN                          |  28870195                    |\n",
       "| 2020-04-13                   | 13                           | 4                            | 2020                         |     4                        |    0                         | Vietnam                      | VN                           | VNM                          |  95540395                    |\n",
       "| 2020-04-13                   | 13                           | 4                            | 2020                         |     0                        |    0                         | Yemen                        | YE                           | YEM                          |  28498687                    |\n",
       "| 2020-04-13                   | 13                           | 4                            | 2020                         |     3                        |    0                         | Zambia                       | ZM                           | ZMB                          |  17351822                    |\n",
       "| 2020-04-13                   | 13                           | 4                            | 2020                         |     0                        |    0                         | Zimbabwe                     | ZW                           | ZWE                          |  14439018                    |\n",
       "\n"
      ],
      "text/plain": [
       "    dateRep    day month year cases deaths countriesAndTerritories          \n",
       "1   2020-04-13 13  4     2020   52    0    Afghanistan                      \n",
       "2   2020-04-13 13  4     2020   13    0    Albania                          \n",
       "3   2020-04-13 13  4     2020   89   18    Algeria                          \n",
       "4   2020-04-13 13  4     2020   16    1    Andorra                          \n",
       "5   2020-04-13 13  4     2020    0    0    Angola                           \n",
       "6   2020-04-13 13  4     2020    0    0    Anguilla                         \n",
       "7   2020-04-13 13  4     2020    0    0    Antigua_and_Barbuda              \n",
       "8   2020-04-13 13  4     2020   71    6    Argentina                        \n",
       "9   2020-04-13 13  4     2020   46    0    Armenia                          \n",
       "10  2020-04-13 13  4     2020    0    0    Aruba                            \n",
       "11  2020-04-13 13  4     2020   33    4    Australia                        \n",
       "12  2020-04-13 13  4     2020  130   13    Austria                          \n",
       "13  2020-04-13 13  4     2020   40    0    Azerbaijan                       \n",
       "14  2020-04-13 13  4     2020    1    0    Bahamas                          \n",
       "15  2020-04-13 13  4     2020   96    0    Bahrain                          \n",
       "16  2020-04-13 13  4     2020  139    4    Bangladesh                       \n",
       "17  2020-04-13 13  4     2020    3    0    Barbados                         \n",
       "18  2020-04-13 13  4     2020  352    3    Belarus                          \n",
       "19  2020-04-13 13  4     2020 1629  254    Belgium                          \n",
       "20  2020-04-13 13  4     2020    1    0    Belize                           \n",
       "21  2020-04-13 13  4     2020    0    0    Benin                            \n",
       "22  2020-04-13 13  4     2020    7    0    Bermuda                          \n",
       "23  2020-04-13 13  4     2020    0    0    Bhutan                           \n",
       "24  2020-04-13 13  4     2020   30    3    Bolivia                          \n",
       "25  2020-04-13 13  4     2020    1    0    Bonaire, Saint Eustatius and Saba\n",
       "26  2020-04-13 13  4     2020   59    1    Bosnia_and_Herzegovina           \n",
       "27  2020-04-13 13  4     2020    0    0    Botswana                         \n",
       "28  2020-04-13 13  4     2020 1442   99    Brazil                           \n",
       "29  2020-04-13 13  4     2020    0    0    British_Virgin_Islands           \n",
       "30  2020-04-13 13  4     2020    0    0    Brunei_Darussalam                \n",
       "... ...        ... ...   ...  ...   ...    ...                              \n",
       "176 2020-04-13 13  4     2020     0    0   South_Sudan                      \n",
       "177 2020-04-13 13  4     2020  4167  619   Spain                            \n",
       "178 2020-04-13 13  4     2020    11    0   Sri_Lanka                        \n",
       "179 2020-04-13 13  4     2020     0    0   Sudan                            \n",
       "180 2020-04-13 13  4     2020     0    0   Suriname                         \n",
       "181 2020-04-13 13  4     2020   332   12   Sweden                           \n",
       "182 2020-04-13 13  4     2020   400   27   Switzerland                      \n",
       "183 2020-04-13 13  4     2020     0    0   Syria                            \n",
       "184 2020-04-13 13  4     2020     3    0   Taiwan                           \n",
       "185 2020-04-13 13  4     2020    28    2   Thailand                         \n",
       "186 2020-04-13 13  4     2020     0    0   Timor_Leste                      \n",
       "187 2020-04-13 13  4     2020     0    0   Togo                             \n",
       "188 2020-04-13 13  4     2020     1    0   Trinidad_and_Tobago              \n",
       "189 2020-04-13 13  4     2020    22    3   Tunisia                          \n",
       "190 2020-04-13 13  4     2020  4789   97   Turkey                           \n",
       "191 2020-04-13 13  4     2020     0    0   Turks_and_Caicos_islands         \n",
       "192 2020-04-13 13  4     2020     1    0   Uganda                           \n",
       "193 2020-04-13 13  4     2020   266   10   Ukraine                          \n",
       "194 2020-04-13 13  4     2020   387    2   United_Arab_Emirates             \n",
       "195 2020-04-13 13  4     2020  5288  737   United_Kingdom                   \n",
       "196 2020-04-13 13  4     2020     0    0   United_Republic_of_Tanzania      \n",
       "197 2020-04-13 13  4     2020 27620 1500   United_States_of_America         \n",
       "198 2020-04-13 13  4     2020     0    0   United_States_Virgin_Islands     \n",
       "199 2020-04-13 13  4     2020    11    1   Uruguay                          \n",
       "200 2020-04-13 13  4     2020    69    0   Uzbekistan                       \n",
       "201 2020-04-13 13  4     2020     6    0   Venezuela                        \n",
       "202 2020-04-13 13  4     2020     4    0   Vietnam                          \n",
       "203 2020-04-13 13  4     2020     0    0   Yemen                            \n",
       "204 2020-04-13 13  4     2020     3    0   Zambia                           \n",
       "205 2020-04-13 13  4     2020     0    0   Zimbabwe                         \n",
       "    geoId countryterritoryCode popData2018\n",
       "1   AF    AFG                   37172386  \n",
       "2   AL    ALB                    2866376  \n",
       "3   DZ    DZA                   42228429  \n",
       "4   AD    AND                      77006  \n",
       "5   AO    AGO                   30809762  \n",
       "6   AI    NA                          NA  \n",
       "7   AG    ATG                      96286  \n",
       "8   AR    ARG                   44494502  \n",
       "9   AM    ARM                    2951776  \n",
       "10  AW    ABW                     105845  \n",
       "11  AU    AUS                   24992369  \n",
       "12  AT    AUT                    8847037  \n",
       "13  AZ    AZE                    9942334  \n",
       "14  BS    BHS                     385640  \n",
       "15  BH    BHR                    1569439  \n",
       "16  BD    BGD                  161356039  \n",
       "17  BB    BRB                     286641  \n",
       "18  BY    BLR                    9485386  \n",
       "19  BE    BEL                   11422068  \n",
       "20  BZ    BLZ                     383071  \n",
       "21  BJ    BEN                   11485048  \n",
       "22  BM    BMU                      63968  \n",
       "23  BT    BTN                     754394  \n",
       "24  BO    BOL                   11353142  \n",
       "25  BQ    NA                          NA  \n",
       "26  BA    BIH                    3323929  \n",
       "27  BW    BWA                    2254126  \n",
       "28  BR    BRA                  209469333  \n",
       "29  VG    VGB                      29802  \n",
       "30  BN    BRN                     428962  \n",
       "... ...   ...                  ...        \n",
       "176 SS    SSD                   10975920  \n",
       "177 ES    ESP                   46723749  \n",
       "178 LK    LKA                   21670000  \n",
       "179 SD    SDN                   41801533  \n",
       "180 SR    SUR                     575991  \n",
       "181 SE    SWE                   10183175  \n",
       "182 CH    CHE                    8516543  \n",
       "183 SY    SYR                   16906283  \n",
       "184 TW    TWN                   23780452  \n",
       "185 TH    THA                   69428524  \n",
       "186 TL    TLS                    1267972  \n",
       "187 TG    TGO                    7889094  \n",
       "188 TT    TTO                    1389858  \n",
       "189 TN    TUN                   11565204  \n",
       "190 TR    TUR                   82319724  \n",
       "191 TC    TCA                      31458  \n",
       "192 UG    UGA                   42723139  \n",
       "193 UA    UKR                   44622516  \n",
       "194 AE    ARE                    9630959  \n",
       "195 UK    GBR                   66488991  \n",
       "196 TZ    TZA                   56318348  \n",
       "197 US    USA                  327167434  \n",
       "198 VI    VIR                     106977  \n",
       "199 UY    URY                    3449299  \n",
       "200 UZ    UZB                   32955400  \n",
       "201 VE    VEN                   28870195  \n",
       "202 VN    VNM                   95540395  \n",
       "203 YE    YEM                   28498687  \n",
       "204 ZM    ZMB                   17351822  \n",
       "205 ZW    ZWE                   14439018  "
      ]
     },
     "metadata": {},
     "output_type": "display_data"
    }
   ],
   "source": [
    "#2. Create a sub-tibble containing only the last day (hint: apply a selection on dateRep column)\n",
    "(last_day = covid[covid$dateRep == date,])\n",
    "\n",
    "#Produce a table with all countries with number of deaths or number of new cases greather than 200\n",
    "most_affected_countries = last_day[last_day$cases > 200 | last_day$deaths > 200, 'countriesAndTerritories']"
   ]
  },
  {
   "cell_type": "code",
   "execution_count": 43,
   "metadata": {},
   "outputs": [
    {
     "data": {
      "text/html": [
       "<table>\n",
       "<thead><tr><th scope=col>countriesAndTerritories</th></tr></thead>\n",
       "<tbody>\n",
       "\t<tr><td>Belarus                 </td></tr>\n",
       "\t<tr><td>Belgium                 </td></tr>\n",
       "\t<tr><td>Brazil                  </td></tr>\n",
       "\t<tr><td>Canada                  </td></tr>\n",
       "\t<tr><td>Chile                   </td></tr>\n",
       "\t<tr><td>Dominican_Republic      </td></tr>\n",
       "\t<tr><td>Ecuador                 </td></tr>\n",
       "\t<tr><td>France                  </td></tr>\n",
       "\t<tr><td>Germany                 </td></tr>\n",
       "\t<tr><td>India                   </td></tr>\n",
       "\t<tr><td>Indonesia               </td></tr>\n",
       "\t<tr><td>Iran                    </td></tr>\n",
       "\t<tr><td>Ireland                 </td></tr>\n",
       "\t<tr><td>Israel                  </td></tr>\n",
       "\t<tr><td>Italy                   </td></tr>\n",
       "\t<tr><td>Japan                   </td></tr>\n",
       "\t<tr><td>Mexico                  </td></tr>\n",
       "\t<tr><td>Netherlands             </td></tr>\n",
       "\t<tr><td>Pakistan                </td></tr>\n",
       "\t<tr><td>Peru                    </td></tr>\n",
       "\t<tr><td>Philippines             </td></tr>\n",
       "\t<tr><td>Poland                  </td></tr>\n",
       "\t<tr><td>Portugal                </td></tr>\n",
       "\t<tr><td>Qatar                   </td></tr>\n",
       "\t<tr><td>Romania                 </td></tr>\n",
       "\t<tr><td>Russia                  </td></tr>\n",
       "\t<tr><td>Saudi_Arabia            </td></tr>\n",
       "\t<tr><td>Serbia                  </td></tr>\n",
       "\t<tr><td>Singapore               </td></tr>\n",
       "\t<tr><td>Spain                   </td></tr>\n",
       "\t<tr><td>Sweden                  </td></tr>\n",
       "\t<tr><td>Switzerland             </td></tr>\n",
       "\t<tr><td>Turkey                  </td></tr>\n",
       "\t<tr><td>Ukraine                 </td></tr>\n",
       "\t<tr><td>United_Arab_Emirates    </td></tr>\n",
       "\t<tr><td>United_Kingdom          </td></tr>\n",
       "\t<tr><td>United_States_of_America</td></tr>\n",
       "</tbody>\n",
       "</table>\n"
      ],
      "text/latex": [
       "\\begin{tabular}{r|l}\n",
       " countriesAndTerritories\\\\\n",
       "\\hline\n",
       "\t Belarus                 \\\\\n",
       "\t Belgium                 \\\\\n",
       "\t Brazil                  \\\\\n",
       "\t Canada                  \\\\\n",
       "\t Chile                   \\\\\n",
       "\t Dominican\\_Republic      \\\\\n",
       "\t Ecuador                 \\\\\n",
       "\t France                  \\\\\n",
       "\t Germany                 \\\\\n",
       "\t India                   \\\\\n",
       "\t Indonesia               \\\\\n",
       "\t Iran                    \\\\\n",
       "\t Ireland                 \\\\\n",
       "\t Israel                  \\\\\n",
       "\t Italy                   \\\\\n",
       "\t Japan                   \\\\\n",
       "\t Mexico                  \\\\\n",
       "\t Netherlands             \\\\\n",
       "\t Pakistan                \\\\\n",
       "\t Peru                    \\\\\n",
       "\t Philippines             \\\\\n",
       "\t Poland                  \\\\\n",
       "\t Portugal                \\\\\n",
       "\t Qatar                   \\\\\n",
       "\t Romania                 \\\\\n",
       "\t Russia                  \\\\\n",
       "\t Saudi\\_Arabia            \\\\\n",
       "\t Serbia                  \\\\\n",
       "\t Singapore               \\\\\n",
       "\t Spain                   \\\\\n",
       "\t Sweden                  \\\\\n",
       "\t Switzerland             \\\\\n",
       "\t Turkey                  \\\\\n",
       "\t Ukraine                 \\\\\n",
       "\t United\\_Arab\\_Emirates    \\\\\n",
       "\t United\\_Kingdom          \\\\\n",
       "\t United\\_States\\_of\\_America\\\\\n",
       "\\end{tabular}\n"
      ],
      "text/markdown": [
       "\n",
       "| countriesAndTerritories |\n",
       "|---|\n",
       "| Belarus                  |\n",
       "| Belgium                  |\n",
       "| Brazil                   |\n",
       "| Canada                   |\n",
       "| Chile                    |\n",
       "| Dominican_Republic       |\n",
       "| Ecuador                  |\n",
       "| France                   |\n",
       "| Germany                  |\n",
       "| India                    |\n",
       "| Indonesia                |\n",
       "| Iran                     |\n",
       "| Ireland                  |\n",
       "| Israel                   |\n",
       "| Italy                    |\n",
       "| Japan                    |\n",
       "| Mexico                   |\n",
       "| Netherlands              |\n",
       "| Pakistan                 |\n",
       "| Peru                     |\n",
       "| Philippines              |\n",
       "| Poland                   |\n",
       "| Portugal                 |\n",
       "| Qatar                    |\n",
       "| Romania                  |\n",
       "| Russia                   |\n",
       "| Saudi_Arabia             |\n",
       "| Serbia                   |\n",
       "| Singapore                |\n",
       "| Spain                    |\n",
       "| Sweden                   |\n",
       "| Switzerland              |\n",
       "| Turkey                   |\n",
       "| Ukraine                  |\n",
       "| United_Arab_Emirates     |\n",
       "| United_Kingdom           |\n",
       "| United_States_of_America |\n",
       "\n"
      ],
      "text/plain": [
       "   countriesAndTerritories \n",
       "1  Belarus                 \n",
       "2  Belgium                 \n",
       "3  Brazil                  \n",
       "4  Canada                  \n",
       "5  Chile                   \n",
       "6  Dominican_Republic      \n",
       "7  Ecuador                 \n",
       "8  France                  \n",
       "9  Germany                 \n",
       "10 India                   \n",
       "11 Indonesia               \n",
       "12 Iran                    \n",
       "13 Ireland                 \n",
       "14 Israel                  \n",
       "15 Italy                   \n",
       "16 Japan                   \n",
       "17 Mexico                  \n",
       "18 Netherlands             \n",
       "19 Pakistan                \n",
       "20 Peru                    \n",
       "21 Philippines             \n",
       "22 Poland                  \n",
       "23 Portugal                \n",
       "24 Qatar                   \n",
       "25 Romania                 \n",
       "26 Russia                  \n",
       "27 Saudi_Arabia            \n",
       "28 Serbia                  \n",
       "29 Singapore               \n",
       "30 Spain                   \n",
       "31 Sweden                  \n",
       "32 Switzerland             \n",
       "33 Turkey                  \n",
       "34 Ukraine                 \n",
       "35 United_Arab_Emirates    \n",
       "36 United_Kingdom          \n",
       "37 United_States_of_America"
      ]
     },
     "metadata": {},
     "output_type": "display_data"
    }
   ],
   "source": [
    "most_affected_countries"
   ]
  },
  {
   "cell_type": "code",
   "execution_count": 28,
   "metadata": {
    "scrolled": true
   },
   "outputs": [],
   "source": [
    "#3. Select the top 10 countries, in terms of cases, and plot the total number of cases as a function of time.\n",
    "#Plot the total number of deaths as a function of time.\n",
    "#In order to compare the different curves, normalize the first date-time plot to the same t0 value.\n",
    "\n",
    "top10countries = as.list(last_day[order(last_day$cases, decreasing=TRUE),][1:10,'countriesAndTerritories'])[[1]]\n",
    "#Top 10 countries in terms of cases during last day"
   ]
  },
  {
   "cell_type": "code",
   "execution_count": 44,
   "metadata": {},
   "outputs": [
    {
     "data": {
      "text/html": [
       "<ol class=list-inline>\n",
       "\t<li>'United_States_of_America'</li>\n",
       "\t<li>'United_Kingdom'</li>\n",
       "\t<li>'Turkey'</li>\n",
       "\t<li>'Spain'</li>\n",
       "\t<li>'Italy'</li>\n",
       "\t<li>'Germany'</li>\n",
       "\t<li>'Russia'</li>\n",
       "\t<li>'Iran'</li>\n",
       "\t<li>'Belgium'</li>\n",
       "\t<li>'France'</li>\n",
       "</ol>\n"
      ],
      "text/latex": [
       "\\begin{enumerate*}\n",
       "\\item 'United\\_States\\_of\\_America'\n",
       "\\item 'United\\_Kingdom'\n",
       "\\item 'Turkey'\n",
       "\\item 'Spain'\n",
       "\\item 'Italy'\n",
       "\\item 'Germany'\n",
       "\\item 'Russia'\n",
       "\\item 'Iran'\n",
       "\\item 'Belgium'\n",
       "\\item 'France'\n",
       "\\end{enumerate*}\n"
      ],
      "text/markdown": [
       "1. 'United_States_of_America'\n",
       "2. 'United_Kingdom'\n",
       "3. 'Turkey'\n",
       "4. 'Spain'\n",
       "5. 'Italy'\n",
       "6. 'Germany'\n",
       "7. 'Russia'\n",
       "8. 'Iran'\n",
       "9. 'Belgium'\n",
       "10. 'France'\n",
       "\n",
       "\n"
      ],
      "text/plain": [
       " [1] \"United_States_of_America\" \"United_Kingdom\"          \n",
       " [3] \"Turkey\"                   \"Spain\"                   \n",
       " [5] \"Italy\"                    \"Germany\"                 \n",
       " [7] \"Russia\"                   \"Iran\"                    \n",
       " [9] \"Belgium\"                  \"France\"                  "
      ]
     },
     "metadata": {},
     "output_type": "display_data"
    }
   ],
   "source": [
    "top10countries"
   ]
  },
  {
   "cell_type": "code",
   "execution_count": 29,
   "metadata": {
    "scrolled": true
   },
   "outputs": [],
   "source": [
    "covid_selected = covid[covid$countriesAndTerritories %in% top10countries,] #Select only most affected countries\n",
    "covid_ordered = covid_selected[order(covid_selected$dateRep),] #order by date\n",
    "\n",
    "#for each country, add its cumulative sum of cases in the column \"cumulative_cases\"\n",
    "covid_ordered$cumulative_cases <- ave(covid_ordered$cases, covid_ordered$countriesAndTerritories, FUN=cumsum)\n",
    "\n",
    "#same for deaths\n",
    "covid_ordered$cumulative_deaths <- ave(covid_ordered$deaths, covid_ordered$countriesAndTerritories, FUN=cumsum)"
   ]
  },
  {
   "cell_type": "code",
   "execution_count": 30,
   "metadata": {},
   "outputs": [
    {
     "name": "stderr",
     "output_type": "stream",
     "text": [
      "Warning message:\n",
      "\"package 'ggplot2' was built under R version 3.6.3\"Warning message:\n",
      "\"Removed 549 row(s) containing missing values (geom_path).\"Warning message:\n",
      "\"Removed 549 row(s) containing missing values (geom_path).\""
     ]
    },
    {
     "data": {
      "image/png": "[encoded data removed]",
      "text/plain": [
       "plot without title"
      ]
     },
     "metadata": {},
     "output_type": "display_data"
    },
    {
     "data": {
      "image/png": "[encoded data removed]",
      "text/plain": [
       "plot without title"
      ]
     },
     "metadata": {},
     "output_type": "display_data"
    }
   ],
   "source": [
    "library(ggplot2)\n",
    "\n",
    "date_plot <- function(p) {\n",
    "    p + geom_line(aes(colour = factor(countriesAndTerritories))) + xlab('Date') + ylab('Total number of cases') +\n",
    "    xlim(as.POSIXlt(\"2020-03-01\"), as.POSIXlt(\"2020-04-14\")) + scale_color_discrete(name=\"Country\")\n",
    "}\n",
    "\n",
    "p <- ggplot(covid_ordered, aes(dateRep, cumulative_cases))\n",
    "p <- date_plot(p)\n",
    "print(p)\n",
    "\n",
    "p2 <- ggplot(covid_ordered, aes(dateRep, cumulative_deaths))\n",
    "p2 <- date_plot(p2) + ylab(\"Total number of deaths\")\n",
    "print(p2)"
   ]
  },
  {
   "cell_type": "code",
   "execution_count": 31,
   "metadata": {},
   "outputs": [],
   "source": [
    "threshold = 1000\n",
    "thresholded = subset(covid_ordered, cumulative_cases > threshold) #start counting days from when cumulative_cases surpasses threshold"
   ]
  },
  {
   "cell_type": "code",
   "execution_count": 32,
   "metadata": {},
   "outputs": [],
   "source": [
    "start_dates = as.list(by(thresholded$dateRep, thresholded$countriesAndTerritories, FUN=min))"
   ]
  },
  {
   "cell_type": "code",
   "execution_count": 33,
   "metadata": {},
   "outputs": [],
   "source": [
    "starts = unlist(start_dates[covid_ordered$countriesAndTerritories], use.names=FALSE) #starting date for each row. Convert list => numerical array\n",
    "attributes(starts) <- attributes(covid_ordered$dateRep) #convert numerical array => posixct"
   ]
  },
  {
   "cell_type": "code",
   "execution_count": 34,
   "metadata": {},
   "outputs": [],
   "source": [
    "covid_ordered$days_past_infection = difftime(covid_ordered$dateRep, starts, units=\"days\")"
   ]
  },
  {
   "cell_type": "code",
   "execution_count": 45,
   "metadata": {
    "scrolled": false
   },
   "outputs": [
    {
     "name": "stderr",
     "output_type": "stream",
     "text": [
      "Don't know how to automatically pick scale for object of type difftime. Defaulting to continuous.\n",
      "Don't know how to automatically pick scale for object of type difftime. Defaulting to continuous.\n"
     ]
    },
    {
     "data": {
      "image/png": "[encoded data removed]",
      "text/plain": [
       "plot without title"
      ]
     },
     "metadata": {},
     "output_type": "display_data"
    },
    {
     "data": {
      "image/png": "[encoded data removed]",
      "text/plain": [
       "plot without title"
      ]
     },
     "metadata": {},
     "output_type": "display_data"
    }
   ],
   "source": [
    "p3 <- ggplot(subset(covid_ordered, days_past_infection > 0), aes(days_past_infection, cumulative_cases)) + \n",
    "      geom_line(aes(colour = factor(countriesAndTerritories))) + scale_color_discrete(name=\"Country\") + xlab('Days past first 1000 cases') +\n",
    "      ylab('Total number of cases')\n",
    "print(p3)\n",
    "\n",
    "p4 <- ggplot(subset(covid_ordered, days_past_infection > 0), aes(days_past_infection, cumulative_deaths)) + \n",
    "      geom_line(aes(colour = factor(countriesAndTerritories))) + scale_color_discrete(name=\"Country\") + xlab('Days past first 1000 cases') +\n",
    "      ylab('Total number of deaths')\n",
    "print(p4)"
   ]
  }
 ],
 "metadata": {
  "kernelspec": {
   "display_name": "R",
   "language": "R",
   "name": "ir"
  },
  "language_info": {
   "codemirror_mode": "r",
   "file_extension": ".r",
   "mimetype": "text/x-r-source",
   "name": "R",
   "pygments_lexer": "r",
   "version": "3.6.1"
  }
 },
 "nbformat": 4,
 "nbformat_minor": 2
}
