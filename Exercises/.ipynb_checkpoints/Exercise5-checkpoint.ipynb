{
 "cells": [
  {
   "cell_type": "code",
   "execution_count": 1,
   "metadata": {},
   "outputs": [],
   "source": [
    "options(repr.plot.width=8, repr.plot.height=5) #set a common width/height for plots"
   ]
  },
  {
   "cell_type": "markdown",
   "metadata": {},
   "source": [
    "## Exercise 1\n",
    "A publishing company has recently launched a new journal. In order to determine how effective it is in reaching its possible audience, a market survey company selects a random sample of people from a possible target audience and interviews them. Out of $150$ interviewed people, $29$ have read the last issue of the journal.\n",
    "\n",
    "a) What kind of distribution would you assume for $y$, the number of people that have seen the last issue of the journal?"
   ]
  },
  {
   "cell_type": "markdown",
   "metadata": {},
   "source": [
    "As all the selected people belong to a certain target audience, we can suppose each of them to have seen the last issue of the journal with some fixed probability $p$. So, in this model $M$, the number $y$ of people that *succeed* in reading the journal will follow a Binomial distribution:\n",
    "\n",
    "$$P(y|p,n,M) = {n\\choose y} p^r (1-p)^{n-r} $$\n",
    "where $n = 150$."
   ]
  },
  {
   "cell_type": "markdown",
   "metadata": {},
   "source": [
    "b) Assuming a uniform prior, what is the posterior distribution for $y$?"
   ]
  },
  {
   "cell_type": "markdown",
   "metadata": {},
   "source": [
    "Assuming $p \\sim \\mathcal{U}(0,1) = P(p|M)$, the posterior distribution is proportional to the likelihood:\n",
    "\n",
    "$$P(p|n,y,M) \\propto P(y|p,n,M) P(p|M) \\propto P(y|p,n,M) $$\n"
   ]
  },
  {
   "cell_type": "markdown",
   "metadata": {},
   "source": [
    "c) Plot both posterior and likelihood distributions functions"
   ]
  },
  {
   "cell_type": "code",
   "execution_count": 2,
   "metadata": {},
   "outputs": [
    {
     "data": {
      "image/png": "[encoded data removed]",
      "text/plain": [
       "Plot with title \"Posterior\""
      ]
     },
     "metadata": {},
     "output_type": "display_data"
    }
   ],
   "source": [
    "par(mfrow=c(1,2))\n",
    "\n",
    "#Likelihood (is a function of y)\n",
    "p = 29/150 #arbitrary choice of p for the plot below (corresponding to the maximum of the posterior)\n",
    "xs = seq(0:150)\n",
    "plot(xs, dbinom(xs, 150, p), \"S\", col = 'red', xlab='y', ylab='P(y|p,n,M)', main=\"Likelihood\", xlim=c(10, 50))\n",
    "\n",
    "#Posterior\n",
    "norm <- integrate(function(x) dbinom(29, 150, x), lower=0, upper=1)$value #Normalization factor\n",
    "plot(0, 0, \"n\", xlim=c(0,.4), ylim=c(0,13), xlab='p', ylab='P(p|n,y,M)', main=\"Posterior\")\n",
    "curve(dbinom(29, 150, x) / norm, from=0, to=1, col = 'blue', add=TRUE) "
   ]
  },
  {
   "cell_type": "markdown",
   "metadata": {},
   "source": [
    "## Exercise 2\n",
    "Three students want to construct their prior probability about the proportion of residents that support the building of a new concert hall in their small town.\n",
    "\n",
    "- Anna thinks that her prior is a beta distribution with mean $0.2$ and a standard deviation of $0.08$\n",
    "- Benny moved only recently to this new town and therefore he does not have the slightest idea about it. Therefore he decides to use a uniform prior.\n",
    "- Chris believes that his prior should have a trapezoidal shape:\n",
    "\n",
    "$$f(X) = \\begin{cases}\n",
    "20x & 0 \\leq x < 0.1\\\\\n",
    "2 & 0.1 \\leq x < 0.3\\\\\n",
    "5-10x & 0.3 \\leq x < 0.5\\\\\n",
    "0 & x \\geq 0.5\n",
    "\\end{cases}\n",
    "$$\n",
    "\n",
    "a) Draw and compare the three prior distributions.\n",
    "\n",
    "All three distributions have domain in $[0,1]$."
   ]
  },
  {
   "cell_type": "markdown",
   "metadata": {},
   "source": [
    "In R, the beta distribution is defined by two parameters `shape1`$=a$ and `shape2`$=b$. Mean and variance (from the documentation) are:\n",
    "$$E[X] = \\frac{a}{a+b}; \\qquad \\mathrm{Var}[X] = \\frac{ab}{(a+b)^2 (a+b+1)}$$\n",
    "By solving the system:\n",
    "$$\\begin{cases}E[X] = 0.2 \\\\ \\mathrm{Var}[X] = 0.08^2\\end{cases}$$\n",
    "we find $a=4.8$ and $b=19.2$."
   ]
  },
  {
   "cell_type": "code",
   "execution_count": 3,
   "metadata": {},
   "outputs": [
    {
     "data": {
      "image/png": "[encoded data removed]",
      "text/plain": [
       "Plot with title \"Priors\""
      ]
     },
     "metadata": {},
     "output_type": "display_data"
    }
   ],
   "source": [
    "f <- function(x) {\n",
    "    return( ifelse(0 <= x & x < 0.1,  20 * x, \n",
    "            ifelse(0.1 <= x & x < 0.3, 2,\n",
    "            ifelse(0.3 <= x & x < 0.5, 5 - 10*x, 0))) / .7 #Normalization (trapezoid area)\n",
    "          )\n",
    "}\n",
    "\n",
    "plot(0, 0, \"n\", xlim=c(0, 1), ylim=c(0,6), main=\"Priors\", xlab=\"x\", ylab=\"p(x)\")\n",
    "curve(dbeta(x, 4.8, 19.2), col=\"black\", lwd=2, lty=1, add=TRUE)\n",
    "curve(1 + 0*x, col=\"red\", lwd=2, lty=2, add=TRUE)\n",
    "curve(f(x), col=\"blue\", lwd=2, lty=3, add=TRUE)\n",
    "\n",
    "legend(0.8,6, legend=c(\"Anna\", \"Benny\", \"Chris\"), lty=c(1,2,3), col=c(\"black\", \"red\", \"blue\"), y.intersp=1.5)"
   ]
  },
  {
   "cell_type": "markdown",
   "metadata": {},
   "source": [
    "The next day the three students decide to interview a sample of $100$ citizens of the small town, asking for their opinion. Out of the interviewed sample, $26$ support the building of the new concert hall.\n",
    "\n",
    "b) Evaluate and draw the three posterior distributions."
   ]
  },
  {
   "cell_type": "markdown",
   "metadata": {},
   "source": [
    "Assuming a Binomial distribution for the Likelihood:\n",
    "$$P(y|p,n,M) = {n\\choose y} p^r (1-p)^{n-r} $$\n",
    "\n",
    "The posterior is given by:\n",
    "$$P(p|n,y,M) = \\frac{1}{Z} P(y|p,n,M) P(p|M) $$\n",
    "where $Z$ is the normalization factor.\n",
    "\n",
    "For a beta prior with parameters $(\\alpha_p, \\beta_p)$ and a binomial likelihood with $y$ successes over $n$ cases, the posterior is still a beta distribution with parameters:\n",
    "$$\\alpha = \\alpha_p + y; \\qquad \\beta = \\beta_p + n - y$$\n",
    "Noting that a uniform distribution is just a beta distribution with $\\alpha=\\beta=1$, this formula allow to directly compute the posterior for both Anna and Benny. In Chris' case, however, it is necessary to proceed numerically."
   ]
  },
  {
   "cell_type": "code",
   "execution_count": 4,
   "metadata": {},
   "outputs": [],
   "source": [
    "n = 100\n",
    "y = 26\n",
    "\n",
    "anna_posterior <- function(p) {\n",
    "    return(dbeta(p, 4.8 + y, 19.2 + n - y))\n",
    "}\n",
    "\n",
    "benny_posterior <- function(p) {\n",
    "    return(dbeta(p, 1 + y, 1 + n - y))\n",
    "}\n",
    "\n",
    "chris_posterior <- function(p) {\n",
    "    return(f(p) * dbinom(y, n, p))\n",
    "}\n",
    "\n",
    "chris_posterior_normalized <- function(p) {\n",
    "    norm <- integrate(chris_posterior, 0, 1)\n",
    "    return(chris_posterior(p) / norm[[\"value\"]])\n",
    "}"
   ]
  },
  {
   "cell_type": "code",
   "execution_count": 5,
   "metadata": {},
   "outputs": [
    {
     "data": {
      "image/png": "[encoded data removed]",
      "text/plain": [
       "Plot with title \"Posteriors\""
      ]
     },
     "metadata": {},
     "output_type": "display_data"
    }
   ],
   "source": [
    "plot(0, 0, \"n\", xlim=c(.1, .4), ylim=c(0,10), main=\"Posteriors\", xlab=\"x\", ylab=\"p(x)\")\n",
    "curve(anna_posterior(x), col=\"black\", lwd=2, lty=1, add=TRUE)\n",
    "curve(benny_posterior(x), col=\"red\", lwd=2, lty=2, add=TRUE)\n",
    "curve(chris_posterior_normalized(x), col=\"blue\", lwd=2, lty=3, add=TRUE)\n",
    "\n",
    "legend(\"topright\", legend=c(\"Anna\", \"Benny\", \"Chris\"), lty=c(1,2,3), col=c(\"black\", \"red\", \"blue\"), y.intersp=1.5)"
   ]
  },
  {
   "cell_type": "markdown",
   "metadata": {},
   "source": [
    "c) Give an estimate of the most probable value and the $95\\%$ credibility interval."
   ]
  },
  {
   "cell_type": "markdown",
   "metadata": {},
   "source": [
    "The most probable value corresponds to the *maximum* of the posterior (mode)."
   ]
  },
  {
   "cell_type": "code",
   "execution_count": 6,
   "metadata": {},
   "outputs": [],
   "source": [
    "max_anna  <- optimize(anna_posterior, interval=c(0,1), maximum=TRUE)$maximum\n",
    "max_benny <- optimize(benny_posterior, interval=c(0,1), maximum=TRUE)$maximum\n",
    "max_chris <- optimize(chris_posterior_normalized, interval=c(0,1), maximum=TRUE)$maximum"
   ]
  },
  {
   "cell_type": "code",
   "execution_count": 7,
   "metadata": {},
   "outputs": [
    {
     "data": {
      "text/html": [
       "'Most probable p:'"
      ],
      "text/latex": [
       "'Most probable p:'"
      ],
      "text/markdown": [
       "'Most probable p:'"
      ],
      "text/plain": [
       "[1] \"Most probable p:\""
      ]
     },
     "metadata": {},
     "output_type": "display_data"
    },
    {
     "data": {
      "text/html": [
       "'Anna: 0.244, Benny: 0.260, Chris: 0.260'"
      ],
      "text/latex": [
       "'Anna: 0.244, Benny: 0.260, Chris: 0.260'"
      ],
      "text/markdown": [
       "'Anna: 0.244, Benny: 0.260, Chris: 0.260'"
      ],
      "text/plain": [
       "[1] \"Anna: 0.244, Benny: 0.260, Chris: 0.260\""
      ]
     },
     "metadata": {},
     "output_type": "display_data"
    }
   ],
   "source": [
    "sprintf(\"Most probable p:\")\n",
    "sprintf(\"Anna: %.3f, Benny: %.3f, Chris: %.3f\", max_anna, max_benny, max_chris)"
   ]
  },
  {
   "cell_type": "markdown",
   "metadata": {},
   "source": [
    "For the $95\\%$ credibility interval, a range $[x^*-r,x^*+r]$ is (arbitrarily) selected to be symmetric with respect to the mode $x^*$, and such that:\n",
    "$$ \\int_{x^*-r}^{x^*+r} p(x) = .95 $$"
   ]
  },
  {
   "cell_type": "code",
   "execution_count": 8,
   "metadata": {},
   "outputs": [],
   "source": [
    "central_integral <- function(func, center, r, ...) {\n",
    "    #Computes the integral of func(x) over [max(center-r,0), min(1,center+r)]\n",
    "    return(integrate(func, max(center-r,0), min(1,center+r), ...)[[\"value\"]])\n",
    "}\n",
    "\n",
    "radius_ci <- function(func, center, ci, ...) {\n",
    "    #Returns the radius r necessary for an interval centered on @center to cover 95% of the @func area\n",
    "    return(uniroot(function(r) central_integral(func, center, r, ...) - ci, interval=c(0,1))$root)\n",
    "}"
   ]
  },
  {
   "cell_type": "code",
   "execution_count": 9,
   "metadata": {},
   "outputs": [],
   "source": [
    "r_anna <- radius_ci(anna_posterior, max_anna, .95)\n",
    "r_benny <- radius_ci(benny_posterior, max_benny, .95)\n",
    "r_chris <- radius_ci(chris_posterior_normalized, max_chris, .95)"
   ]
  },
  {
   "cell_type": "code",
   "execution_count": 10,
   "metadata": {},
   "outputs": [
    {
     "data": {
      "text/html": [
       "'Credibility Intervals 95%:'"
      ],
      "text/latex": [
       "'Credibility Intervals 95\\%:'"
      ],
      "text/markdown": [
       "'Credibility Intervals 95%:'"
      ],
      "text/plain": [
       "[1] \"Credibility Intervals 95%:\""
      ]
     },
     "metadata": {},
     "output_type": "display_data"
    },
    {
     "data": {
      "text/html": [
       "'Anna: [0.168,0.320], Benny: [0.174,0.346], Chris: [0.179,0.341]'"
      ],
      "text/latex": [
       "'Anna: {[}0.168,0.320{]}, Benny: {[}0.174,0.346{]}, Chris: {[}0.179,0.341{]}'"
      ],
      "text/markdown": [
       "'Anna: [0.168,0.320], Benny: [0.174,0.346], Chris: [0.179,0.341]'"
      ],
      "text/plain": [
       "[1] \"Anna: [0.168,0.320], Benny: [0.174,0.346], Chris: [0.179,0.341]\""
      ]
     },
     "metadata": {},
     "output_type": "display_data"
    }
   ],
   "source": [
    "sprintf(\"Credibility Intervals 95%%:\")\n",
    "sprintf(\"Anna: [%.3f,%.3f], Benny: [%.3f,%.3f], Chris: [%.3f,%.3f]\", max_anna-r_anna,   max_anna+r_anna,\n",
    "                                                                     max_benny-r_benny, max_benny+r_benny,\n",
    "                                                                     max_chris-r_chris, max_chris+r_chris)"
   ]
  },
  {
   "cell_type": "code",
   "execution_count": 11,
   "metadata": {},
   "outputs": [
    {
     "data": {
      "image/png": "[encoded data removed]",
      "text/plain": [
       "Plot with title \"Chris\""
      ]
     },
     "metadata": {},
     "output_type": "display_data"
    }
   ],
   "source": [
    "#Plot of Posteriors with CI\n",
    "\n",
    "n = 100\n",
    "y = 26\n",
    "\n",
    "par(mfrow=c(1,3))\n",
    "\n",
    "plot(0, 0, \"n\", xlim=c(0.1, 0.4), ylim=c(0,11), main=\"Anna\", xlab=\"x\", ylab=\"p(x)\")\n",
    "abline(v=c(max_anna), col=\"black\")\n",
    "abline(v=c(max_anna-r_anna, max_anna+r_anna), col=\"aquamarine3\")\n",
    "curve(anna_posterior(x), col=\"black\", lwd=2, lty=1, add=TRUE)\n",
    "\n",
    "plot(0, 0, \"n\", xlim=c(0.1, 0.4), ylim=c(0,11), main=\"Benny\", xlab=\"x\", ylab=\"p(x)\")\n",
    "abline(v=c(max_benny), col=\"red\")\n",
    "abline(v=c(max_benny-r_benny, max_benny+r_benny), col=\"aquamarine3\")\n",
    "curve(benny_posterior(x), col=\"red\", lwd=2, lty=2, add=TRUE)\n",
    "\n",
    "plot(0, 0, \"n\", xlim=c(0.1, 0.4), ylim=c(0,11), main=\"Chris\", xlab=\"x\", ylab=\"p(x)\")\n",
    "abline(v=c(max_chris), col=\"blue\")\n",
    "abline(v=c(max_chris-r_chris, max_chris+r_chris), col=\"aquamarine3\")\n",
    "curve(chris_posterior_normalized(x), col=\"blue\", lwd=2, lty=3, add=TRUE)"
   ]
  },
  {
   "cell_type": "markdown",
   "metadata": {},
   "source": [
    "## Exercise 3\n",
    "A coin is flipped $n=30$ times with the following outcomes:\n",
    "`T, T, T, T, T, H, T, T, H, H, T, T, H, H, H, T, H, T, H, T, H, H, T, H, T, H, T, H, H, H`\n",
    "\n",
    "a) Assuming a flat prior, and a beta prior, plot the likelihood, prior and posterior distributions for the data set."
   ]
  },
  {
   "cell_type": "code",
   "execution_count": 12,
   "metadata": {},
   "outputs": [],
   "source": [
    "outcomes <- c('T', 'T', 'T', 'T', 'T', 'H', 'T', 'T', 'H', 'H', 'T', 'T', 'H', 'H', 'H', 'T',\n",
    "              'H', 'T', 'H', 'T', 'H', 'H', 'T', 'H', 'T', 'H', 'T', 'H', 'H', 'H')"
   ]
  },
  {
   "cell_type": "code",
   "execution_count": 13,
   "metadata": {
    "scrolled": false
   },
   "outputs": [
    {
     "data": {
      "text/plain": [
       "outcomes\n",
       " H  T \n",
       "15 15 "
      ]
     },
     "metadata": {},
     "output_type": "display_data"
    },
    {
     "data": {
      "image/png": "[encoded data removed]",
      "text/plain": [
       "Plot with title \"Posteriors\""
      ]
     },
     "metadata": {},
     "output_type": "display_data"
    }
   ],
   "source": [
    "par(mfrow=c(1,3))\n",
    "\n",
    "#---Prior---#\n",
    "beta_prior_a <- 5 #parameters for beta prior. if alpha = beta => mean = 1/2, mode = 1/2; rising alpha leads to a \"narrower\" pdf\n",
    "beta_prior_b <- 7 #Let's try a != b, to see the \"evolution\" of a slighty biased pdf\n",
    "\n",
    "plot(0, 0, \"n\", xlim=c(0, 1), ylim=c(0,4), main=\"Priors\", xlab=\"x\", ylab=\"p(x)\")\n",
    "curve(1 + 0*x, col=\"black\", lwd=2, lty=1, add=TRUE) #Flat pdf\n",
    "curve(dbeta(x, beta_prior_a, beta_prior_b), col=\"red\", lwd=2, lty=2, add=TRUE) \n",
    "\n",
    "legend(\"topright\", legend=c(\"Flat\", \"Beta\"), lty=c(1,2), col=c(\"Black\", \"red\"), y.intersp=1.5)\n",
    "\n",
    "#---Likelihood---#\n",
    "#Likelihood is binomial. Here is plotted with p=0.5, as outcomes contains exactly 15 heads and 15 tails\n",
    "(table(outcomes))\n",
    "\n",
    "xs = seq(0:length(outcomes))\n",
    "p = .5\n",
    "plot(xs, dbinom(xs, length(outcomes), .5), \"S\", col = 'black', lwd=2, xlab='y', ylab='P(y|p,n,M)', main=\"Likelihood\")\n",
    "\n",
    "\n",
    "#---Posterior---#\n",
    "#As in both cases the prior is a beta distribution (the uniform is the particular case when $\\alpha=\\beta=1$),\n",
    "#and the likelihood is a binomial, the posteriors will be two beta distributions:\n",
    "n = length(outcomes)\n",
    "h = sum(outcomes == 'H')\n",
    "\n",
    "flat_posterior <- function(x) {\n",
    "    return(dbeta(x, 1 + h, 1 + n - h))\n",
    "}\n",
    "\n",
    "beta_posterior <- function(x) {\n",
    "    return(dbeta(x, beta_prior_a + h, beta_prior_b + n - h))\n",
    "}\n",
    "\n",
    "plot(0, 0, \"n\", xlim=c(0, 1), ylim=c(0,11), main=\"Posteriors\", xlab=\"x\", ylab=\"p(x)\")\n",
    "curve(flat_posterior(x), col=\"black\", lwd=2, lty=1, add=TRUE)\n",
    "curve(beta_posterior(x), col=\"red\", lwd=2, lty=2, add=TRUE)\n",
    "legend(\"topright\", legend=c(\"Flat prior\", \"Beta prior\"), lty=c(1,2), col=c(\"black\", \"red\"), y.intersp=1.5)"
   ]
  },
  {
   "cell_type": "markdown",
   "metadata": {},
   "source": [
    "b) Evaluate the most probable value for the coin probability $p$ and, integrating the posterior probability distribution, give an estimate for a $95\\%$ credibility interval."
   ]
  },
  {
   "cell_type": "code",
   "execution_count": 14,
   "metadata": {},
   "outputs": [
    {
     "data": {
      "text/html": [
       "'Most probable values for p:'"
      ],
      "text/latex": [
       "'Most probable values for p:'"
      ],
      "text/markdown": [
       "'Most probable values for p:'"
      ],
      "text/plain": [
       "[1] \"Most probable values for p:\""
      ]
     },
     "metadata": {},
     "output_type": "display_data"
    },
    {
     "data": {
      "text/html": [
       "'Uniform prior: 0.500, Beta prior: 0.475'"
      ],
      "text/latex": [
       "'Uniform prior: 0.500, Beta prior: 0.475'"
      ],
      "text/markdown": [
       "'Uniform prior: 0.500, Beta prior: 0.475'"
      ],
      "text/plain": [
       "[1] \"Uniform prior: 0.500, Beta prior: 0.475\""
      ]
     },
     "metadata": {},
     "output_type": "display_data"
    },
    {
     "data": {
      "text/html": [
       "'Credibility intervals 95%:'"
      ],
      "text/latex": [
       "'Credibility intervals 95\\%:'"
      ],
      "text/markdown": [
       "'Credibility intervals 95%:'"
      ],
      "text/plain": [
       "[1] \"Credibility intervals 95%:\""
      ]
     },
     "metadata": {},
     "output_type": "display_data"
    },
    {
     "data": {
      "text/html": [
       "'Uniform prior: [0.331,0.669], Beta prior: [0.326, 0.623]'"
      ],
      "text/latex": [
       "'Uniform prior: {[}0.331,0.669{]}, Beta prior: {[}0.326, 0.623{]}'"
      ],
      "text/markdown": [
       "'Uniform prior: [0.331,0.669], Beta prior: [0.326, 0.623]'"
      ],
      "text/plain": [
       "[1] \"Uniform prior: [0.331,0.669], Beta prior: [0.326, 0.623]\""
      ]
     },
     "metadata": {},
     "output_type": "display_data"
    },
    {
     "data": {
      "image/png": "[encoded data removed]",
      "text/plain": [
       "Plot with title \"Posteriors\""
      ]
     },
     "metadata": {},
     "output_type": "display_data"
    }
   ],
   "source": [
    "max_flat <- optimize(flat_posterior, interval=c(0,1), maximum=TRUE)$maximum\n",
    "max_beta <- optimize(beta_posterior, interval=c(0,1), maximum=TRUE)$maximum\n",
    "\n",
    "sprintf(\"Most probable values for p:\")\n",
    "sprintf(\"Uniform prior: %.3f, Beta prior: %.3f\", max_flat, max_beta)\n",
    "\n",
    "#Credibility intervals are (arbitrarily) selected as symmetric around the mode\n",
    "r_flat <- radius_ci(flat_posterior, max_flat, .95)\n",
    "r_beta <- radius_ci(beta_posterior, max_beta, .95)\n",
    "\n",
    "sprintf(\"Credibility intervals 95%%:\")\n",
    "sprintf(\"Uniform prior: [%.3f,%.3f], Beta prior: [%.3f, %.3f]\", max_flat-r_flat, max_flat+r_flat,\n",
    "                                                                max_beta-r_beta, max_beta+r_beta)\n",
    "\n",
    "plot(0, 0, \"n\", xlim=c(0.2, 0.8), ylim=c(0,11), main=\"Posteriors\", xlab=\"x\", ylab=\"p(x)\")\n",
    "\n",
    "colors <- c(\"black\", \"red\", lty=2, lwd=3)\n",
    "abline(v=c(max_flat, max_beta), col=colors)\n",
    "\n",
    "curve(flat_posterior(x), col=\"black\", lwd=2, lty=1, add=TRUE)\n",
    "curve(beta_posterior(x), col=\"red\", lwd=2, lty=2, add=TRUE)\n",
    "\n",
    "xs_flat = seq(from=max_flat-r_flat, to=max_flat+r_flat, length.out=50) \n",
    "polygon( c(max_flat-r_flat, xs_flat, max_flat+r_flat), c(0, flat_posterior(xs_flat), 0), col=rgb(0,0,0,.5), border=\"black\")\n",
    "abline(v=c(max_flat-r_flat, max_flat+r_flat), col=\"black\", lty=3)\n",
    "\n",
    "xs_beta = seq(from=max_beta-r_beta, to=max_beta+r_beta, length.out=50) \n",
    "polygon(c(max_beta-r_beta, xs_beta, max_beta+r_beta), c(0, beta_posterior(xs_beta), 0), col=rgb(1,0,0,.5), border=\"red\")\n",
    "abline(v=c(max_beta-r_beta, max_beta+r_beta), col=\"red\", lty=3)\n",
    "\n",
    "legend(\"topright\", legend=c(\"Flat\", \"Beta\", \"CI 95%\"), lty=c(1,2,3), lwd=c(2,2,1), col=c(\"black\", \"red\", \"red\"), y.intersp=1.5)"
   ]
  },
  {
   "cell_type": "markdown",
   "metadata": {},
   "source": [
    "c) Repeat the same analysis assuming a sequential analysis of the data. Show how the most probable value and the credibility interval change as a function of the number of coin tosses (i.e. from $1$ to $30$)."
   ]
  },
  {
   "cell_type": "code",
   "execution_count": 15,
   "metadata": {},
   "outputs": [],
   "source": [
    "#'H' = 1, 'T' = 0\n",
    "successes = cumsum(outcomes == 'H')\n",
    "\n",
    "partial_posterior <- function(x, n_trial, alpha0, beta0) {\n",
    "    #Posterior after n_trial trials\n",
    "    return(dbeta(x, alpha0 + successes[n_trial], beta0 + n_trial - successes[n_trial]))\n",
    "}"
   ]
  },
  {
   "cell_type": "code",
   "execution_count": 16,
   "metadata": {},
   "outputs": [],
   "source": [
    "#Allocate arrays\n",
    "modes_flat <- seq(1:30)\n",
    "ci_left_flat <- seq(1:30)\n",
    "ci_right_flat <- seq(1:30)\n",
    "\n",
    "modes_beta <- seq(1:30)\n",
    "ci_left_beta <- seq(1:30)\n",
    "ci_right_beta <- seq(1:30)\n",
    "\n",
    "for (i in seq(1:30)) {\n",
    "    mode_flat <- optimize(partial_posterior, interval=c(0,1), n_trial=i, alpha0=1, beta0=1, maximum=TRUE)$maximum\n",
    "    mode_beta <- optimize(partial_posterior, interval=c(0,1), n_trial=i, alpha0=beta_prior_a, beta0=beta_prior_b,\n",
    "                          maximum=TRUE)$maximum\n",
    "    \n",
    "    ci_radius_flat <- radius_ci(partial_posterior, mode_flat, .95, n_trial=i, alpha0=1, beta0=1)\n",
    "    ci_radius_beta <- radius_ci(partial_posterior, mode_beta, .95, n_trial=i, alpha0=beta_prior_a, beta0=beta_prior_b)\n",
    "    \n",
    "    modes_flat[i] <- mode_flat\n",
    "    ci_left_flat[i] <- max(mode_flat - ci_radius_flat, 0)\n",
    "    ci_right_flat[i] <- min(mode_flat + ci_radius_flat, 1)\n",
    "    \n",
    "    modes_beta[i] <- mode_beta\n",
    "    ci_left_beta[i] <- max(mode_beta - ci_radius_beta, 0)\n",
    "    ci_right_beta[i] <- min(mode_beta + ci_radius_beta, 1)\n",
    "}"
   ]
  },
  {
   "cell_type": "code",
   "execution_count": 17,
   "metadata": {
    "scrolled": false
   },
   "outputs": [
    {
     "data": {
      "image/png": "[encoded data removed]",
      "text/plain": [
       "Plot with title \"Sequential Analysis\""
      ]
     },
     "metadata": {},
     "output_type": "display_data"
    }
   ],
   "source": [
    "plot(0,0, \"n\", xlim=c(0,30), ylim=c(0,1), main=\"Sequential Analysis\", xlab=\"N. of coin tosses\", ylab=\"p(Head)\")\n",
    "\n",
    "#---Colors---#\n",
    "aquamarine <- rgb(102, 205, 170, max=255, alpha=150)\n",
    "aquamarine_dark <- rgb(45,92,76, max=255)\n",
    "coral <- rgb(255, 127, 80, max=255, alpha=150)\n",
    "coral_dark <- rgb(94,34,22, max=255)\n",
    "\n",
    "#---Fill---#\n",
    "polygon( c(seq(1:30), seq(from=30, to=1), 1), c(ci_right_flat, rev(ci_left_flat), ci_right_flat[1]),\n",
    "         col=aquamarine, border=\"blue\")\n",
    "polygon( c(seq(1:30), seq(from=30, to=1), 1), c(ci_right_beta, rev(ci_left_beta), ci_right_beta[1]),\n",
    "         col=coral, border=\"red\")\n",
    "\n",
    "#---Lines---#\n",
    "lines(seq(1:30), modes_flat, \"b\", ylim=c(0,1), lwd=2, col=rgb(45, 92, 76, max=255))\n",
    "lines(seq(1:30), modes_beta, \"b\", ylim=c(0,1), lwd=2, col=rgb(94, 34, 22, max=255), pch=4)\n",
    "abline(h=0.5, col=\"red\")\n",
    "\n",
    "#---Legend---#\n",
    "legend(\"top\", c(\"Mode - Flat\", \"CI [95%]\", \"Mode - Beta\", \"CI [95%]\"),\n",
    "                 col=c(aquamarine_dark, \"blue\", coral_dark, \"red\"),\n",
    "                 pch=c(1, 22, 4, 22),\n",
    "                 lwd=c(2,1,2,1),\n",
    "                 lty=c(2,NA,2,NA),\n",
    "                 pt.bg=c(NA, \"aquamarine3\", NA, \"coral\"),\n",
    "                 y.intersp=1.5, cex=.8, horiz=TRUE)"
   ]
  },
  {
   "cell_type": "markdown",
   "metadata": {},
   "source": [
    "d) Do you get a different result, by analyzing the data sequentially with respect to a one-step analysis (i.e. considering all the data as a whole)?"
   ]
  },
  {
   "cell_type": "markdown",
   "metadata": {},
   "source": [
    "The final results are the same."
   ]
  }
 ],
 "metadata": {
  "kernelspec": {
   "display_name": "R",
   "language": "R",
   "name": "ir"
  },
  "language_info": {
   "codemirror_mode": "r",
   "file_extension": ".r",
   "mimetype": "text/x-r-source",
   "name": "R",
   "pygments_lexer": "r",
   "version": "3.6.1"
  }
 },
 "nbformat": 4,
 "nbformat_minor": 2
}
