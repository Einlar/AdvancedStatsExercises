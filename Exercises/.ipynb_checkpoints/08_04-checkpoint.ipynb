{
 "cells": [
  {
   "cell_type": "code",
   "execution_count": 1,
   "metadata": {},
   "outputs": [],
   "source": [
    "options(repr.plot.width=8, repr.plot.height=5) #set a common width/height for plots"
   ]
  },
  {
   "cell_type": "markdown",
   "metadata": {},
   "source": [
    "# Exercise 1\n",
    "A set of measurements have been performed on the concentration of a contaminant in tap water. The following tables reports a set of values ($x$), with the corresponding probabilities given by the two methods ($p_1$ and $p_2$)."
   ]
  },
  {
   "cell_type": "code",
   "execution_count": 2,
   "metadata": {},
   "outputs": [],
   "source": [
    "x  <- c(15.58, 15.9, 16, 16.1, 16.2)\n",
    "p1 <- c(0.15, 0.21, 0.35, 0.15, 0.14)\n",
    "p2 <- c(0.14, 0.05, 0.64, 0.08, 0.09)"
   ]
  },
  {
   "cell_type": "markdown",
   "metadata": {},
   "source": [
    "Evaluate the expected values $\\mathbb{E}[X]$, and the variance $\\rm{Var}(X)$ for both methods."
   ]
  },
  {
   "cell_type": "code",
   "execution_count": 3,
   "metadata": {},
   "outputs": [
    {
     "data": {
      "text/html": [
       "'---Method 1---'"
      ],
      "text/latex": [
       "'---Method 1---'"
      ],
      "text/markdown": [
       "'---Method 1---'"
      ],
      "text/plain": [
       "[1] \"---Method 1---\""
      ]
     },
     "metadata": {},
     "output_type": "display_data"
    },
    {
     "data": {
      "text/html": [
       "'Expected value: 15.959'"
      ],
      "text/latex": [
       "'Expected value: 15.959'"
      ],
      "text/markdown": [
       "'Expected value: 15.959'"
      ],
      "text/plain": [
       "[1] \"Expected value: 15.959\""
      ]
     },
     "metadata": {},
     "output_type": "display_data"
    },
    {
     "data": {
      "text/html": [
       "'Variance: 0.034'"
      ],
      "text/latex": [
       "'Variance: 0.034'"
      ],
      "text/markdown": [
       "'Variance: 0.034'"
      ],
      "text/plain": [
       "[1] \"Variance: 0.034\""
      ]
     },
     "metadata": {},
     "output_type": "display_data"
    },
    {
     "data": {
      "text/html": [
       "'---Method 2---'"
      ],
      "text/latex": [
       "'---Method 2---'"
      ],
      "text/markdown": [
       "'---Method 2---'"
      ],
      "text/plain": [
       "[1] \"---Method 2---\""
      ]
     },
     "metadata": {},
     "output_type": "display_data"
    },
    {
     "data": {
      "text/html": [
       "'Expected value: 15.962'"
      ],
      "text/latex": [
       "'Expected value: 15.962'"
      ],
      "text/markdown": [
       "'Expected value: 15.962'"
      ],
      "text/plain": [
       "[1] \"Expected value: 15.962\""
      ]
     },
     "metadata": {},
     "output_type": "display_data"
    },
    {
     "data": {
      "text/html": [
       "'Variance: 0.028'"
      ],
      "text/latex": [
       "'Variance: 0.028'"
      ],
      "text/markdown": [
       "'Variance: 0.028'"
      ],
      "text/plain": [
       "[1] \"Variance: 0.028\""
      ]
     },
     "metadata": {},
     "output_type": "display_data"
    }
   ],
   "source": [
    "expected_value <- function(x, p) {\n",
    "    return (sum(x * p))\n",
    "}\n",
    "\n",
    "variance <- function(x, p) {\n",
    "    mean <- expected_value(x, p)\n",
    "    return (sum(x * x * p) - mean * mean)\n",
    "}\n",
    "\n",
    "sprintf(\"---Method 1---\")\n",
    "sprintf(\"Expected value: %.3f\", expected_value(x, p1))\n",
    "sprintf(\"Variance: %.3f\", variance(x, p1))\n",
    "\n",
    "sprintf(\"---Method 2---\")\n",
    "sprintf(\"Expected value: %.3f\", expected_value(x, p2))\n",
    "sprintf(\"Variance: %.3f\", variance(x, p2))"
   ]
  },
  {
   "cell_type": "markdown",
   "metadata": {},
   "source": [
    "# Exercise 2\n",
    "The waiting time, in minutes, at the doctor's is about $30$ minutes, and the distribution follows an exponential pdf with rate $1/30$.\n",
    "\n",
    "a. Simulate the waiting time for $50$ people at the doctor's office and plot the relative histogram"
   ]
  },
  {
   "cell_type": "code",
   "execution_count": 4,
   "metadata": {},
   "outputs": [
    {
     "data": {
      "text/html": [
       "<ol class=list-inline>\n",
       "\t<li>38.4872129546914</li>\n",
       "\t<li>0.422953055240214</li>\n",
       "\t<li>49.6816322182245</li>\n",
       "\t<li>53.9544535961874</li>\n",
       "\t<li>43.8701027187028</li>\n",
       "\t<li>20.1853621937335</li>\n",
       "\t<li>43.3490470853913</li>\n",
       "\t<li>31.9404298920412</li>\n",
       "\t<li>17.068584440276</li>\n",
       "\t<li>9.73867447586652</li>\n",
       "\t<li>54.8274954979236</li>\n",
       "\t<li>7.8311715926975</li>\n",
       "\t<li>1.25562239438295</li>\n",
       "\t<li>80.5247777476351</li>\n",
       "\t<li>1.04739731177688</li>\n",
       "\t<li>3.86146287409502</li>\n",
       "\t<li>121.20232046883</li>\n",
       "\t<li>17.9386396100745</li>\n",
       "\t<li>46.6145793746553</li>\n",
       "\t<li>17.0966648356989</li>\n",
       "\t<li>58.1362415888442</li>\n",
       "\t<li>9.6996079897508</li>\n",
       "\t<li>143.131913795956</li>\n",
       "\t<li>13.6167717911303</li>\n",
       "\t<li>0.700982370022693</li>\n",
       "\t<li>25.8781670673255</li>\n",
       "\t<li>2.30489009084956</li>\n",
       "\t<li>24.1635533170082</li>\n",
       "\t<li>24.4669686759628</li>\n",
       "\t<li>2.89761646650732</li>\n",
       "\t<li>30.9173996361408</li>\n",
       "\t<li>20.4686892265454</li>\n",
       "\t<li>14.3948508423918</li>\n",
       "\t<li>19.2542583402246</li>\n",
       "\t<li>11.9660970329526</li>\n",
       "\t<li>9.05215507373214</li>\n",
       "\t<li>22.2654832328174</li>\n",
       "\t<li>19.4299763906747</li>\n",
       "\t<li>35.701214269406</li>\n",
       "\t<li>43.1029121252354</li>\n",
       "\t<li>25.7273270363424</li>\n",
       "\t<li>14.4811830230614</li>\n",
       "\t<li>0.108589734882116</li>\n",
       "\t<li>56.3792142433055</li>\n",
       "\t<li>19.7243898175657</li>\n",
       "\t<li>44.6988030125683</li>\n",
       "\t<li>9.59736094834592</li>\n",
       "\t<li>20.0045897299424</li>\n",
       "\t<li>3.60560394823551</li>\n",
       "\t<li>63.2863282560747</li>\n",
       "</ol>\n"
      ],
      "text/latex": [
       "\\begin{enumerate*}\n",
       "\\item 38.4872129546914\n",
       "\\item 0.422953055240214\n",
       "\\item 49.6816322182245\n",
       "\\item 53.9544535961874\n",
       "\\item 43.8701027187028\n",
       "\\item 20.1853621937335\n",
       "\\item 43.3490470853913\n",
       "\\item 31.9404298920412\n",
       "\\item 17.068584440276\n",
       "\\item 9.73867447586652\n",
       "\\item 54.8274954979236\n",
       "\\item 7.8311715926975\n",
       "\\item 1.25562239438295\n",
       "\\item 80.5247777476351\n",
       "\\item 1.04739731177688\n",
       "\\item 3.86146287409502\n",
       "\\item 121.20232046883\n",
       "\\item 17.9386396100745\n",
       "\\item 46.6145793746553\n",
       "\\item 17.0966648356989\n",
       "\\item 58.1362415888442\n",
       "\\item 9.6996079897508\n",
       "\\item 143.131913795956\n",
       "\\item 13.6167717911303\n",
       "\\item 0.700982370022693\n",
       "\\item 25.8781670673255\n",
       "\\item 2.30489009084956\n",
       "\\item 24.1635533170082\n",
       "\\item 24.4669686759628\n",
       "\\item 2.89761646650732\n",
       "\\item 30.9173996361408\n",
       "\\item 20.4686892265454\n",
       "\\item 14.3948508423918\n",
       "\\item 19.2542583402246\n",
       "\\item 11.9660970329526\n",
       "\\item 9.05215507373214\n",
       "\\item 22.2654832328174\n",
       "\\item 19.4299763906747\n",
       "\\item 35.701214269406\n",
       "\\item 43.1029121252354\n",
       "\\item 25.7273270363424\n",
       "\\item 14.4811830230614\n",
       "\\item 0.108589734882116\n",
       "\\item 56.3792142433055\n",
       "\\item 19.7243898175657\n",
       "\\item 44.6988030125683\n",
       "\\item 9.59736094834592\n",
       "\\item 20.0045897299424\n",
       "\\item 3.60560394823551\n",
       "\\item 63.2863282560747\n",
       "\\end{enumerate*}\n"
      ],
      "text/markdown": [
       "1. 38.4872129546914\n",
       "2. 0.422953055240214\n",
       "3. 49.6816322182245\n",
       "4. 53.9544535961874\n",
       "5. 43.8701027187028\n",
       "6. 20.1853621937335\n",
       "7. 43.3490470853913\n",
       "8. 31.9404298920412\n",
       "9. 17.068584440276\n",
       "10. 9.73867447586652\n",
       "11. 54.8274954979236\n",
       "12. 7.8311715926975\n",
       "13. 1.25562239438295\n",
       "14. 80.5247777476351\n",
       "15. 1.04739731177688\n",
       "16. 3.86146287409502\n",
       "17. 121.20232046883\n",
       "18. 17.9386396100745\n",
       "19. 46.6145793746553\n",
       "20. 17.0966648356989\n",
       "21. 58.1362415888442\n",
       "22. 9.6996079897508\n",
       "23. 143.131913795956\n",
       "24. 13.6167717911303\n",
       "25. 0.700982370022693\n",
       "26. 25.8781670673255\n",
       "27. 2.30489009084956\n",
       "28. 24.1635533170082\n",
       "29. 24.4669686759628\n",
       "30. 2.89761646650732\n",
       "31. 30.9173996361408\n",
       "32. 20.4686892265454\n",
       "33. 14.3948508423918\n",
       "34. 19.2542583402246\n",
       "35. 11.9660970329526\n",
       "36. 9.05215507373214\n",
       "37. 22.2654832328174\n",
       "38. 19.4299763906747\n",
       "39. 35.701214269406\n",
       "40. 43.1029121252354\n",
       "41. 25.7273270363424\n",
       "42. 14.4811830230614\n",
       "43. 0.108589734882116\n",
       "44. 56.3792142433055\n",
       "45. 19.7243898175657\n",
       "46. 44.6988030125683\n",
       "47. 9.59736094834592\n",
       "48. 20.0045897299424\n",
       "49. 3.60560394823551\n",
       "50. 63.2863282560747\n",
       "\n",
       "\n"
      ],
      "text/plain": [
       " [1]  38.4872130   0.4229531  49.6816322  53.9544536  43.8701027  20.1853622\n",
       " [7]  43.3490471  31.9404299  17.0685844   9.7386745  54.8274955   7.8311716\n",
       "[13]   1.2556224  80.5247777   1.0473973   3.8614629 121.2023205  17.9386396\n",
       "[19]  46.6145794  17.0966648  58.1362416   9.6996080 143.1319138  13.6167718\n",
       "[25]   0.7009824  25.8781671   2.3048901  24.1635533  24.4669687   2.8976165\n",
       "[31]  30.9173996  20.4686892  14.3948508  19.2542583  11.9660970   9.0521551\n",
       "[37]  22.2654832  19.4299764  35.7012143  43.1029121  25.7273270  14.4811830\n",
       "[43]   0.1085897  56.3792142  19.7243898  44.6988030   9.5973609  20.0045897\n",
       "[49]   3.6056039  63.2863283"
      ]
     },
     "metadata": {},
     "output_type": "display_data"
    },
    {
     "data": {
      "image/png": "[encoded data removed]",
      "text/plain": [
       "Plot with title \"Histogram of waiting_times\""
      ]
     },
     "metadata": {},
     "output_type": "display_data"
    }
   ],
   "source": [
    "(waiting_times <- rexp(50, 1/30))\n",
    "\n",
    "hist(waiting_times, col=\"darkolivegreen3\", xlab=\"Waiting time [min]\", ylab=\"Frequency\")"
   ]
  },
  {
   "cell_type": "markdown",
   "metadata": {},
   "source": [
    "b. What is the probability that a person will wait for less than $10$ minutes?"
   ]
  },
  {
   "cell_type": "code",
   "execution_count": 5,
   "metadata": {},
   "outputs": [
    {
     "data": {
      "text/html": [
       "0.283468689426211"
      ],
      "text/latex": [
       "0.283468689426211"
      ],
      "text/markdown": [
       "0.283468689426211"
      ],
      "text/plain": [
       "[1] 0.2834687"
      ]
     },
     "metadata": {},
     "output_type": "display_data"
    }
   ],
   "source": [
    "#It is equal to CDF(10) = P(X <= 10):\n",
    "(p_less_10_min = pexp(10, rate=1/30))"
   ]
  },
  {
   "cell_type": "markdown",
   "metadata": {},
   "source": [
    "c. Evaluate the average waiting time from simulated data and compare it with the expected value (calculated from theory and by manipulating the probability distributions using R)"
   ]
  },
  {
   "cell_type": "code",
   "execution_count": 6,
   "metadata": {},
   "outputs": [],
   "source": [
    "average_from_data <- mean(waiting_times)\n",
    "average_from_theory <- 30"
   ]
  },
  {
   "cell_type": "code",
   "execution_count": 7,
   "metadata": {},
   "outputs": [
    {
     "data": {
      "text/html": [
       "'Average from data: 29.00'"
      ],
      "text/latex": [
       "'Average from data: 29.00'"
      ],
      "text/markdown": [
       "'Average from data: 29.00'"
      ],
      "text/plain": [
       "[1] \"Average from data: 29.00\""
      ]
     },
     "metadata": {},
     "output_type": "display_data"
    },
    {
     "data": {
      "text/html": [
       "'Average from theory: 30.00'"
      ],
      "text/latex": [
       "'Average from theory: 30.00'"
      ],
      "text/markdown": [
       "'Average from theory: 30.00'"
      ],
      "text/plain": [
       "[1] \"Average from theory: 30.00\""
      ]
     },
     "metadata": {},
     "output_type": "display_data"
    },
    {
     "data": {
      "text/html": [
       "'Average from pdf: 30.00'"
      ],
      "text/latex": [
       "'Average from pdf: 30.00'"
      ],
      "text/markdown": [
       "'Average from pdf: 30.00'"
      ],
      "text/plain": [
       "[1] \"Average from pdf: 30.00\""
      ]
     },
     "metadata": {},
     "output_type": "display_data"
    }
   ],
   "source": [
    "num <- 10000\n",
    "average_from_pdf <- sum(seq(0:num) * dexp(seq(0:num), rate = 1/30))\n",
    "\n",
    "sprintf(\"Average from data: %.2f\", average_from_data)\n",
    "sprintf(\"Average from theory: %.2f\", average_from_theory)\n",
    "sprintf(\"Average from pdf: %.2f\", average_from_pdf)"
   ]
  },
  {
   "cell_type": "markdown",
   "metadata": {},
   "source": [
    "The expected value for a non-negative discrete random variable $X$ is:\n",
    "$$\\mathbb{E}[X] = \\sum_{j=0}^{+\\infty} j\\,\\mathbb{P}[X=j]$$\n",
    "As $\\mathbb{P}[X=j] \\to 0$ for $j \\to \\infty$, we can truncate the sum to a large (but finite) number of terms $N$ to get an approximation for $\\mathbb{E}[X]$."
   ]
  },
  {
   "cell_type": "markdown",
   "metadata": {},
   "source": [
    "d. What is the probability for waiting more than one houre before being received?"
   ]
  },
  {
   "cell_type": "code",
   "execution_count": 8,
   "metadata": {},
   "outputs": [
    {
     "data": {
      "text/html": [
       "0.135335283236613"
      ],
      "text/latex": [
       "0.135335283236613"
      ],
      "text/markdown": [
       "0.135335283236613"
      ],
      "text/plain": [
       "[1] 0.1353353"
      ]
     },
     "metadata": {},
     "output_type": "display_data"
    }
   ],
   "source": [
    "#P(X > 1h) = 1 - P(X <= 1h) = 1 - CDF(1h)\n",
    "(p_more_1_hour = 1 - pexp(60, rate=1/30))"
   ]
  },
  {
   "cell_type": "markdown",
   "metadata": {},
   "source": [
    "# Exercise 3\n",
    "Let's suppose that on a book, on average, there is one typo error every $3$ pages. If the number of errors follows a Poisson distribution, plot the pdf and the cdf, and calculate the probability that there is at least one error on a specific page of the book."
   ]
  },
  {
   "cell_type": "markdown",
   "metadata": {},
   "source": [
    "**Solution** If there is one typo error every $3$ pages, then the average number of errors per page is $1/3$, which is then the $\\lambda$ parameter for the Poisson distribution describing the errors."
   ]
  },
  {
   "cell_type": "code",
   "execution_count": 9,
   "metadata": {
    "scrolled": true
   },
   "outputs": [
    {
     "data": {
      "image/png": "[encoded data removed]",
      "text/plain": [
       "Plot with title \"Poisson distribution, lambda = 3\""
      ]
     },
     "metadata": {},
     "output_type": "display_data"
    },
    {
     "data": {
      "image/png": "[encoded data removed]",
      "text/plain": [
       "Plot with title \"Poisson distribution, lambda = 3\""
      ]
     },
     "metadata": {},
     "output_type": "display_data"
    }
   ],
   "source": [
    "#Plots\n",
    "x <- 0:10\n",
    "pdf <- dpois(x, 1/3)\n",
    "cdf <- ppois(x, 1/3)\n",
    "\n",
    "barplot(pdf, names=x, col='navy',  xlab='x', ylab='pdf(x)', density=40, main = 'Poisson distribution, lambda = 3')\n",
    "barplot(cdf, names=x, col='green', xlab='x', ylab='cdf(x)', density=40, main = 'Poisson distribution, lambda = 3')"
   ]
  },
  {
   "cell_type": "code",
   "execution_count": 10,
   "metadata": {},
   "outputs": [
    {
     "data": {
      "text/html": [
       "0.283468689426211"
      ],
      "text/latex": [
       "0.283468689426211"
      ],
      "text/markdown": [
       "0.283468689426211"
      ],
      "text/plain": [
       "[1] 0.2834687"
      ]
     },
     "metadata": {},
     "output_type": "display_data"
    }
   ],
   "source": [
    "#Probability of at least one error in a certain page is 1 - PDF(x=0) = 1 - P[X = 0]\n",
    "(probability_at_least_one_error <- 1 - dpois(0, 1/3))"
   ]
  },
  {
   "cell_type": "markdown",
   "metadata": {},
   "source": [
    "# Exercise 4\n",
    "We randomly draw cards from a deck of $52$ cards, with replacement, until one ace is drawn. Calculate the probability that at least $10$ draws are needed.\n"
   ]
  },
  {
   "cell_type": "markdown",
   "metadata": {},
   "source": [
    "**Solution** The number of draws needed to find the first ace follows a geometric distribution. Let $X \\geq 1$ be the number of draws needed to get an ace, i.e. any of the $4$ aces is drawn at the $X$-th draw. Then $\\mathbb{P}[X=k] = (1-p)^{k-1}p$.\n",
    "\n",
    "We want to compute $\\mathbb{P}[X \\geq 10]$, which is:\n",
    "$$\\mathbb{P}[X \\geq 10] = 1 - \\mathbb{P}[X < 10] = 1 - (p + p(1-p) + p(1-p)^2 + \\dots + p(1-p)^8) = 1 - \\rm{CDF}(X=8)$$\n"
   ]
  },
  {
   "cell_type": "code",
   "execution_count": 11,
   "metadata": {},
   "outputs": [
    {
     "data": {
      "text/html": [
       "0.486565199403685"
      ],
      "text/latex": [
       "0.486565199403685"
      ],
      "text/markdown": [
       "0.486565199403685"
      ],
      "text/plain": [
       "[1] 0.4865652"
      ]
     },
     "metadata": {},
     "output_type": "display_data"
    }
   ],
   "source": [
    "(1 - pgeom(8, 4/52))"
   ]
  },
  {
   "cell_type": "markdown",
   "metadata": {},
   "source": [
    "# Exercise 5\n",
    "The file available at the URL [https://userswww.pd.infn.it/~agarfa/didattica/\n",
    "sindaciincarica.csv](https://userswww.pd.infn.it/~agarfa/didattica/\n",
    "sindaciincarica.csv) contains the list of all mayors currently in charge in the Italian mayors working in local towns in Italy. (Updated to April 6, 2020)."
   ]
  },
  {
   "cell_type": "markdown",
   "metadata": {},
   "source": [
    "1. Open `R` and import the file in a `tibble` or `data.frame`"
   ]
  },
  {
   "cell_type": "code",
   "execution_count": 12,
   "metadata": {},
   "outputs": [
    {
     "name": "stderr",
     "output_type": "stream",
     "text": [
      "Warning message:\n",
      "\"package 'tidyverse' was built under R version 3.6.3\"-- Attaching packages --------------------------------------- tidyverse 1.3.0 --\n",
      "v ggplot2 3.3.0     v purrr   0.3.3\n",
      "v tibble  3.0.0     v dplyr   0.8.5\n",
      "v tidyr   1.0.2     v stringr 1.4.0\n",
      "v readr   1.3.1     v forcats 0.4.0\n",
      "Warning message:\n",
      "\"package 'ggplot2' was built under R version 3.6.3\"Warning message:\n",
      "\"package 'tidyr' was built under R version 3.6.3\"Warning message:\n",
      "\"package 'purrr' was built under R version 3.6.3\"Warning message:\n",
      "\"package 'dplyr' was built under R version 3.6.3\"-- Conflicts ------------------------------------------ tidyverse_conflicts() --\n",
      "x dplyr::filter() masks stats::filter()\n",
      "x dplyr::lag()    masks stats::lag()\n",
      "Using ',' as decimal and '.' as grouping mark. Use read_delim() for more control.\n",
      "Parsed with column specification:\n",
      "cols(\n",
      "  codice_regione = col_character(),\n",
      "  codice_provincia = col_character(),\n",
      "  codice_comune = col_character(),\n",
      "  denominazione_comune = col_character(),\n",
      "  sigla_provincia = col_character(),\n",
      "  popolazione_censita = col_double(),\n",
      "  titolo_accademico = col_character(),\n",
      "  cognome = col_character(),\n",
      "  nome = col_character(),\n",
      "  sesso = col_character(),\n",
      "  data_nascita = col_character(),\n",
      "  luogo_nascita = col_character(),\n",
      "  descrizione_carica = col_character(),\n",
      "  data_elezione = col_character(),\n",
      "  data_entrata_in_carica = col_character(),\n",
      "  partito = col_character(),\n",
      "  titolo_studio = col_character(),\n",
      "  professione = col_character()\n",
      ")\n"
     ]
    }
   ],
   "source": [
    "library(tidyverse)\n",
    "url <- \"https://userswww.pd.infn.it/~agarfa/didattica/sindaciincarica.csv\"\n",
    "data <- tibble(read_csv2(url, skip=2))"
   ]
  },
  {
   "cell_type": "markdown",
   "metadata": {},
   "source": [
    "2. Plot the gender distribution among the mayors (column name `sesso`)."
   ]
  },
  {
   "cell_type": "code",
   "execution_count": 13,
   "metadata": {},
   "outputs": [
    {
     "data": {
      "text/plain": [
       "\n",
       "   F    M \n",
       "1115 6594 "
      ]
     },
     "metadata": {},
     "output_type": "display_data"
    }
   ],
   "source": [
    "table(data$sesso)"
   ]
  },
  {
   "cell_type": "code",
   "execution_count": 14,
   "metadata": {},
   "outputs": [
    {
     "data": {
      "image/png": "[encoded data removed]",
      "text/plain": [
       "plot without title"
      ]
     },
     "metadata": {},
     "output_type": "display_data"
    }
   ],
   "source": [
    "barplot(table(data$sesso), col=c('hotpink','deepskyblue'), ylab='Frequency', names.arg=c('Females', 'Males'))"
   ]
  },
  {
   "cell_type": "markdown",
   "metadata": {},
   "source": [
    "2. Plot the number of towns grouped per province (`codice_provincia`) and per region (`codice_regione`)"
   ]
  },
  {
   "cell_type": "code",
   "execution_count": 15,
   "metadata": {},
   "outputs": [
    {
     "name": "stderr",
     "output_type": "stream",
     "text": [
      "Warning message in brewer.pal(n = length(table(data$codice_regione)), name = \"Spectral\"):\n",
      "\"n too large, allowed maximum for palette Spectral is 11\n",
      "Returning the palette you asked for with that many colors\n",
      "\""
     ]
    },
    {
     "data": {
      "image/png": "[encoded data removed]",
      "text/plain": [
       "plot without title"
      ]
     },
     "metadata": {},
     "output_type": "display_data"
    },
    {
     "data": {
      "image/png": "[encoded data removed]",
      "text/plain": [
       "plot without title"
      ]
     },
     "metadata": {},
     "output_type": "display_data"
    }
   ],
   "source": [
    "library('RColorBrewer')\n",
    "colors <- brewer.pal(n = length(table(data$codice_regione)), name = \"Spectral\")\n",
    "barplot(table(data$codice_regione), las=1, col=colors, xlab = \"Region code\", ylab = \"Frequency\")\n",
    "barplot(table(data$codice_provincia), las=1, col=colors, xlab = \"Province code\", ylab = \"Frequency\")"
   ]
  },
  {
   "cell_type": "markdown",
   "metadata": {},
   "source": [
    "3. Plot a distribution of the age (years only) of the mayors. In the `data_nascita` column the birthday is available"
   ]
  },
  {
   "cell_type": "code",
   "execution_count": 16,
   "metadata": {},
   "outputs": [],
   "source": [
    "today = Sys.Date()\n",
    "ages <- as.integer(difftime(today, as.Date(data$data_nascita, format='%d/%m/%Y'), units='days') / 365)"
   ]
  },
  {
   "cell_type": "code",
   "execution_count": 17,
   "metadata": {},
   "outputs": [
    {
     "data": {
      "image/png": "[encoded data removed]",
      "text/plain": [
       "Plot with title \"Histogram of ages\""
      ]
     },
     "metadata": {},
     "output_type": "display_data"
    }
   ],
   "source": [
    "hist(ages, xlab='Mayor ages [years]', ylab='Frequency', col='mediumpurple2', density=30) #colora"
   ]
  },
  {
   "cell_type": "markdown",
   "metadata": {},
   "source": [
    "4. Plot a distribution of the time the mayor is in charge. The starting date is in column `data_elezione`. Since elections happen every $5$ years, how many of them are going to complete their mandate this year? And how many in $2021$?"
   ]
  },
  {
   "cell_type": "markdown",
   "metadata": {},
   "source": [
    "**Solution** We start by computing the days elapsed between the start of each major mandate, and the last day of this year. If the number of days is over $5$ years, then the mayor will complete their mandate this year.\n",
    "\n",
    "For the following year ($2021$), we do the same computation, but subtract the number of mayors with mandates over $6$ years - such that we do not count two times the ones that terminated their service in $2020$."
   ]
  },
  {
   "cell_type": "code",
   "execution_count": 18,
   "metadata": {
    "scrolled": true
   },
   "outputs": [
    {
     "data": {
      "image/png": "[encoded data removed]",
      "text/plain": [
       "Plot with title \"Mandate time as of today  2020-04-20\""
      ]
     },
     "metadata": {},
     "output_type": "display_data"
    }
   ],
   "source": [
    "election_dates <- as.Date(data$data_elezione, format='%d/%m/%Y')\n",
    "charge_times = difftime(today, election_dates, units='days') / 365\n",
    "barplot(table(as.integer(charge_times)), main=paste('Mandate time as of today ', today), xlab='Years', ylab='Frequency',\n",
    "        col = colors)"
   ]
  },
  {
   "cell_type": "code",
   "execution_count": 19,
   "metadata": {},
   "outputs": [],
   "source": [
    "mandate_length_20 <- difftime(as.Date('31/12/2020', format='%d/%m/%Y'), election_dates, units='days') / 365\n",
    "mandate_length_21 <- difftime(as.Date('31/12/2021', format='%d/%m/%Y'), election_dates, units='days') / 365"
   ]
  },
  {
   "cell_type": "code",
   "execution_count": 20,
   "metadata": {},
   "outputs": [
    {
     "data": {
      "text/html": [
       "'Number of mandates ending in 2020: 991'"
      ],
      "text/latex": [
       "'Number of mandates ending in 2020: 991'"
      ],
      "text/markdown": [
       "'Number of mandates ending in 2020: 991'"
      ],
      "text/plain": [
       "[1] \"Number of mandates ending in 2020: 991\""
      ]
     },
     "metadata": {},
     "output_type": "display_data"
    }
   ],
   "source": [
    "sprintf('Number of mandates ending in 2020: %d', sum(mandate_length_20 > 5))"
   ]
  },
  {
   "cell_type": "code",
   "execution_count": 21,
   "metadata": {},
   "outputs": [
    {
     "data": {
      "text/html": [
       "'Number of mandates ending in 2021: 1245'"
      ],
      "text/latex": [
       "'Number of mandates ending in 2021: 1245'"
      ],
      "text/markdown": [
       "'Number of mandates ending in 2021: 1245'"
      ],
      "text/plain": [
       "[1] \"Number of mandates ending in 2021: 1245\""
      ]
     },
     "metadata": {},
     "output_type": "display_data"
    }
   ],
   "source": [
    "sprintf('Number of mandates ending in 2021: %d', sum(mandate_length_21 > 5) - sum(mandate_length_21 > 6))"
   ]
  }
 ],
 "metadata": {
  "kernelspec": {
   "display_name": "R",
   "language": "R",
   "name": "ir"
  },
  "language_info": {
   "codemirror_mode": "r",
   "file_extension": ".r",
   "mimetype": "text/x-r-source",
   "name": "R",
   "pygments_lexer": "r",
   "version": "3.6.1"
  }
 },
 "nbformat": 4,
 "nbformat_minor": 2
}
