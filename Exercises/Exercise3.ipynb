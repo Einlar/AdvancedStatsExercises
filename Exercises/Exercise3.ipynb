{
 "cells": [
  {
   "cell_type": "code",
   "execution_count": 1,
   "metadata": {},
   "outputs": [],
   "source": [
    "options(repr.plot.width=8, repr.plot.height=5) #set a common width/height for plots"
   ]
  },
  {
   "cell_type": "markdown",
   "metadata": {},
   "source": [
    "## Exercise 1\n",
    "The time it takes a student to complete a TOLC-I University orientation and evaluation test follows a density function of the form:\n",
    "\n",
    "$$f(X) = \\begin{cases}\n",
    "c(t-1)(2-t) & 1 < t < 2\\\\\n",
    "0 & \\text{otherwise}\n",
    "\\end{cases}$$\n",
    "where $t$ is the time in hours.\n",
    "\n",
    "a) Using the `integrate()` R function, determine the constant $c$ (and verify it analytically)"
   ]
  },
  {
   "cell_type": "markdown",
   "metadata": {},
   "source": [
    "By normalization:\n",
    "$$1 \\overset{!}{=} \\int_1^2 \\mathrm{d}t \\> c(t-1)(2-t) \\Leftrightarrow c^{-1} = \\int_1^2 \\mathrm{d}t\\> (t-1)(2-t) = \\left[-2t + \\frac{3}{2} t^2 - \\frac{t^3}{3} \\right]_{t=1}^{t=2} = \\frac{1}{6}  $$\n",
    "and so, analytically, $c=6$."
   ]
  },
  {
   "cell_type": "code",
   "execution_count": 2,
   "metadata": {},
   "outputs": [],
   "source": [
    "f <- function(t) {\n",
    "    return(ifelse(1 < t & t < 2, (t-1) * (2-t), 0))\n",
    "}"
   ]
  },
  {
   "cell_type": "code",
   "execution_count": 3,
   "metadata": {},
   "outputs": [
    {
     "data": {
      "text/html": [
       "'c is 6.00'"
      ],
      "text/latex": [
       "'c is 6.00'"
      ],
      "text/markdown": [
       "'c is 6.00'"
      ],
      "text/plain": [
       "[1] \"c is 6.00\""
      ]
     },
     "metadata": {},
     "output_type": "display_data"
    }
   ],
   "source": [
    "inv_c <- integrate(f, 1, 2)\n",
    "c <- 1 / inv_c[['value']]\n",
    "sprintf(\"c is %.2f\", c)"
   ]
  },
  {
   "cell_type": "markdown",
   "metadata": {},
   "source": [
    "b) Write the set of four R functions and plot the pdf and cdf, respectively"
   ]
  },
  {
   "cell_type": "markdown",
   "metadata": {},
   "source": [
    "The CDF is:\n",
    "$$ \\mathrm{CDF}(q) = \\int_{-\\infty}^q \\mathrm{d}t \\> 6(t-1)(2-t) = \\begin{cases}\n",
    "0 & q \\leq 1\\\\\n",
    "-(q-1)^2  (2q - 5) & 1 < q \\leq 2\\\\\n",
    "1 & q > 2\n",
    "\\end{cases} $$"
   ]
  },
  {
   "cell_type": "code",
   "execution_count": 4,
   "metadata": {},
   "outputs": [],
   "source": [
    "dfunc1 <- function(x) { #PDF\n",
    "    return(ifelse(1 < x & x < 2, 6 * (x-1) * (2-x), 0))\n",
    "}\n",
    "\n",
    "pfunc1 <- function(q) { #CDF\n",
    "    return(ifelse(q <= 1, 0,\n",
    "           ifelse(1 < q & q < 2, -(q - 1)^2 * (2*q - 5), 1)))\n",
    "}\n",
    "\n",
    "qfunc1 <- function(p) { #Quantile\n",
    "    roots <- sapply(p, function(pbar) uniroot(function(x, pbar) {pfunc1(x) - pbar}, c(1,2), pbar=pbar)$root )\n",
    "    \n",
    "    return(roots)\n",
    "}\n",
    "\n",
    "rfunc1 <- function(n) { #Random generation\n",
    "    u <- runif(n)\n",
    "    return(qfunc1(u))\n",
    "}"
   ]
  },
  {
   "cell_type": "code",
   "execution_count": 5,
   "metadata": {},
   "outputs": [
    {
     "data": {
      "image/png": "[encoded data removed]",
      "text/plain": [
       "plot without title"
      ]
     },
     "metadata": {},
     "output_type": "display_data"
    }
   ],
   "source": [
    "xs = seq(0,1, length.out=20)\n",
    "plot(xs, qfunc1(xs), \"n\", xlab='x', ylab='Inv.CDF(x)')\n",
    "curve(qfunc1(x), from=0, to=1, lwd=2, col = 'black', lty=1, add=TRUE)"
   ]
  },
  {
   "cell_type": "code",
   "execution_count": 6,
   "metadata": {},
   "outputs": [
    {
     "data": {
      "image/png": "[encoded data removed]",
      "text/plain": [
       "plot without title"
      ]
     },
     "metadata": {},
     "output_type": "display_data"
    }
   ],
   "source": [
    "xs = seq(0,3, length.out=20)\n",
    "par(mfrow=c(1,2))\n",
    "plot(xs, dfunc1(xs), \"n\", xlab='x', ylab='PDF(x)')\n",
    "curve(dfunc1(x), from=0, to=3, lwd=2, col = 'black', lty=1, add=TRUE)\n",
    "\n",
    "plot(xs, pfunc1(xs), \"n\", xlab='x', ylab='CDF(x)')\n",
    "curve(pfunc1(x), from=0, to=3, lwd=2, col = 'black', lty=1, add=TRUE)"
   ]
  },
  {
   "cell_type": "markdown",
   "metadata": {},
   "source": [
    "c) Evaluate the probability that the student will finish the aptitude test in more than $75$ minutes. And that it will take between $90$ and $120$ minutes."
   ]
  },
  {
   "cell_type": "code",
   "execution_count": 7,
   "metadata": {},
   "outputs": [
    {
     "data": {
      "text/html": [
       "'Probability of a student finishing the test in more than 75 minutes = 1 - CDF(75 min) = 0.84'"
      ],
      "text/latex": [
       "'Probability of a student finishing the test in more than 75 minutes = 1 - CDF(75 min) = 0.84'"
      ],
      "text/markdown": [
       "'Probability of a student finishing the test in more than 75 minutes = 1 - CDF(75 min) = 0.84'"
      ],
      "text/plain": [
       "[1] \"Probability of a student finishing the test in more than 75 minutes = 1 - CDF(75 min) = 0.84\""
      ]
     },
     "metadata": {},
     "output_type": "display_data"
    },
    {
     "data": {
      "text/html": [
       "'Probability of a student finishing the test in [90, 120] min = CDF(120 min) - CDF(90 min) = 0.50'"
      ],
      "text/latex": [
       "'Probability of a student finishing the test in {[}90, 120{]} min = CDF(120 min) - CDF(90 min) = 0.50'"
      ],
      "text/markdown": [
       "'Probability of a student finishing the test in [90, 120] min = CDF(120 min) - CDF(90 min) = 0.50'"
      ],
      "text/plain": [
       "[1] \"Probability of a student finishing the test in [90, 120] min = CDF(120 min) - CDF(90 min) = 0.50\""
      ]
     },
     "metadata": {},
     "output_type": "display_data"
    }
   ],
   "source": [
    "p_more_72_min <- 1 - pfunc1(75/60)\n",
    "sprintf(\"Probability of a student finishing the test in more than 75 minutes = 1 - CDF(75 min) = %.2f\", p_more_72_min)\n",
    "\n",
    "p_between_90_and_120 <- pfunc1(120/60) - pfunc1(90/60)\n",
    "sprintf(\"Probability of a student finishing the test in [90, 120] min = CDF(120 min) - CDF(90 min) = %.2f\", p_between_90_and_120)"
   ]
  },
  {
   "cell_type": "markdown",
   "metadata": {},
   "source": [
    "## Exercise 2\n",
    "The lifetime of tires sold by an used tires shop is $10^4 \\cdot x$ km, where $x$ is a random variable following the distribution function:\n",
    "$$ f(X) = \\begin{cases}\n",
    "    2/x^2 & 1 < x < 2\\\\\n",
    "    0 & \\text{otherwise}\n",
    "\\end{cases} $$\n",
    "a) Write the set of four R functions and plot the pdf and cdf, respectively."
   ]
  },
  {
   "cell_type": "code",
   "execution_count": 8,
   "metadata": {},
   "outputs": [],
   "source": [
    "dfunc2 <- function(x) { #PDF\n",
    "    return(ifelse(1 < x & x < 2, 2 / (x^2), 0))\n",
    "}\n",
    "\n",
    "pfunc2 <- function(q) { #CDF\n",
    "    return(ifelse(q <= 1, 0,\n",
    "           ifelse(1 < q & q < 2, 2 - 2/q, 1)))\n",
    "}\n",
    "\n",
    "qfunc2 <- function(p) { #Quantile\n",
    "    return(ifelse(0 < p & p < 1, 2 / (2 - p), NA))\n",
    "}\n",
    "\n",
    "rfunc2 <- function(n) { #Random generation\n",
    "    u <- runif(n)\n",
    "    return(qfunc2(u))\n",
    "}"
   ]
  },
  {
   "cell_type": "code",
   "execution_count": 9,
   "metadata": {},
   "outputs": [
    {
     "data": {
      "image/png": "[encoded data removed]",
      "text/plain": [
       "plot without title"
      ]
     },
     "metadata": {},
     "output_type": "display_data"
    }
   ],
   "source": [
    "xs = seq(0,3, length.out=30)\n",
    "par(mfrow=c(1,2))\n",
    "plot(xs, dfunc2(xs), \"n\", xlab='x', ylab='PDF(x)')\n",
    "curve(dfunc2(x), from=0, to=3, lwd=2, col = 'black', lty=1, add=TRUE)\n",
    "\n",
    "plot(xs, pfunc2(xs), \"n\", xlab='x', ylab='CDF(x)')\n",
    "curve(pfunc2(x), from=0, to=3, lwd=2, col = 'black', lty=1, add=TRUE)"
   ]
  },
  {
   "cell_type": "markdown",
   "metadata": {},
   "source": [
    "b) Determine the probability that tires will last less than $15000$ km."
   ]
  },
  {
   "cell_type": "code",
   "execution_count": 10,
   "metadata": {},
   "outputs": [
    {
     "data": {
      "text/html": [
       "'Probabilities of tires lasting less than 15000 km: 0.67'"
      ],
      "text/latex": [
       "'Probabilities of tires lasting less than 15000 km: 0.67'"
      ],
      "text/markdown": [
       "'Probabilities of tires lasting less than 15000 km: 0.67'"
      ],
      "text/plain": [
       "[1] \"Probabilities of tires lasting less than 15000 km: 0.67\""
      ]
     },
     "metadata": {},
     "output_type": "display_data"
    }
   ],
   "source": [
    "p_less_15000 <- pfunc2(15000 / 10000)\n",
    "sprintf(\"Probabilities of tires lasting less than 15000 km: %.2f\", p_less_15000)"
   ]
  },
  {
   "cell_type": "markdown",
   "metadata": {},
   "source": [
    "c) Sample $3000$ random variables from the distribution and determine the mean value and the variance, using the expression $\\mathrm{Var}(X) = \\mathrm{E}[X^2] - \\mathrm{E}[X]^2$."
   ]
  },
  {
   "cell_type": "code",
   "execution_count": 11,
   "metadata": {},
   "outputs": [
    {
     "data": {
      "text/html": [
       "'Mean: 1.38; Variance: 0.08'"
      ],
      "text/latex": [
       "'Mean: 1.38; Variance: 0.08'"
      ],
      "text/markdown": [
       "'Mean: 1.38; Variance: 0.08'"
      ],
      "text/plain": [
       "[1] \"Mean: 1.38; Variance: 0.08\""
      ]
     },
     "metadata": {},
     "output_type": "display_data"
    }
   ],
   "source": [
    "num <- 3000\n",
    "samples <- rfunc2(num)\n",
    "\n",
    "mean_value <- mean(samples)\n",
    "mean_sq <- mean(samples^2)\n",
    "\n",
    "variance <- mean_sq - mean_value^2\n",
    "\n",
    "sprintf(\"Mean: %.2f; Variance: %.2f\", mean_value, variance)"
   ]
  },
  {
   "cell_type": "markdown",
   "metadata": {},
   "source": [
    "## Exercise 3\n",
    "Markov's inequality represents an upper bound to probability distributions:\n",
    "$$P(X \\geq k) \\leq \\frac{\\mathrm{E}[X]}{k} \\qquad \\text{for }k > 0 $$\n",
    "Having defined a function:\n",
    "$$G(k) = 1-F(k) \\equiv P(X \\geq k) $$\n",
    "plot $G(k)$ and the Markov's upper bound for:\n",
    "\n",
    "a) the exponential, $\\mathrm{Exp}(\\lambda = 1)$, distribution function"
   ]
  },
  {
   "cell_type": "markdown",
   "metadata": {},
   "source": [
    "In this case:\n",
    "$$\\mathrm{E}[X] = \\frac{1}{\\lambda} = 1$$"
   ]
  },
  {
   "cell_type": "code",
   "execution_count": 12,
   "metadata": {},
   "outputs": [
    {
     "data": {
      "image/png": "[encoded data removed]",
      "text/plain": [
       "Plot with title \"Markov's inequality - Exponential\""
      ]
     },
     "metadata": {},
     "output_type": "display_data"
    }
   ],
   "source": [
    "Gexp <- function(k) {\n",
    "    return(1 - pexp(k, rate=1))\n",
    "}\n",
    "\n",
    "xs = seq(0, 10, length.out=100)\n",
    "plot(xs, Gexp(xs), \"n\", xlab='k', ylab='', main=\"Markov's inequality - Exponential\")\n",
    "curve(Gexp, from=0, to=10, lwd=2, col = 'black', lty=1, add=TRUE)\n",
    "curve(1/x, from=0, to=10, lwd=2, col = 'red', lty=2, add=TRUE)\n",
    "\n",
    "legend(8, 0.9, legend=c(expression(P(X >= k)), expression(E(X) / k)),\n",
    "       col=c(\"black\", \"red\"), lty=c(1,2), cex=0.8, y.intersp=1.5)"
   ]
  },
  {
   "cell_type": "markdown",
   "metadata": {},
   "source": [
    "b) The uniform, $\\mathcal{U}(3,5)$, distribution function"
   ]
  },
  {
   "cell_type": "markdown",
   "metadata": {},
   "source": [
    "In this case:\n",
    "$$ \\mathrm{E}[X] = \\frac{a+b}{2} = \\frac{3+5}{2} = 4$$"
   ]
  },
  {
   "cell_type": "code",
   "execution_count": 13,
   "metadata": {},
   "outputs": [
    {
     "data": {
      "image/png": "[encoded data removed]",
      "text/plain": [
       "Plot with title \"Markov's inequality - Uniform\""
      ]
     },
     "metadata": {},
     "output_type": "display_data"
    }
   ],
   "source": [
    "Gunif <- function(k) {\n",
    "    return(1 - punif(k, min=3, max=5))\n",
    "}\n",
    "\n",
    "xs = seq(3, 5, length.out=100)\n",
    "plot(0, 0, \"n\", xlab='k', ylab='', main=\"Markov's inequality - Uniform\", xlim=c(3,5), ylim=c(0,1.4))\n",
    "curve(Gunif, from=0, to=10, lwd=2, col = 'black', lty=1, add=TRUE)\n",
    "curve((3+5)/(2*x), from=0, to=10, lwd=2, col = 'red', lty=2, add=TRUE)\n",
    "\n",
    "legend(4.5, 1.4, legend=c(expression(P(X >= k)), expression(E(X) / k)),\n",
    "       col=c(\"black\", \"red\"), lty=c(1,2), cex=0.8, y.intersp=1.5)"
   ]
  },
  {
   "cell_type": "markdown",
   "metadata": {},
   "source": [
    "c) The binomial, $\\mathrm{Bin}(n=1, p=1/2)$, distribution function"
   ]
  },
  {
   "cell_type": "markdown",
   "metadata": {},
   "source": [
    "In this case:\n",
    "$$ \\mathrm{E}[X] = n p = \\frac{1}{2} $$"
   ]
  },
  {
   "cell_type": "code",
   "execution_count": 14,
   "metadata": {},
   "outputs": [
    {
     "data": {
      "image/png": "[encoded data removed]",
      "text/plain": [
       "Plot with title \"Markov's inequality - Binomial\""
      ]
     },
     "metadata": {},
     "output_type": "display_data"
    }
   ],
   "source": [
    "Gbinom <- function(k) {\n",
    "    return(1 - pbinom(k, size = 1, prob = 1/2))\n",
    "}\n",
    "\n",
    "xs = seq(0, 10, length.out=100)\n",
    "plot(xs, Gbinom(xs), \"S\", xlab='k', ylab='', main=\"Markov's inequality - Binomial\", lwd=2)\n",
    "#curve(Gbinom, from=0, to=10, lwd=2, col = 'black', lty=1, add=TRUE)\n",
    "curve(1/(2*x), from=0, to=10, lwd=2, col = 'red', lty=2, add=TRUE)\n",
    "\n",
    "legend(8, 0.5, legend=c(expression(P(X >= k)), expression(E(X) / k)),\n",
    "       col=c(\"black\", \"red\"), lty=c(1,2), cex=0.8, y.intersp=1.5)"
   ]
  },
  {
   "cell_type": "markdown",
   "metadata": {},
   "source": [
    "d) a Poisson, $\\mathrm{Pois}(\\lambda = 1/2)$, distribution function"
   ]
  },
  {
   "cell_type": "markdown",
   "metadata": {},
   "source": [
    "In this case:\n",
    "$$ \\mathrm{E}[X] = \\lambda = \\frac{1}{2} $$"
   ]
  },
  {
   "cell_type": "code",
   "execution_count": 15,
   "metadata": {},
   "outputs": [
    {
     "data": {
      "image/png": "[encoded data removed]",
      "text/plain": [
       "Plot with title \"Markov's inequality - Poisson\""
      ]
     },
     "metadata": {},
     "output_type": "display_data"
    }
   ],
   "source": [
    "Gpois <- function(k) {\n",
    "    return(1 - ppois(k, lambda = 1/2))\n",
    "}\n",
    "\n",
    "xs = seq(0, 10, length.out=100)\n",
    "plot(xs, Gpois(xs), \"S\", xlab='k', ylab='', main=\"Markov's inequality - Poisson\", ylim=c(0,0.5), lwd=2)\n",
    "curve(1/(2*x), from=0, to=10, lwd=2, col = 'red', lty=2, add=TRUE)\n",
    "\n",
    "legend(8, 0.4, legend=c(expression(P(X >= k)), expression(E(X) / k)),\n",
    "       col=c(\"black\", \"red\"), lty=c(1,2), cex=0.8, y.intersp=1.5)"
   ]
  },
  {
   "cell_type": "markdown",
   "metadata": {},
   "source": [
    "## Exercise 4\n",
    "Chebyshev's inequality tells us that:\n",
    "$$P(|X - \\mu| \\geq k \\sigma) \\leq \\frac{1}{k^2} $$\n",
    "which can also be written as:\n",
    "$$P(|X-\\mu| < k\\sigma) \\geq 1 - \\frac{1}{k^2} $$\n",
    "\n",
    "Use R to show, with a plot, that Chebyshev's inequality is an upper bound to the following distributions:\n",
    "\n",
    "a) a normal distribution, $\\mathrm{N}(\\mu = 3, \\sigma=5)$"
   ]
  },
  {
   "cell_type": "markdown",
   "metadata": {},
   "source": [
    "Rewriting:\n",
    "$$ P(|X-\\mu| < k \\sigma) = P(-k\\sigma < X-\\mu < k \\sigma) = P(-k\\sigma + \\mu < X < k \\sigma + \\mu) = \\mathrm{CDF}(\\mu + k\\sigma) - \\mathrm{CDF}(\\mu - k\\sigma) $$"
   ]
  },
  {
   "cell_type": "code",
   "execution_count": 16,
   "metadata": {},
   "outputs": [],
   "source": [
    "lhs <- function(func, k, mu, sigma, ...) {\n",
    "    return(func(mu + k * sigma, ...) - func(mu - k * sigma, ...))\n",
    "}"
   ]
  },
  {
   "cell_type": "code",
   "execution_count": 17,
   "metadata": {},
   "outputs": [
    {
     "data": {
      "image/png": "[encoded data removed]",
      "text/plain": [
       "Plot with title \"Chebyshev's inequality - Gaussian\""
      ]
     },
     "metadata": {},
     "output_type": "display_data"
    }
   ],
   "source": [
    "xs = seq(0, 10, length.out=100)\n",
    "plot(xs, lhs(function(x) pnorm(x, mean=3, sd=5), xs, 3, 5), \"l\", col='black', xlab='k', ylab='',\n",
    "     main=\"Chebyshev's inequality - Gaussian\", lwd=2)\n",
    "curve(1 - 1/(x^2), from=0, to=10, lwd=2, col = 'red', lty=2, add=TRUE)\n",
    "\n",
    "legend(7, 0.9, legend=c(expression(P(abs(X- mu) < k * sigma)), expression(1 - 1/k^2)),\n",
    "       col=c(\"black\", \"red\"), lty=c(1,2), cex=0.8, y.intersp=1.5)"
   ]
  },
  {
   "cell_type": "markdown",
   "metadata": {},
   "source": [
    "b) an exponential distribution, $\\mathrm{Exp}(\\lambda=1)$"
   ]
  },
  {
   "cell_type": "markdown",
   "metadata": {},
   "source": [
    "In this case:\n",
    "$$\\mu = \\frac{1}{\\lambda} = 1; \\qquad \\sigma = \\sqrt{\\frac{1}{\\lambda^2}} = 1 $$"
   ]
  },
  {
   "cell_type": "code",
   "execution_count": 18,
   "metadata": {},
   "outputs": [
    {
     "data": {
      "image/png": "[encoded data removed]",
      "text/plain": [
       "Plot with title \"Chebyshev's inequality - Exponential\""
      ]
     },
     "metadata": {},
     "output_type": "display_data"
    }
   ],
   "source": [
    "xs = seq(0, 10, length.out=100)\n",
    "plot(xs, lhs(function(x) pexp(x, rate=1), xs, 1, 1), \"l\", col='black', xlab='k', ylab='', lwd=2,\n",
    "     main=\"Chebyshev's inequality - Exponential\")\n",
    "curve(1 - 1/(x^2), from=0, to=10, lwd=2, col = 'red', lty=2, add=TRUE)\n",
    "\n",
    "legend(7, 0.9, legend=c(expression(P(abs(X- mu) < k * sigma)), expression(1 - 1/k^2)),\n",
    "       col=c(\"black\", \"red\"), lty=c(1,2), cex=0.8, y.intersp=1.5)"
   ]
  },
  {
   "cell_type": "markdown",
   "metadata": {},
   "source": [
    "c) a uniform distribution $\\mathcal{U}(1-\\sqrt{2}, 1 + \\sqrt{2})$"
   ]
  },
  {
   "cell_type": "markdown",
   "metadata": {},
   "source": [
    "In this case:\n",
    "$$\\mu = \\frac{a+b}{2} = 1; \\qquad \\sigma = \\sqrt{\\frac{(b-a)^2}{12}} = \\sqrt{\\frac{2}{3}} $$"
   ]
  },
  {
   "cell_type": "code",
   "execution_count": 19,
   "metadata": {},
   "outputs": [
    {
     "data": {
      "image/png": "[encoded data removed]",
      "text/plain": [
       "Plot with title \"Chebyshev's inequality - Uniform\""
      ]
     },
     "metadata": {},
     "output_type": "display_data"
    }
   ],
   "source": [
    "sigma <- sqrt(2/3)\n",
    "xs = seq(0, 10, length.out=100)\n",
    "plot(xs, lhs(function(x) punif(x, min=1-sqrt(2), max=1+sqrt(2)), xs, 1, sigma), \"l\", col='black', xlab='k', ylab='',\n",
    "     lwd = 2, main = \"Chebyshev's inequality - Uniform\")\n",
    "curve(1 - 1/(x^2), from=0, to=10, lwd=2, col = 'red', lty=2, add=TRUE)\n",
    "\n",
    "legend(7, 0.9, legend=c(expression(P(abs(X- mu) < k * sigma)), expression(1 - 1/k^2)),\n",
    "       col=c(\"black\", \"red\"), lty=c(1,2), cex=0.8, y.intersp=1.5)"
   ]
  },
  {
   "cell_type": "markdown",
   "metadata": {},
   "source": [
    "d) a Poisson, $\\mathrm{Pois}(\\lambda = 1/3)$, distribution function"
   ]
  },
  {
   "cell_type": "markdown",
   "metadata": {},
   "source": [
    "In this case:\n",
    "$$ \\mu = \\lambda = \\frac{1}{3}; \\qquad \\sigma = \\sqrt{\\lambda} = \\sqrt{\\frac{1}{3}} $$"
   ]
  },
  {
   "cell_type": "code",
   "execution_count": 20,
   "metadata": {},
   "outputs": [
    {
     "data": {
      "image/png": "[encoded data removed]",
      "text/plain": [
       "Plot with title \"Chebyshev's inequality - Poisson\""
      ]
     },
     "metadata": {},
     "output_type": "display_data"
    }
   ],
   "source": [
    "sigma <- sqrt(1/3)\n",
    "xs = seq(0, 10, length.out=100)\n",
    "plot(xs, lhs(function(x) ppois(x, lambda=1/3), xs, 1/3, sigma), \"S\", col='black', xlab='k', ylab='', lwd=2,\n",
    "     main = \"Chebyshev's inequality - Poisson\")\n",
    "curve(1 - 1/(x^2), from=0, to=10, lwd=2, col = 'red', lty=2, add=TRUE)\n",
    "\n",
    "legend(7, 0.9, legend=c(expression(P(abs(X- mu) < k * sigma)), expression(1 - 1/k^2)),\n",
    "       col=c(\"black\", \"red\"), lty=c(1,2), cex=0.8, y.intersp=1.5)"
   ]
  }
 ],
 "metadata": {
  "kernelspec": {
   "display_name": "R",
   "language": "R",
   "name": "ir"
  },
  "language_info": {
   "codemirror_mode": "r",
   "file_extension": ".r",
   "mimetype": "text/x-r-source",
   "name": "R",
   "pygments_lexer": "r",
   "version": "3.6.1"
  }
 },
 "nbformat": 4,
 "nbformat_minor": 2
}
