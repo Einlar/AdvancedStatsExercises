{
 "cells": [
  {
   "cell_type": "code",
   "execution_count": 1,
   "metadata": {},
   "outputs": [],
   "source": [
    "options(repr.plot.width=8, repr.plot.height=5) #set a common width/height for plots"
   ]
  },
  {
   "cell_type": "markdown",
   "metadata": {},
   "source": [
    "# Exercise 1\n",
    "- A researcher has collected $n=15$ observations that are supposed to come from a *Normal* distribution with known variance $\\sigma^2 = 16$:"
   ]
  },
  {
   "cell_type": "code",
   "execution_count": 2,
   "metadata": {},
   "outputs": [],
   "source": [
    "data <- c(26.8, 26.3, 28.3, 28.5, 16.3,\n",
    "          31.9, 28.5, 27.2, 20.9, 27.5,\n",
    "          28.0, 18.6, 22.3, 25.0, 31.5)"
   ]
  },
  {
   "cell_type": "markdown",
   "metadata": {},
   "source": [
    "- Assuming a normal prior for $\\mu$, `Norm(m=20, s^2=25)`:\n",
    "\n",
    "(a) Determine the posterior distribution $P(\\mu|y_1, \\dots, y_{15})$ and find the posterior mean and standard deviation"
   ]
  },
  {
   "cell_type": "markdown",
   "metadata": {},
   "source": [
    "The posterior is a normal distribution with mean $m'$ and variance $(s')^2$ given by:\n",
    "$$\\frac{1}{(s')^2} = \\frac{\\sigma^2 + n s^2}{\\sigma^2 s^2}\\qquad m'=\\frac{1/s^2}{n/\\sigma^2 + 1/s^2} m + \\frac{n/\\sigma^2}{n/\\sigma^2 + 1/s^2} \\bar{y} $$\n",
    "Where $(m, s^2)$ are mean and variance of the prior, $\\sigma^2$ is the variance of the likelihood, $n$ is the number of observations $\\{y_i\\}_{i=1,\\dots,n}$ and $\\bar{y}$ is their sample mean:\n",
    "$$\\bar{y} = \\frac{1}{n} \\sum_{j=1}^n y_j$$"
   ]
  },
  {
   "cell_type": "code",
   "execution_count": 3,
   "metadata": {},
   "outputs": [
    {
     "data": {
      "text/html": [
       "'The posterior is a Normal distribution with mean m\\' = 25.601 and variance (s\\')^2 = 1.023'"
      ],
      "text/latex": [
       "'The posterior is a Normal distribution with mean m\\textbackslash{}' = 25.601 and variance (s\\textbackslash{}')\\textasciicircum{}2 = 1.023'"
      ],
      "text/markdown": [
       "'The posterior is a Normal distribution with mean m\\' = 25.601 and variance (s\\')^2 = 1.023'"
      ],
      "text/plain": [
       "[1] \"The posterior is a Normal distribution with mean m' = 25.601 and variance (s')^2 = 1.023\""
      ]
     },
     "metadata": {},
     "output_type": "display_data"
    }
   ],
   "source": [
    "sigma.sq <- 16\n",
    "s.sq <- 25\n",
    "m <- 20\n",
    "\n",
    "y.mean <- mean(data)\n",
    "n <- length(data)\n",
    "\n",
    "m.prime <- (1 / s.sq) / (n / sigma.sq + 1 / s.sq) * m + (n / sigma.sq) / (n / sigma.sq + 1 / s.sq) * y.mean\n",
    "s.prime.sq <- sigma.sq * s.sq / (sigma.sq + n * s.sq)\n",
    "\n",
    "sprintf(\"The posterior is a Normal distribution with mean m' = %.3f and variance (s')^2 = %.3f\", m.prime, s.prime.sq)"
   ]
  },
  {
   "cell_type": "markdown",
   "metadata": {},
   "source": [
    "(b) Find the $95\\%$ credibility interval for $\\mu$"
   ]
  },
  {
   "cell_type": "code",
   "execution_count": 4,
   "metadata": {},
   "outputs": [
    {
     "data": {
      "text/html": [
       "'The 95% credibility interval for mu is: [23.619, 27.583]'"
      ],
      "text/latex": [
       "'The 95\\% credibility interval for mu is: {[}23.619, 27.583{]}'"
      ],
      "text/markdown": [
       "'The 95% credibility interval for mu is: [23.619, 27.583]'"
      ],
      "text/plain": [
       "[1] \"The 95% credibility interval for mu is: [23.619, 27.583]\""
      ]
     },
     "metadata": {},
     "output_type": "display_data"
    }
   ],
   "source": [
    "ci <- c(qnorm(.05/2, mean = m.prime, sd = sqrt(s.prime.sq)), qnorm(1 - (0.05/2), mean = m.prime, sd = sqrt(s.prime.sq)))\n",
    "sprintf(\"The 95%% credibility interval for mu is: [%.3f, %.3f]\", ci[1], ci[2])"
   ]
  },
  {
   "cell_type": "markdown",
   "metadata": {},
   "source": [
    "(c) Plot the *posterior* distribution, indicating on the same plot: the mean value, the standard deviation, and the $95\\%$ credibility interval."
   ]
  },
  {
   "cell_type": "code",
   "execution_count": 5,
   "metadata": {},
   "outputs": [
    {
     "data": {
      "image/png": "[encoded data removed]",
      "text/plain": [
       "Plot with title \"Posterior (first prior)\""
      ]
     },
     "metadata": {},
     "output_type": "display_data"
    }
   ],
   "source": [
    "limits <- c(m.prime - 3 * sqrt(s.prime.sq), m.prime + 3*sqrt(s.prime.sq))\n",
    "plot(0, 0, \"n\", xlab=expression(mu), ylab = expression(paste(\"P(\", mu, \"| data)\")), xlim=limits, ylim = c(0,0.45),\n",
    "     main = \"Posterior (first prior)\")\n",
    "curve(dnorm(x, mean = m.prime, sd = sqrt(s.prime.sq)), from = limits[1], to = limits[2], add=TRUE, lwd=2)\n",
    "\n",
    "abline(v = m.prime, lty = 2, col = 'firebrick3')\n",
    "abline(v = c(m.prime - sqrt(s.prime.sq), m.prime + sqrt(s.prime.sq)), lty = 3, col = 'coral')\n",
    "abline(v = ci, col = 'aquamarine3', lty=1, lwd=2)\n",
    "text(m.prime - sqrt(s.prime.sq), .2, signif(m.prime - sqrt(s.prime.sq),3), srt=90, pos=2)\n",
    "text(m.prime + sqrt(s.prime.sq), .2, signif(m.prime + sqrt(s.prime.sq),3), srt=90, pos=2)\n",
    "text(m.prime, .2, signif(m.prime, 3), srt=90, pos=2)\n",
    "text(ci[1], .2, signif(ci[1],3), srt=90, pos=2)\n",
    "text(ci[2], .2, signif(ci[2],3), srt=90, pos=2)\n",
    "\n",
    "\n",
    "legend(\"topright\", c(\"Posterior\", \"Mean\", \"St.dev.\", \"CI 95%\"),\n",
    "                   lwd=c(2, 1, 1, 2), col=c('black', 'firebrick3', 'coral', 'aquamarine3'),\n",
    "                   lty = c(1, 2, 3, 1), y.intersp=1.5)"
   ]
  },
  {
   "cell_type": "markdown",
   "metadata": {},
   "source": [
    "(d) Repeat the analysis using a different prior `Norm(m=30, s^2=16)` and plot, on the same graph, the likelihood, the prior and the posterior."
   ]
  },
  {
   "cell_type": "code",
   "execution_count": 6,
   "metadata": {},
   "outputs": [
    {
     "data": {
      "text/html": [
       "'The posterior is a Normal distribution with mean m\\' = 26.100 and variance (s\\')^2 = 1.000'"
      ],
      "text/latex": [
       "'The posterior is a Normal distribution with mean m\\textbackslash{}' = 26.100 and variance (s\\textbackslash{}')\\textasciicircum{}2 = 1.000'"
      ],
      "text/markdown": [
       "'The posterior is a Normal distribution with mean m\\' = 26.100 and variance (s\\')^2 = 1.000'"
      ],
      "text/plain": [
       "[1] \"The posterior is a Normal distribution with mean m' = 26.100 and variance (s')^2 = 1.000\""
      ]
     },
     "metadata": {},
     "output_type": "display_data"
    },
    {
     "data": {
      "text/html": [
       "'The 95% credibility interval for mu is: [24.140, 28.060]'"
      ],
      "text/latex": [
       "'The 95\\% credibility interval for mu is: {[}24.140, 28.060{]}'"
      ],
      "text/markdown": [
       "'The 95% credibility interval for mu is: [24.140, 28.060]'"
      ],
      "text/plain": [
       "[1] \"The 95% credibility interval for mu is: [24.140, 28.060]\""
      ]
     },
     "metadata": {},
     "output_type": "display_data"
    },
    {
     "data": {
      "image/png": "[encoded data removed]",
      "text/plain": [
       "Plot with title \"Analysis with the second prior\""
      ]
     },
     "metadata": {},
     "output_type": "display_data"
    }
   ],
   "source": [
    "m2 <- 30\n",
    "s2.sq <- 16\n",
    "\n",
    "m2.prime <- (1 / s2.sq) / (n / sigma.sq + 1 / s2.sq) * m2 + (n / sigma.sq) / (n / sigma.sq + 1 / s2.sq) * y.mean\n",
    "s2.prime.sq <- sigma.sq * s2.sq / (sigma.sq + n * s2.sq)\n",
    "\n",
    "sprintf(\"The posterior is a Normal distribution with mean m' = %.3f and variance (s')^2 = %.3f\", m2.prime, s2.prime.sq)\n",
    "\n",
    "ci2 <- c(qnorm(.05/2, mean = m2.prime, sd = sqrt(s2.prime.sq)), qnorm(1 - (0.05/2), mean = m2.prime, sd = sqrt(s2.prime.sq)))\n",
    "sprintf(\"The 95%% credibility interval for mu is: [%.3f, %.3f]\", ci2[1], ci2[2])\n",
    "\n",
    "prior <- function(mu) {\n",
    "    dnorm(mu, mean = m2, sd = sqrt(s2.sq))\n",
    "}\n",
    "\n",
    "likelihood <- function(mu) { #Plot as a function of mu (as it must be on the same plot)\n",
    "    res <- seq(length(mu))\n",
    "    \n",
    "    for (i in seq_along(mu)) {\n",
    "        res[i] <- prod(dnorm(data, mean = mu[i], sd = sqrt(sigma.sq)))        \n",
    "    }\n",
    "    return(res)\n",
    "}\n",
    "\n",
    "posterior <- function(mu) {\n",
    "    dnorm(mu, mean = m2.prime, sd = sqrt(s2.prime.sq))\n",
    "}\n",
    "\n",
    "limits2 <- c(20, 40)\n",
    "xs = seq(from = limits2[1], to = limits[2], length.out=100)\n",
    "plot(0, 0, \"n\", xlab=expression(mu), ylab = \"\", xlim=limits2, ylim = c(0,0.45),\n",
    "     main = \"Analysis with the second prior\")\n",
    "curve(prior(x), from = limits2[1], to = limits2[2], add=TRUE, lwd=2, col = 'firebrick3')\n",
    "\n",
    "like <- likelihood(xs)\n",
    "#Normalize\n",
    "like <- like / (sum(like) * (xs[2] - xs[1]))\n",
    "\n",
    "lines(xs, like, lwd=2, col = 'aquamarine3')\n",
    "curve(posterior(x), from = limits2[1], to = limits2[2], add=TRUE, lwd=2, col = 'black')\n",
    "\n",
    "legend(\"topright\", c(\"Prior\", \"Likelihood\", \"Posterior\"),\n",
    "       lwd=c(2,2,2), col=c(\"firebrick3\", \"aquamarine3\", \"black\"), y.intersp=1.5)"
   ]
  },
  {
   "cell_type": "markdown",
   "metadata": {},
   "source": [
    "(e) Compare the credibility intervals obtained with the two priors."
   ]
  },
  {
   "cell_type": "code",
   "execution_count": 7,
   "metadata": {},
   "outputs": [
    {
     "data": {
      "text/html": [
       "3.91992796908011"
      ],
      "text/latex": [
       "3.91992796908011"
      ],
      "text/markdown": [
       "3.91992796908011"
      ],
      "text/plain": [
       "[1] 3.919928"
      ]
     },
     "metadata": {},
     "output_type": "display_data"
    }
   ],
   "source": [
    "ci2[2] - ci2[1]"
   ]
  },
  {
   "cell_type": "code",
   "execution_count": 8,
   "metadata": {},
   "outputs": [
    {
     "data": {
      "text/html": [
       "3.96478556620161"
      ],
      "text/latex": [
       "3.96478556620161"
      ],
      "text/markdown": [
       "3.96478556620161"
      ],
      "text/plain": [
       "[1] 3.964786"
      ]
     },
     "metadata": {},
     "output_type": "display_data"
    }
   ],
   "source": [
    "ci[2] - ci[1]"
   ]
  },
  {
   "cell_type": "markdown",
   "metadata": {},
   "source": [
    "The two CI intervals cover a similar range of values for $\\mu$. One notable difference is in their position: the second CI is moved \"to the right\" with respect to the first. This is because the second prior is centred around a larger value than the first one."
   ]
  },
  {
   "cell_type": "markdown",
   "metadata": {},
   "source": [
    "# Exercise 2\n",
    "- A researcher has collected $n=16$ observations that are supposed to come from a *Normal* distribution with known variance $\\sigma^2 = 4$:"
   ]
  },
  {
   "cell_type": "code",
   "execution_count": 9,
   "metadata": {},
   "outputs": [],
   "source": [
    "obs <- c(4.09, 4.68, 1.87, 2.62, 5.58, 8.68, 4.07, 4.78,\n",
    "         4.79, 4.49, 5.85, 5.09, 2.40, 6.27, 6.30, 4.47)"
   ]
  },
  {
   "cell_type": "markdown",
   "metadata": {},
   "source": [
    "Assuming the prior is a step function:\n",
    "$$g(\\mu) = \\begin{cases}\n",
    "\\mu & 0 < \\mu \\leq 3\\\\\n",
    "3 & 3 < \\mu \\leq 5 \\\\\n",
    "8-\\mu & 5 < \\mu \\leq 8\\\\\n",
    "0 & \\mu > 8\n",
    "\\end{cases}$$"
   ]
  },
  {
   "cell_type": "markdown",
   "metadata": {},
   "source": [
    "(a) Find the posterior distribution, the posterior mean and standard deviation."
   ]
  },
  {
   "cell_type": "code",
   "execution_count": 10,
   "metadata": {},
   "outputs": [],
   "source": [
    "g <- function(mu) {\n",
    "    ifelse(0 < mu & mu <= 3, mu, \n",
    "    ifelse(3 < mu & mu <= 5, 3,\n",
    "    ifelse(5 < mu & mu <= 8, 8-mu, 0)))\n",
    "}"
   ]
  },
  {
   "cell_type": "code",
   "execution_count": 11,
   "metadata": {},
   "outputs": [
    {
     "data": {
      "image/png": "[encoded data removed]",
      "text/plain": [
       "Plot with title \"Posterior\""
      ]
     },
     "metadata": {},
     "output_type": "display_data"
    }
   ],
   "source": [
    "xs <- seq(from = 0, to = 8, length.out=100)\n",
    "sigma2.sq <- 4\n",
    "\n",
    "likelihood.g <- function(mu) { #Unnormalized\n",
    "    res <- seq_along(mu)\n",
    "    for (i in seq_along(mu)) {\n",
    "        res[i] <- prod(dnorm(obs, mean = mu[i], sd = sqrt(sigma2.sq)))\n",
    "    }\n",
    "    return(res)\n",
    "}\n",
    "\n",
    "norm <- sum(likelihood.g(xs)) * (xs[2] - xs[1])\n",
    "\n",
    "like.g <- likelihood.g(xs) / norm\n",
    "\n",
    "posterior.g <- g(xs) * like.g\n",
    "posterior.g <- posterior.g / (sum(posterior.g) * (xs[2] - xs[1])) #Normalize posterior\n",
    "\n",
    "plot(xs, posterior.g, \"l\", xlab=expression(mu), ylab=expression(paste(\"P(\",mu,\")\")), main = \"Posterior\", lwd = 2)"
   ]
  },
  {
   "cell_type": "code",
   "execution_count": 12,
   "metadata": {},
   "outputs": [
    {
     "data": {
      "text/html": [
       "'Posterior mean: 4.725, Posterior st.dev.: 0.484'"
      ],
      "text/latex": [
       "'Posterior mean: 4.725, Posterior st.dev.: 0.484'"
      ],
      "text/markdown": [
       "'Posterior mean: 4.725, Posterior st.dev.: 0.484'"
      ],
      "text/plain": [
       "[1] \"Posterior mean: 4.725, Posterior st.dev.: 0.484\""
      ]
     },
     "metadata": {},
     "output_type": "display_data"
    }
   ],
   "source": [
    "post.mean  <- sum(xs * posterior.g) * (xs[2] - xs[1])\n",
    "post.stdev <- sqrt(sum((xs - post.mean)^2 * posterior.g) * (xs[2] - xs[1]))\n",
    "sprintf(\"Posterior mean: %.3f, Posterior st.dev.: %.3f\", post.mean, post.stdev)"
   ]
  },
  {
   "cell_type": "markdown",
   "metadata": {},
   "source": [
    "(b) Find the $95\\%$ credibility interval for $\\mu$."
   ]
  },
  {
   "cell_type": "code",
   "execution_count": 13,
   "metadata": {},
   "outputs": [
    {
     "data": {
      "text/html": [
       "'Credibility interval 95%: [3.798, 5.657]'"
      ],
      "text/latex": [
       "'Credibility interval 95\\%: {[}3.798, 5.657{]}'"
      ],
      "text/markdown": [
       "'Credibility interval 95%: [3.798, 5.657]'"
      ],
      "text/plain": [
       "[1] \"Credibility interval 95%: [3.798, 5.657]\""
      ]
     },
     "metadata": {},
     "output_type": "display_data"
    }
   ],
   "source": [
    "#Compute CDF\n",
    "post.cdf <- cumsum(posterior.g) * (xs[2] - xs[1])\n",
    "\n",
    "ci_classes <- findInterval(post.cdf, c(0.05/2, 1- 0.05/2))\n",
    "#Splits an ordered sequence in classes separated by the values 0.05/2 and 1-0.05/2. \n",
    "ci.g <- xs[which(diff(ci_classes) == 1) + 1] #Get the position of these boundaries\n",
    "\n",
    "sprintf(\"Credibility interval 95%%: [%.3f, %.3f]\", ci.g[1], ci.g[2])"
   ]
  },
  {
   "cell_type": "markdown",
   "metadata": {},
   "source": [
    "(c) Plot the posterior distribution, indicating on the same plot: the mean value, the standard deviation, and the $95\\%$ credibility interval."
   ]
  },
  {
   "cell_type": "code",
   "execution_count": 14,
   "metadata": {},
   "outputs": [
    {
     "data": {
      "image/png": "[encoded data removed]",
      "text/plain": [
       "Plot with title \"Posterior\""
      ]
     },
     "metadata": {},
     "output_type": "display_data"
    }
   ],
   "source": [
    "limits <- c(0,8)\n",
    "plot(xs, posterior.g, \"l\", xlab=expression(mu), ylab = expression(paste(\"P(\", mu, \"| data)\")), xlim=limits, ylim = c(0,0.85),\n",
    "     main = \"Posterior\", lwd=2)\n",
    "\n",
    "abline(v = post.mean, lty = 2, col = 'firebrick3')\n",
    "abline(v = c(post.mean - post.stdev, post.mean + post.stdev), lty = 3, col = 'coral')\n",
    "abline(v = ci.g, col = 'aquamarine3', lty=1, lwd=2)\n",
    "text(post.mean - post.stdev, .55, signif(post.mean - post.stdev,3), srt=90, pos=2)\n",
    "text(post.mean + post.stdev, .55, signif(post.mean + post.stdev,3), srt=90, pos=2)\n",
    "text(post.mean, .55, signif(post.mean, 3), srt=90, pos=2)\n",
    "text(ci.g[1], .55, signif(ci.g[1],3), srt=90, pos=2)\n",
    "text(ci.g[2], .55, signif(ci.g[2],3), srt=90, pos=2)\n",
    "\n",
    "legend(\"topright\", c(\"Posterior\", \"Mean\", \"St.dev.\", \"CI 95%%\"),\n",
    "                   lwd=c(2, 1, 1, 2), col=c('black', 'firebrick3', 'coral', 'aquamarine3'),\n",
    "                   lty = c(1, 2, 3, 1), y.intersp=1.5)"
   ]
  },
  {
   "cell_type": "markdown",
   "metadata": {},
   "source": [
    "(d) Plot, on the same graph, the prior, the likelihood and the posterior distribution."
   ]
  },
  {
   "cell_type": "code",
   "execution_count": 15,
   "metadata": {},
   "outputs": [
    {
     "data": {
      "image/png": "[encoded data removed]",
      "text/plain": [
       "plot without title"
      ]
     },
     "metadata": {},
     "output_type": "display_data"
    }
   ],
   "source": [
    "limits2 <- c(0,8)\n",
    "\n",
    "prior.g <- g(xs)\n",
    "prior.g <- prior.g / (sum(prior.g) * (xs[2] - xs[1])) #Normalize prior\n",
    "plot(xs, prior.g, \"l\", xlab=expression(mu), ylab = \"\", xlim=limits2, ylim = c(0,0.85), lwd=2, col=\"firebrick3\")\n",
    "lines(xs, like.g, lwd=2, col='aquamarine3')\n",
    "lines(xs, posterior.g, lwd=2, col = \"black\")\n",
    "\n",
    "legend(\"topright\", c(\"Prior\", \"Likelihood\", \"Posterior\"),\n",
    "       lwd=c(2,2,2), col=c(\"firebrick3\", \"aquamarine3\", \"black\"), y.intersp=1.5)"
   ]
  },
  {
   "cell_type": "markdown",
   "metadata": {},
   "source": [
    "# Exercise 3\n",
    "- In a study on water quality of streams, a high level of bacterium $X$ was defined as a level greater than $100$ per $100\\>\\mathrm{ml}$ of stream water. $n=116$ samples were taken from streams having a high environmental impact on pandas. Out of these, $y=11$ had a high bacterium $X$ level.\n",
    "- Indicating with $p$ the probability that a sample of water taken from the stream has a high bacterium $X$ level:\n",
    "\n",
    "(a) Find the frequentist estimator for $p$"
   ]
  },
  {
   "cell_type": "markdown",
   "metadata": {},
   "source": [
    "Each sample of water is contaminated with bacterium $X$ with a fixed probability $p$. Then, then amount $Y$ of polluted samples follows a Binomial distribution. In the **frequentist** approach, one unbiased estimator for $p$ is given by the ratio of *successes* over *trials*, i.e.\n",
    "$$\\hat{p}_F = y / n$$"
   ]
  },
  {
   "cell_type": "code",
   "execution_count": 16,
   "metadata": {},
   "outputs": [
    {
     "data": {
      "text/html": [
       "'Frequentist estimate for p: 0.095'"
      ],
      "text/latex": [
       "'Frequentist estimate for p: 0.095'"
      ],
      "text/markdown": [
       "'Frequentist estimate for p: 0.095'"
      ],
      "text/plain": [
       "[1] \"Frequentist estimate for p: 0.095\""
      ]
     },
     "metadata": {},
     "output_type": "display_data"
    }
   ],
   "source": [
    "y <- 11\n",
    "n <- 116\n",
    "\n",
    "pF <- y / n\n",
    "\n",
    "sprintf(\"Frequentist estimate for p: %.3f\", pF)"
   ]
  },
  {
   "cell_type": "markdown",
   "metadata": {},
   "source": [
    "(b) Using a `Beta(1,10)` prior for $p$, calculate the posterior distribution $P(p|y)$."
   ]
  },
  {
   "cell_type": "markdown",
   "metadata": {},
   "source": [
    "As the prior is a beta distribution with parameters $\\alpha_p$ and $\\beta_p$, if we measure $y$ successes over $n$ trials, the posterior is still a beta distribution with parameters $\\alpha$ and $\\beta$ given by:\n",
    "$$\\alpha = \\alpha_p + y \\qquad \\beta = \\beta_p + n - y$$"
   ]
  },
  {
   "cell_type": "code",
   "execution_count": 17,
   "metadata": {},
   "outputs": [],
   "source": [
    "prior.alpha <- 1\n",
    "prior.beta  <- 10\n",
    "\n",
    "post.alpha <- prior.alpha + y\n",
    "post.beta  <- prior.beta  + n - y\n",
    "\n",
    "posterior.func <- function(x) {\n",
    "    dbeta(x, post.alpha, post.beta)\n",
    "}"
   ]
  },
  {
   "cell_type": "markdown",
   "metadata": {},
   "source": [
    "(c) Find the Bayesian estimator for $p$, the posterior mean and variance, and a $95\\%$ credibility interval."
   ]
  },
  {
   "cell_type": "markdown",
   "metadata": {},
   "source": [
    "The Bayesian estimator for $p$ is given by the *maximum* of the posterior, which in this case is given by the following analytical expression:\n",
    "$$\\hat{p}_B = \\frac{\\alpha - 1}{\\alpha + \\beta - 2}$$\n",
    "where $(\\alpha,\\beta)$ are the shape parameters of the posterior (which is a Beta distribution)."
   ]
  },
  {
   "cell_type": "code",
   "execution_count": 18,
   "metadata": {},
   "outputs": [
    {
     "data": {
      "text/html": [
       "'Bayesian estimate for p: 0.088'"
      ],
      "text/latex": [
       "'Bayesian estimate for p: 0.088'"
      ],
      "text/markdown": [
       "'Bayesian estimate for p: 0.088'"
      ],
      "text/plain": [
       "[1] \"Bayesian estimate for p: 0.088\""
      ]
     },
     "metadata": {},
     "output_type": "display_data"
    }
   ],
   "source": [
    "beta_max <- function(alpha, beta) {\n",
    "    return( (alpha - 1) / (alpha + beta - 2) )\n",
    "}\n",
    "\n",
    "pB <- beta_max(post.alpha, post.beta)\n",
    "sprintf(\"Bayesian estimate for p: %.3f\", pB)"
   ]
  },
  {
   "cell_type": "markdown",
   "metadata": {},
   "source": [
    "For a Beta distribution with parameters $(\\alpha, \\beta)$, mean $\\mathbb{E}[X]$ and variance $\\mathrm{Var}[X]$ are given by:\n",
    "$$\\mathbb{E}[X] = \\frac{\\alpha}{\\alpha + \\beta} \\qquad \\mathrm{Var}[X] = \\frac{\\alpha \\beta}{(\\alpha + \\beta)^2 (\\alpha + \\beta + 1)}$$"
   ]
  },
  {
   "cell_type": "code",
   "execution_count": 19,
   "metadata": {},
   "outputs": [],
   "source": [
    "beta_mean <- function(alpha, beta) {\n",
    "    return(alpha / (alpha + beta))\n",
    "}\n",
    "\n",
    "beta_variance <- function(alpha, beta) {\n",
    "    return(alpha * beta / ((alpha + beta)^2 * (alpha + beta + 1)))\n",
    "}\n",
    "\n",
    "beta_CI <- function(alpha, beta, p) {\n",
    "    proba <- 1 - p/100\n",
    "    left <- proba / 2\n",
    "    right <- 1 - proba / 2\n",
    "    \n",
    "    return(c(qbeta(left, alpha, beta), qbeta(right, alpha, beta)))\n",
    "}"
   ]
  },
  {
   "cell_type": "code",
   "execution_count": 20,
   "metadata": {},
   "outputs": [
    {
     "data": {
      "text/html": [
       "'Mean: 0.09449, Variance: 0.00067, CI [95%]: [0.050, 0.151]'"
      ],
      "text/latex": [
       "'Mean: 0.09449, Variance: 0.00067, CI {[}95\\%{]}: {[}0.050, 0.151{]}'"
      ],
      "text/markdown": [
       "'Mean: 0.09449, Variance: 0.00067, CI [95%]: [0.050, 0.151]'"
      ],
      "text/plain": [
       "[1] \"Mean: 0.09449, Variance: 0.00067, CI [95%]: [0.050, 0.151]\""
      ]
     },
     "metadata": {},
     "output_type": "display_data"
    }
   ],
   "source": [
    "post.mean <- beta_mean(post.alpha, post.beta)\n",
    "post.variance <- beta_variance(post.alpha, post.beta)\n",
    "\n",
    "#CI interval found by \"subtracting\" tails:\n",
    "post.ci <- beta_CI(post.alpha, post.beta, 95)\n",
    "\n",
    "sprintf(\"Mean: %.5f, Variance: %.5f, CI [95%%]: [%.3f, %.3f]\", post.mean, post.variance, post.ci[1], post.ci[2])"
   ]
  },
  {
   "cell_type": "markdown",
   "metadata": {},
   "source": [
    "(d) Test the hypothesis:\n",
    "$$ H_0 \\colon p=0.1 \\> \\mathrm{versus} \\> H_1 \\colon p \\neq 0.1 $$\n",
    "at a $5\\%$ level of significance with both the frequentist and bayesian approach."
   ]
  },
  {
   "cell_type": "markdown",
   "metadata": {},
   "source": [
    "**Frequentist approach**\n",
    "\n",
    "A two-sides hypothesis test is required, as we want to assess any kind of deviation from $p=0.1$. First, a rejection region is constructed by selecting $a$ and $b$ such that $P(Y \\leq a) \\cup P(Y \\geq b) = \\alpha$, or it is slightly less than $\\alpha$. In this case, $a = 5$ and $b = 19$:"
   ]
  },
  {
   "cell_type": "code",
   "execution_count": 21,
   "metadata": {},
   "outputs": [
    {
     "data": {
      "text/html": [
       "'Area in rejection region: 0.043'"
      ],
      "text/latex": [
       "'Area in rejection region: 0.043'"
      ],
      "text/markdown": [
       "'Area in rejection region: 0.043'"
      ],
      "text/plain": [
       "[1] \"Area in rejection region: 0.043\""
      ]
     },
     "metadata": {},
     "output_type": "display_data"
    }
   ],
   "source": [
    "#Area in rejection region:\n",
    "rejection <- pbinom(5, n, .1) + pbinom(19-1, n, .1, lower.tail=FALSE) #P(Y <= 5) U P(Y >= 19)\n",
    "sprintf(\"Area in rejection region: %.3f\", rejection)"
   ]
  },
  {
   "cell_type": "markdown",
   "metadata": {},
   "source": [
    "We observe $y=11$, which lies inside the acceptance region $[6,18]$, and so the null hypothesis is accepted."
   ]
  },
  {
   "cell_type": "code",
   "execution_count": 22,
   "metadata": {},
   "outputs": [
    {
     "data": {
      "image/png": "[encoded data removed]",
      "text/plain": [
       "plot without title"
      ]
     },
     "metadata": {},
     "output_type": "display_data"
    }
   ],
   "source": [
    "rej.a <- 5\n",
    "rej.b <- 19\n",
    "\n",
    "limits <- c(4,20)\n",
    "colors <- rep('gray', limits[2] - limits[1] + 1)\n",
    "colors[y+1-limits[1]] <- 'coral'\n",
    "\n",
    "colors[seq(limits[1]:rej.a+ 1 - limits[1])] <- 'aquamarine3'\n",
    "colors[seq(rej.b, limits[2]) + 1 - limits[1]] <- 'aquamarine3'\n",
    "\n",
    "cols <- seq(from=limits[1], to=limits[2])\n",
    "barplot(dbinom(cols, n, 0.1), col = colors, names.arg = cols)\n",
    "abline(h = .05, col = 'red', lty = 3, lwd = 2) #Is this necessary?\n",
    "\n",
    "legend(\"topright\", c(\"Rejection region\", \"Observation\"), col=c(\"aquamarine3\", \"coral\"), pch=15, y.intersp=1.5)"
   ]
  },
  {
   "cell_type": "markdown",
   "metadata": {},
   "source": [
    "**Bayesian approach**\n",
    "\n",
    "$p=0.1$ falls into the previously computed 95% CI ($[0.050, 0.15]$), so the null hypothesis is accepted at a level of significance $5\\%$."
   ]
  },
  {
   "cell_type": "markdown",
   "metadata": {},
   "source": [
    "- A new measurement, performed one month later on $n=165$ water samples, gives $y=9$ high bacterium $X$ level. \n",
    "\n",
    "(e) Find the frequentist estimator for $p$"
   ]
  },
  {
   "cell_type": "markdown",
   "metadata": {},
   "source": [
    "As in the previous case, the frequentis estimator for a Binomial variable is:\n",
    "$$\\hat{p}_F = \\frac{y}{n} $$ "
   ]
  },
  {
   "cell_type": "code",
   "execution_count": 23,
   "metadata": {},
   "outputs": [
    {
     "data": {
      "text/html": [
       "'Frequentist estimate for p: 0.055'"
      ],
      "text/latex": [
       "'Frequentist estimate for p: 0.055'"
      ],
      "text/markdown": [
       "'Frequentist estimate for p: 0.055'"
      ],
      "text/plain": [
       "[1] \"Frequentist estimate for p: 0.055\""
      ]
     },
     "metadata": {},
     "output_type": "display_data"
    }
   ],
   "source": [
    "n2 <- 165\n",
    "y2 <- 9\n",
    "pF2 <- y2 / n2\n",
    "\n",
    "sprintf(\"Frequentist estimate for p: %.3f\", pF2)"
   ]
  },
  {
   "cell_type": "markdown",
   "metadata": {},
   "source": [
    "(f) Find a bayesian estimator for $p$, assuming both a `Beta(1,10)` prior for $p$, and assuming the posterior probability of the older measurement as the prior for the new one."
   ]
  },
  {
   "cell_type": "code",
   "execution_count": 24,
   "metadata": {},
   "outputs": [
    {
     "data": {
      "text/html": [
       "'Bayesian estimate with Beta(1,10) prior: 0.052'"
      ],
      "text/latex": [
       "'Bayesian estimate with Beta(1,10) prior: 0.052'"
      ],
      "text/markdown": [
       "'Bayesian estimate with Beta(1,10) prior: 0.052'"
      ],
      "text/plain": [
       "[1] \"Bayesian estimate with Beta(1,10) prior: 0.052\""
      ]
     },
     "metadata": {},
     "output_type": "display_data"
    }
   ],
   "source": [
    "#Beta(1,10) prior\n",
    "post_a.alpha <- 1 + y2\n",
    "post_a.beta  <- 10 + n2 - y2\n",
    "\n",
    "post_a.max <- beta_max(post_a.alpha, post_a.beta)\n",
    "\n",
    "sprintf(\"Bayesian estimate with Beta(1,10) prior: %.3f\", post_a.max)"
   ]
  },
  {
   "cell_type": "code",
   "execution_count": 25,
   "metadata": {},
   "outputs": [
    {
     "data": {
      "text/html": [
       "'Bayesian estimate with old posterior as prior: 0.069'"
      ],
      "text/latex": [
       "'Bayesian estimate with old posterior as prior: 0.069'"
      ],
      "text/markdown": [
       "'Bayesian estimate with old posterior as prior: 0.069'"
      ],
      "text/plain": [
       "[1] \"Bayesian estimate with old posterior as prior: 0.069\""
      ]
     },
     "metadata": {},
     "output_type": "display_data"
    }
   ],
   "source": [
    "#Old posterior as new prior\n",
    "post_b.alpha <- post.alpha + y2\n",
    "post_b.beta  <- post.beta + n2 - y2\n",
    "\n",
    "post_b.max <- beta_max(post_b.alpha, post_b.beta)\n",
    "\n",
    "sprintf(\"Bayesian estimate with old posterior as prior: %.3f\", post_b.max)"
   ]
  },
  {
   "cell_type": "markdown",
   "metadata": {},
   "source": [
    "(g) Find the bayesian estimator for $p$, the posterior mean and variance, and a $95\\%$ credibility interval."
   ]
  },
  {
   "cell_type": "code",
   "execution_count": 26,
   "metadata": {},
   "outputs": [
    {
     "data": {
      "text/html": [
       "'Posterior with Beta(1,10) prior: Mean is 0.057, Variance is 0.0003, 95% CI: [0.028, 0.095]'"
      ],
      "text/latex": [
       "'Posterior with Beta(1,10) prior: Mean is 0.057, Variance is 0.0003, 95\\% CI: {[}0.028, 0.095{]}'"
      ],
      "text/markdown": [
       "'Posterior with Beta(1,10) prior: Mean is 0.057, Variance is 0.0003, 95% CI: [0.028, 0.095]'"
      ],
      "text/plain": [
       "[1] \"Posterior with Beta(1,10) prior: Mean is 0.057, Variance is 0.0003, 95% CI: [0.028, 0.095]\""
      ]
     },
     "metadata": {},
     "output_type": "display_data"
    },
    {
     "data": {
      "text/html": [
       "'Posterior with old posterior as prior: Mean is 0.072, Variance is 0.0002, 95% CI: [0.045, 0.104]'"
      ],
      "text/latex": [
       "'Posterior with old posterior as prior: Mean is 0.072, Variance is 0.0002, 95\\% CI: {[}0.045, 0.104{]}'"
      ],
      "text/markdown": [
       "'Posterior with old posterior as prior: Mean is 0.072, Variance is 0.0002, 95% CI: [0.045, 0.104]'"
      ],
      "text/plain": [
       "[1] \"Posterior with old posterior as prior: Mean is 0.072, Variance is 0.0002, 95% CI: [0.045, 0.104]\""
      ]
     },
     "metadata": {},
     "output_type": "display_data"
    }
   ],
   "source": [
    "post_a.mean <- beta_mean(post_a.alpha, post_a.beta)\n",
    "post_a.variance <- beta_variance(post_a.alpha, post_a.beta)\n",
    "post_a.ci <- beta_CI(post_a.alpha, post_a.beta, 95)\n",
    "\n",
    "sprintf(\"Posterior with Beta(1,10) prior: Mean is %.3f, Variance is %.4f, 95%% CI: [%.3f, %.3f]\",\n",
    "        post_a.mean, post_a.variance, post_a.ci[1], post_a.ci[2])\n",
    "\n",
    "post_b.mean <- beta_mean(post_b.alpha, post_b.beta)\n",
    "post_b.variance <- beta_variance(post_b.alpha, post_b.beta)\n",
    "post_b.ci <- beta_CI(post_b.alpha, post_b.beta, 95)\n",
    "\n",
    "sprintf(\"Posterior with old posterior as prior: Mean is %.3f, Variance is %.4f, 95%% CI: [%.3f, %.3f]\",\n",
    "        post_b.mean, post_b.variance, post_b.ci[1], post_b.ci[2])"
   ]
  },
  {
   "cell_type": "markdown",
   "metadata": {},
   "source": [
    "(h) Test the hypothesis:\n",
    "$$ H_0 \\colon p=0.1 \\> \\mathrm{versus} \\> H_1\\colon p\\neq 0.1$$\n",
    "at a $5\\%$ level of significance with both the frequentist and bayesian approach."
   ]
  },
  {
   "cell_type": "markdown",
   "metadata": {},
   "source": [
    "**Frequentist approach**\n",
    "\n",
    "In this case, the rejection region is given by $Y \\leq 7$ and $Y \\geq 24$. As the observation is $y=9$, it still lies in the accepted region, and so $H_0$ is accepted."
   ]
  },
  {
   "cell_type": "code",
   "execution_count": 27,
   "metadata": {},
   "outputs": [
    {
     "data": {
      "text/html": [
       "'Area in rejection region: 0.045'"
      ],
      "text/latex": [
       "'Area in rejection region: 0.045'"
      ],
      "text/markdown": [
       "'Area in rejection region: 0.045'"
      ],
      "text/plain": [
       "[1] \"Area in rejection region: 0.045\""
      ]
     },
     "metadata": {},
     "output_type": "display_data"
    }
   ],
   "source": [
    "#Area in rejection region:\n",
    "rejection <- pbinom(7, n2, .1) + pbinom(24-1, n2, .1, lower.tail=FALSE) #P(Y <= 5) U P(Y >= 24)\n",
    "sprintf(\"Area in rejection region: %.3f\", rejection)"
   ]
  },
  {
   "cell_type": "code",
   "execution_count": 28,
   "metadata": {},
   "outputs": [
    {
     "data": {
      "image/png": "[encoded data removed]",
      "text/plain": [
       "plot without title"
      ]
     },
     "metadata": {},
     "output_type": "display_data"
    }
   ],
   "source": [
    "rej.a <- 7\n",
    "rej.b <- 24\n",
    "\n",
    "limits <- c(6,25)\n",
    "colors <- rep('gray', limits[2] - limits[1] + 1)\n",
    "colors[y2+1-limits[1]] <- 'coral'\n",
    "\n",
    "colors[seq(limits[1]:rej.a+ 1 - limits[1])] <- 'aquamarine3'\n",
    "colors[seq(rej.b, limits[2]) + 1 - limits[1]] <- 'aquamarine3'\n",
    "\n",
    "cols <- seq(from=limits[1], to=limits[2])\n",
    "barplot(dbinom(cols, n2, .1), col = colors, names.arg = cols)\n",
    "abline(h = .05, col = 'red', lty = 3, lwd = 2) #Is this necessary?\n",
    "\n",
    "legend(\"topright\", c(\"Rejection region\", \"Observation\"), col=c(\"aquamarine3\", \"coral\"), pch=15, y.intersp=1.5)"
   ]
  },
  {
   "cell_type": "markdown",
   "metadata": {},
   "source": [
    "**Bayesian approach**"
   ]
  },
  {
   "cell_type": "markdown",
   "metadata": {},
   "source": [
    "$p=0.1$ is *not* contained in the first CI ($[0.028, 0.095]$) with the `Beta(1,10)` prior, and so the null hypothesis is rejected. On the other hand, $p=0.1$ is contained in the second CI ($[0.045, 0.104]$) with the old posterior and so there the null hypothesis is accepted."
   ]
  }
 ],
 "metadata": {
  "kernelspec": {
   "display_name": "R",
   "language": "R",
   "name": "ir"
  },
  "language_info": {
   "codemirror_mode": "r",
   "file_extension": ".r",
   "mimetype": "text/x-r-source",
   "name": "R",
   "pygments_lexer": "r",
   "version": "3.6.1"
  }
 },
 "nbformat": 4,
 "nbformat_minor": 2
}
